{
 "cells": [
  {
   "cell_type": "code",
   "execution_count": 1,
   "id": "mediterranean-isaac",
   "metadata": {},
   "outputs": [],
   "source": [
    "import numpy as np\n",
    "import pandas as pd\n",
    "import seaborn as sns\n",
    "import matplotlib.pyplot as plt\n",
    "import scipy\n",
    "from sklearn.preprocessing import MinMaxScaler\n",
    "from sklearn.preprocessing import StandardScaler\n",
    "from sklearn.decomposition import PCA"
   ]
  },
  {
   "cell_type": "code",
   "execution_count": 2,
   "id": "elder-desperate",
   "metadata": {},
   "outputs": [],
   "source": [
    "sns.set(color_codes=True) # settings for seaborn plotting style\n",
    "sns.set(rc={'figure.figsize':(5,5)}) # settings for seaborn plot sizes"
   ]
  },
  {
   "cell_type": "markdown",
   "id": "proprietary-grave",
   "metadata": {},
   "source": [
    "##### Export the csv file"
   ]
  },
  {
   "cell_type": "code",
   "execution_count": 3,
   "id": "viral-yield",
   "metadata": {},
   "outputs": [],
   "source": [
    "df = pd.read_csv(\"./marketing_campaigns_test.csv\", index_col=0)"
   ]
  },
  {
   "cell_type": "markdown",
   "id": "negative-american",
   "metadata": {},
   "source": [
    "# Data information"
   ]
  },
  {
   "cell_type": "code",
   "execution_count": 4,
   "id": "competitive-methodology",
   "metadata": {},
   "outputs": [
    {
     "name": "stdout",
     "output_type": "stream",
     "text": [
      "Shape:  (14694, 18)\n"
     ]
    },
    {
     "data": {
      "text/html": [
       "<div>\n",
       "<style scoped>\n",
       "    .dataframe tbody tr th:only-of-type {\n",
       "        vertical-align: middle;\n",
       "    }\n",
       "\n",
       "    .dataframe tbody tr th {\n",
       "        vertical-align: top;\n",
       "    }\n",
       "\n",
       "    .dataframe thead th {\n",
       "        text-align: right;\n",
       "    }\n",
       "</style>\n",
       "<table border=\"1\" class=\"dataframe\">\n",
       "  <thead>\n",
       "    <tr style=\"text-align: right;\">\n",
       "      <th></th>\n",
       "      <th>status</th>\n",
       "      <th>age</th>\n",
       "      <th>n_child</th>\n",
       "      <th>education</th>\n",
       "      <th>profession</th>\n",
       "      <th>device</th>\n",
       "      <th>account_balance</th>\n",
       "      <th>loan</th>\n",
       "      <th>mortgage</th>\n",
       "      <th>credit</th>\n",
       "      <th>positive</th>\n",
       "      <th>campaign_type</th>\n",
       "      <th>n_contact</th>\n",
       "      <th>l_date</th>\n",
       "      <th>l_call_duration</th>\n",
       "      <th>p_outcome</th>\n",
       "      <th>n_p_contact</th>\n",
       "      <th>p_days</th>\n",
       "    </tr>\n",
       "    <tr>\n",
       "      <th>id</th>\n",
       "      <th></th>\n",
       "      <th></th>\n",
       "      <th></th>\n",
       "      <th></th>\n",
       "      <th></th>\n",
       "      <th></th>\n",
       "      <th></th>\n",
       "      <th></th>\n",
       "      <th></th>\n",
       "      <th></th>\n",
       "      <th></th>\n",
       "      <th></th>\n",
       "      <th></th>\n",
       "      <th></th>\n",
       "      <th></th>\n",
       "      <th></th>\n",
       "      <th></th>\n",
       "      <th></th>\n",
       "    </tr>\n",
       "  </thead>\n",
       "  <tbody>\n",
       "    <tr>\n",
       "      <th>512496</th>\n",
       "      <td>divorced</td>\n",
       "      <td>37</td>\n",
       "      <td>unknown</td>\n",
       "      <td>master</td>\n",
       "      <td>scientist</td>\n",
       "      <td>cellular</td>\n",
       "      <td>-12</td>\n",
       "      <td>False</td>\n",
       "      <td>True</td>\n",
       "      <td>False</td>\n",
       "      <td>False</td>\n",
       "      <td>phone call</td>\n",
       "      <td>2</td>\n",
       "      <td>04-Feb</td>\n",
       "      <td>32</td>\n",
       "      <td>unknown</td>\n",
       "      <td>0</td>\n",
       "      <td>-1</td>\n",
       "    </tr>\n",
       "    <tr>\n",
       "      <th>488528</th>\n",
       "      <td>married</td>\n",
       "      <td>46</td>\n",
       "      <td>unknown</td>\n",
       "      <td>bachelor</td>\n",
       "      <td>manager</td>\n",
       "      <td>unknown</td>\n",
       "      <td>-231</td>\n",
       "      <td>False</td>\n",
       "      <td>True</td>\n",
       "      <td>False</td>\n",
       "      <td>False</td>\n",
       "      <td>phone call</td>\n",
       "      <td>1</td>\n",
       "      <td>27-May</td>\n",
       "      <td>91</td>\n",
       "      <td>unknown</td>\n",
       "      <td>0</td>\n",
       "      <td>-1</td>\n",
       "    </tr>\n",
       "    <tr>\n",
       "      <th>499524</th>\n",
       "      <td>single</td>\n",
       "      <td>29</td>\n",
       "      <td>unknown</td>\n",
       "      <td>doctoral</td>\n",
       "      <td>manager</td>\n",
       "      <td>cellular</td>\n",
       "      <td>1867</td>\n",
       "      <td>False</td>\n",
       "      <td>False</td>\n",
       "      <td>False</td>\n",
       "      <td>True</td>\n",
       "      <td>phone call</td>\n",
       "      <td>3</td>\n",
       "      <td>28-Jul</td>\n",
       "      <td>42</td>\n",
       "      <td>unknown</td>\n",
       "      <td>0</td>\n",
       "      <td>-1</td>\n",
       "    </tr>\n",
       "    <tr>\n",
       "      <th>506539</th>\n",
       "      <td>married</td>\n",
       "      <td>46</td>\n",
       "      <td>unknown</td>\n",
       "      <td>unknown</td>\n",
       "      <td>unknown</td>\n",
       "      <td>unknown</td>\n",
       "      <td>619</td>\n",
       "      <td>False</td>\n",
       "      <td>False</td>\n",
       "      <td>False</td>\n",
       "      <td>True</td>\n",
       "      <td>phone call</td>\n",
       "      <td>1</td>\n",
       "      <td>13-Nov</td>\n",
       "      <td>652</td>\n",
       "      <td>unknown</td>\n",
       "      <td>0</td>\n",
       "      <td>-1</td>\n",
       "    </tr>\n",
       "    <tr>\n",
       "      <th>515863</th>\n",
       "      <td>married</td>\n",
       "      <td>31</td>\n",
       "      <td>unknown</td>\n",
       "      <td>doctoral</td>\n",
       "      <td>manager</td>\n",
       "      <td>cellular</td>\n",
       "      <td>-202</td>\n",
       "      <td>False</td>\n",
       "      <td>True</td>\n",
       "      <td>False</td>\n",
       "      <td>False</td>\n",
       "      <td>phone call</td>\n",
       "      <td>2</td>\n",
       "      <td>20-Apr</td>\n",
       "      <td>493</td>\n",
       "      <td>unknown</td>\n",
       "      <td>0</td>\n",
       "      <td>-1</td>\n",
       "    </tr>\n",
       "  </tbody>\n",
       "</table>\n",
       "</div>"
      ],
      "text/plain": [
       "          status  age  n_child education profession    device  \\\n",
       "id                                                              \n",
       "512496  divorced   37  unknown    master  scientist  cellular   \n",
       "488528   married   46  unknown  bachelor    manager   unknown   \n",
       "499524    single   29  unknown  doctoral    manager  cellular   \n",
       "506539   married   46  unknown   unknown    unknown   unknown   \n",
       "515863   married   31  unknown  doctoral    manager  cellular   \n",
       "\n",
       "        account_balance   loan  mortgage  credit  positive campaign_type  \\\n",
       "id                                                                         \n",
       "512496              -12  False      True   False     False    phone call   \n",
       "488528             -231  False      True   False     False    phone call   \n",
       "499524             1867  False     False   False      True    phone call   \n",
       "506539              619  False     False   False      True    phone call   \n",
       "515863             -202  False      True   False     False    phone call   \n",
       "\n",
       "        n_contact  l_date  l_call_duration p_outcome  n_p_contact  p_days  \n",
       "id                                                                         \n",
       "512496          2  04-Feb               32   unknown            0      -1  \n",
       "488528          1  27-May               91   unknown            0      -1  \n",
       "499524          3  28-Jul               42   unknown            0      -1  \n",
       "506539          1  13-Nov              652   unknown            0      -1  \n",
       "515863          2  20-Apr              493   unknown            0      -1  "
      ]
     },
     "execution_count": 4,
     "metadata": {},
     "output_type": "execute_result"
    }
   ],
   "source": [
    "print(\"Shape: \", df.shape)\n",
    "df.head()"
   ]
  },
  {
   "cell_type": "markdown",
   "id": "humanitarian-helen",
   "metadata": {},
   "source": [
    "We can see that we have unknown cells. We will change them to be NaN."
   ]
  },
  {
   "cell_type": "code",
   "execution_count": 5,
   "id": "delayed-fellowship",
   "metadata": {},
   "outputs": [],
   "source": [
    "df.replace('unknown',np.nan,inplace = True)"
   ]
  },
  {
   "cell_type": "code",
   "execution_count": 6,
   "id": "charming-stupid",
   "metadata": {
    "scrolled": false
   },
   "outputs": [
    {
     "name": "stdout",
     "output_type": "stream",
     "text": [
      "<class 'pandas.core.frame.DataFrame'>\n",
      "Int64Index: 14694 entries, 512496 to 487062\n",
      "Data columns (total 18 columns):\n",
      " #   Column           Non-Null Count  Dtype \n",
      "---  ------           --------------  ----- \n",
      " 0   status           14694 non-null  object\n",
      " 1   age              14694 non-null  int64 \n",
      " 2   n_child          4962 non-null   object\n",
      " 3   education        14081 non-null  object\n",
      " 4   profession       14599 non-null  object\n",
      " 5   device           10545 non-null  object\n",
      " 6   account_balance  14694 non-null  int64 \n",
      " 7   loan             14694 non-null  bool  \n",
      " 8   mortgage         14694 non-null  bool  \n",
      " 9   credit           14694 non-null  bool  \n",
      " 10  positive         14694 non-null  bool  \n",
      " 11  campaign_type    14694 non-null  object\n",
      " 12  n_contact        14694 non-null  int64 \n",
      " 13  l_date           14694 non-null  object\n",
      " 14  l_call_duration  14694 non-null  int64 \n",
      " 15  p_outcome        2678 non-null   object\n",
      " 16  n_p_contact      14694 non-null  int64 \n",
      " 17  p_days           14694 non-null  int64 \n",
      "dtypes: bool(4), int64(6), object(8)\n",
      "memory usage: 1.7+ MB\n"
     ]
    }
   ],
   "source": [
    "df.info()"
   ]
  },
  {
   "cell_type": "code",
   "execution_count": 7,
   "id": "hungarian-georgia",
   "metadata": {},
   "outputs": [],
   "source": [
    "data = df"
   ]
  },
  {
   "cell_type": "code",
   "execution_count": 8,
   "id": "contained-perspective",
   "metadata": {},
   "outputs": [],
   "source": [
    "num_col = data.describe().columns # to get the numeric column"
   ]
  },
  {
   "cell_type": "markdown",
   "id": "eleven-reunion",
   "metadata": {},
   "source": [
    "##### Split the data to numeric and nominal"
   ]
  },
  {
   "cell_type": "code",
   "execution_count": 9,
   "id": "prerequisite-homework",
   "metadata": {},
   "outputs": [],
   "source": [
    "num_data = data[num_col] # numeric data\n",
    "nom_data = data.drop(num_col, axis=1) # nominal data"
   ]
  },
  {
   "cell_type": "markdown",
   "id": "current-purse",
   "metadata": {},
   "source": [
    "# Data Statistics"
   ]
  },
  {
   "cell_type": "markdown",
   "id": "universal-professional",
   "metadata": {},
   "source": [
    "## Numerical data"
   ]
  },
  {
   "cell_type": "markdown",
   "id": "circular-yesterday",
   "metadata": {},
   "source": [
    "##### Statistic information:"
   ]
  },
  {
   "cell_type": "code",
   "execution_count": 10,
   "id": "aware-canadian",
   "metadata": {},
   "outputs": [
    {
     "data": {
      "text/html": [
       "<div>\n",
       "<style scoped>\n",
       "    .dataframe tbody tr th:only-of-type {\n",
       "        vertical-align: middle;\n",
       "    }\n",
       "\n",
       "    .dataframe tbody tr th {\n",
       "        vertical-align: top;\n",
       "    }\n",
       "\n",
       "    .dataframe thead th {\n",
       "        text-align: right;\n",
       "    }\n",
       "</style>\n",
       "<table border=\"1\" class=\"dataframe\">\n",
       "  <thead>\n",
       "    <tr style=\"text-align: right;\">\n",
       "      <th></th>\n",
       "      <th>age</th>\n",
       "      <th>account_balance</th>\n",
       "      <th>n_contact</th>\n",
       "      <th>l_call_duration</th>\n",
       "      <th>n_p_contact</th>\n",
       "      <th>p_days</th>\n",
       "    </tr>\n",
       "  </thead>\n",
       "  <tbody>\n",
       "    <tr>\n",
       "      <th>count</th>\n",
       "      <td>14694.000000</td>\n",
       "      <td>14694.000000</td>\n",
       "      <td>14694.000000</td>\n",
       "      <td>14694.000000</td>\n",
       "      <td>14694.000000</td>\n",
       "      <td>14694.000000</td>\n",
       "    </tr>\n",
       "    <tr>\n",
       "      <th>mean</th>\n",
       "      <td>41.066354</td>\n",
       "      <td>1251.406697</td>\n",
       "      <td>2.751872</td>\n",
       "      <td>236.687423</td>\n",
       "      <td>0.572751</td>\n",
       "      <td>39.942630</td>\n",
       "    </tr>\n",
       "    <tr>\n",
       "      <th>std</th>\n",
       "      <td>10.675256</td>\n",
       "      <td>2744.227475</td>\n",
       "      <td>3.123464</td>\n",
       "      <td>229.854476</td>\n",
       "      <td>1.878855</td>\n",
       "      <td>99.378735</td>\n",
       "    </tr>\n",
       "    <tr>\n",
       "      <th>min</th>\n",
       "      <td>18.000000</td>\n",
       "      <td>-3641.000000</td>\n",
       "      <td>1.000000</td>\n",
       "      <td>2.000000</td>\n",
       "      <td>0.000000</td>\n",
       "      <td>-1.000000</td>\n",
       "    </tr>\n",
       "    <tr>\n",
       "      <th>25%</th>\n",
       "      <td>33.000000</td>\n",
       "      <td>77.000000</td>\n",
       "      <td>1.000000</td>\n",
       "      <td>96.000000</td>\n",
       "      <td>0.000000</td>\n",
       "      <td>-1.000000</td>\n",
       "    </tr>\n",
       "    <tr>\n",
       "      <th>50%</th>\n",
       "      <td>39.000000</td>\n",
       "      <td>420.000000</td>\n",
       "      <td>2.000000</td>\n",
       "      <td>165.000000</td>\n",
       "      <td>0.000000</td>\n",
       "      <td>-1.000000</td>\n",
       "    </tr>\n",
       "    <tr>\n",
       "      <th>75%</th>\n",
       "      <td>49.000000</td>\n",
       "      <td>1328.000000</td>\n",
       "      <td>3.000000</td>\n",
       "      <td>295.000000</td>\n",
       "      <td>0.000000</td>\n",
       "      <td>-1.000000</td>\n",
       "    </tr>\n",
       "    <tr>\n",
       "      <th>max</th>\n",
       "      <td>94.000000</td>\n",
       "      <td>73094.000000</td>\n",
       "      <td>58.000000</td>\n",
       "      <td>3495.000000</td>\n",
       "      <td>38.000000</td>\n",
       "      <td>854.000000</td>\n",
       "    </tr>\n",
       "  </tbody>\n",
       "</table>\n",
       "</div>"
      ],
      "text/plain": [
       "                age  account_balance     n_contact  l_call_duration  \\\n",
       "count  14694.000000     14694.000000  14694.000000     14694.000000   \n",
       "mean      41.066354      1251.406697      2.751872       236.687423   \n",
       "std       10.675256      2744.227475      3.123464       229.854476   \n",
       "min       18.000000     -3641.000000      1.000000         2.000000   \n",
       "25%       33.000000        77.000000      1.000000        96.000000   \n",
       "50%       39.000000       420.000000      2.000000       165.000000   \n",
       "75%       49.000000      1328.000000      3.000000       295.000000   \n",
       "max       94.000000     73094.000000     58.000000      3495.000000   \n",
       "\n",
       "        n_p_contact        p_days  \n",
       "count  14694.000000  14694.000000  \n",
       "mean       0.572751     39.942630  \n",
       "std        1.878855     99.378735  \n",
       "min        0.000000     -1.000000  \n",
       "25%        0.000000     -1.000000  \n",
       "50%        0.000000     -1.000000  \n",
       "75%        0.000000     -1.000000  \n",
       "max       38.000000    854.000000  "
      ]
     },
     "execution_count": 10,
     "metadata": {},
     "output_type": "execute_result"
    }
   ],
   "source": [
    "num_data.describe()\n"
   ]
  },
  {
   "cell_type": "markdown",
   "id": "grand-register",
   "metadata": {},
   "source": [
    "##### Visualization of the numeric data"
   ]
  },
  {
   "cell_type": "code",
   "execution_count": 11,
   "id": "latest-explosion",
   "metadata": {},
   "outputs": [
    {
     "data": {
      "image/png": "[encoded data removed]",
      "text/plain": [
       "<Figure size 360x360 with 1 Axes>"
      ]
     },
     "metadata": {},
     "output_type": "display_data"
    },
    {
     "data": {
      "image/png": "[encoded data removed]",
      "text/plain": [
       "<Figure size 360x360 with 1 Axes>"
      ]
     },
     "metadata": {},
     "output_type": "display_data"
    },
    {
     "data": {
      "image/png": "[encoded data removed]",
      "text/plain": [
       "<Figure size 360x360 with 1 Axes>"
      ]
     },
     "metadata": {},
     "output_type": "display_data"
    },
    {
     "data": {
      "image/png": "[encoded data removed]",
      "text/plain": [
       "<Figure size 360x360 with 1 Axes>"
      ]
     },
     "metadata": {},
     "output_type": "display_data"
    },
    {
     "data": {
      "image/png": "[encoded data removed]",
      "text/plain": [
       "<Figure size 360x360 with 1 Axes>"
      ]
     },
     "metadata": {},
     "output_type": "display_data"
    },
    {
     "data": {
      "image/png": "[encoded data removed]",
      "text/plain": [
       "<Figure size 360x360 with 1 Axes>"
      ]
     },
     "metadata": {},
     "output_type": "display_data"
    }
   ],
   "source": [
    "for col in num_col:\n",
    "    if col == \"account_balance\":\n",
    "        sns.displot(num_data[col], bins=100, kde=True, color='green').set(xlim=[-10000,40000])\n",
    "    else:\n",
    "        sns.displot(num_data[col], bins=40, kde=True, color='green')\n",
    "       "
   ]
  },
  {
   "cell_type": "markdown",
   "id": "identical-nigeria",
   "metadata": {},
   "source": [
    "##### Skewness"
   ]
  },
  {
   "cell_type": "code",
   "execution_count": 12,
   "id": "posted-communication",
   "metadata": {},
   "outputs": [
    {
     "data": {
      "text/plain": [
       "0.6612542890214338"
      ]
     },
     "execution_count": 12,
     "metadata": {},
     "output_type": "execute_result"
    }
   ],
   "source": [
    "num_data['age'].skew(axis = 0, skipna = True)"
   ]
  },
  {
   "cell_type": "code",
   "execution_count": 13,
   "id": "vocational-asian",
   "metadata": {},
   "outputs": [
    {
     "data": {
      "text/plain": [
       "8.386762684095206"
      ]
     },
     "execution_count": 13,
     "metadata": {},
     "output_type": "execute_result"
    }
   ],
   "source": [
    "num_data['account_balance'].skew(axis = 0, skipna = True)"
   ]
  },
  {
   "cell_type": "code",
   "execution_count": 14,
   "id": "horizontal-traveler",
   "metadata": {},
   "outputs": [
    {
     "data": {
      "text/plain": [
       "5.1125139516575375"
      ]
     },
     "execution_count": 14,
     "metadata": {},
     "output_type": "execute_result"
    }
   ],
   "source": [
    "num_data['n_contact'].skew(axis = 0, skipna = True)"
   ]
  },
  {
   "cell_type": "code",
   "execution_count": 15,
   "id": "reverse-plymouth",
   "metadata": {},
   "outputs": [
    {
     "data": {
      "text/plain": [
       "2.796622982285915"
      ]
     },
     "execution_count": 15,
     "metadata": {},
     "output_type": "execute_result"
    }
   ],
   "source": [
    "num_data['l_call_duration'].skew(axis = 0, skipna = True)"
   ]
  },
  {
   "cell_type": "code",
   "execution_count": 16,
   "id": "boring-insulin",
   "metadata": {},
   "outputs": [
    {
     "data": {
      "text/plain": [
       "7.104028571972945"
      ]
     },
     "execution_count": 16,
     "metadata": {},
     "output_type": "execute_result"
    }
   ],
   "source": [
    "num_data['n_p_contact'].skew(axis = 0, skipna = True)"
   ]
  },
  {
   "cell_type": "code",
   "execution_count": 17,
   "id": "earlier-bahrain",
   "metadata": {},
   "outputs": [
    {
     "data": {
      "text/plain": [
       "2.6131514594801417"
      ]
     },
     "execution_count": 17,
     "metadata": {},
     "output_type": "execute_result"
    }
   ],
   "source": [
    "num_data['p_days'].skew(axis = 0, skipna = True)"
   ]
  },
  {
   "cell_type": "markdown",
   "id": "outdoor-recycling",
   "metadata": {},
   "source": [
    "##### Exploring the behavior of the numeric attributes according to the target values "
   ]
  },
  {
   "cell_type": "code",
   "execution_count": 18,
   "id": "becoming-suicide",
   "metadata": {},
   "outputs": [
    {
     "ename": "KeyError",
     "evalue": "'subscribed'",
     "output_type": "error",
     "traceback": [
      "\u001b[1;31m---------------------------------------------------------------------------\u001b[0m",
      "\u001b[1;31mKeyError\u001b[0m                                  Traceback (most recent call last)",
      "\u001b[1;32mc:\\users\\rotem\\appdata\\local\\programs\\python\\python39\\lib\\site-packages\\pandas\\core\\indexes\\base.py\u001b[0m in \u001b[0;36mget_loc\u001b[1;34m(self, key, method, tolerance)\u001b[0m\n\u001b[0;32m   3079\u001b[0m             \u001b[1;32mtry\u001b[0m\u001b[1;33m:\u001b[0m\u001b[1;33m\u001b[0m\u001b[1;33m\u001b[0m\u001b[0m\n\u001b[1;32m-> 3080\u001b[1;33m                 \u001b[1;32mreturn\u001b[0m \u001b[0mself\u001b[0m\u001b[1;33m.\u001b[0m\u001b[0m_engine\u001b[0m\u001b[1;33m.\u001b[0m\u001b[0mget_loc\u001b[0m\u001b[1;33m(\u001b[0m\u001b[0mcasted_key\u001b[0m\u001b[1;33m)\u001b[0m\u001b[1;33m\u001b[0m\u001b[1;33m\u001b[0m\u001b[0m\n\u001b[0m\u001b[0;32m   3081\u001b[0m             \u001b[1;32mexcept\u001b[0m \u001b[0mKeyError\u001b[0m \u001b[1;32mas\u001b[0m \u001b[0merr\u001b[0m\u001b[1;33m:\u001b[0m\u001b[1;33m\u001b[0m\u001b[1;33m\u001b[0m\u001b[0m\n",
      "\u001b[1;32mpandas\\_libs\\index.pyx\u001b[0m in \u001b[0;36mpandas._libs.index.IndexEngine.get_loc\u001b[1;34m()\u001b[0m\n",
      "\u001b[1;32mpandas\\_libs\\index.pyx\u001b[0m in \u001b[0;36mpandas._libs.index.IndexEngine.get_loc\u001b[1;34m()\u001b[0m\n",
      "\u001b[1;32mpandas\\_libs\\hashtable_class_helper.pxi\u001b[0m in \u001b[0;36mpandas._libs.hashtable.PyObjectHashTable.get_item\u001b[1;34m()\u001b[0m\n",
      "\u001b[1;32mpandas\\_libs\\hashtable_class_helper.pxi\u001b[0m in \u001b[0;36mpandas._libs.hashtable.PyObjectHashTable.get_item\u001b[1;34m()\u001b[0m\n",
      "\u001b[1;31mKeyError\u001b[0m: 'subscribed'",
      "\nThe above exception was the direct cause of the following exception:\n",
      "\u001b[1;31mKeyError\u001b[0m                                  Traceback (most recent call last)",
      "\u001b[1;32m<ipython-input-18-22492405ff6d>\u001b[0m in \u001b[0;36m<module>\u001b[1;34m\u001b[0m\n\u001b[1;32m----> 1\u001b[1;33m \u001b[0mg\u001b[0m \u001b[1;33m=\u001b[0m \u001b[0msns\u001b[0m\u001b[1;33m.\u001b[0m\u001b[0mFacetGrid\u001b[0m\u001b[1;33m(\u001b[0m\u001b[0mdf\u001b[0m\u001b[1;33m,\u001b[0m \u001b[0mcol\u001b[0m\u001b[1;33m=\u001b[0m\u001b[1;34m'subscribed'\u001b[0m\u001b[1;33m)\u001b[0m\u001b[1;33m\u001b[0m\u001b[1;33m\u001b[0m\u001b[0m\n\u001b[0m\u001b[0;32m      2\u001b[0m \u001b[0mg\u001b[0m\u001b[1;33m.\u001b[0m\u001b[0mmap\u001b[0m\u001b[1;33m(\u001b[0m\u001b[0mplt\u001b[0m\u001b[1;33m.\u001b[0m\u001b[0mhist\u001b[0m\u001b[1;33m,\u001b[0m \u001b[1;34m'age'\u001b[0m\u001b[1;33m,\u001b[0m \u001b[0mbins\u001b[0m\u001b[1;33m=\u001b[0m\u001b[1;36m40\u001b[0m\u001b[1;33m)\u001b[0m\u001b[1;33m\u001b[0m\u001b[1;33m\u001b[0m\u001b[0m\n\u001b[0;32m      3\u001b[0m \u001b[0mprint\u001b[0m\u001b[1;33m(\u001b[0m\u001b[1;34m\"Mean age of subscribed = Fale: \"\u001b[0m\u001b[1;33m+\u001b[0m\u001b[0mstr\u001b[0m\u001b[1;33m(\u001b[0m\u001b[0mdf\u001b[0m\u001b[1;33m.\u001b[0m\u001b[0mloc\u001b[0m\u001b[1;33m[\u001b[0m\u001b[0mdf\u001b[0m\u001b[1;33m[\u001b[0m\u001b[1;34m'subscribed'\u001b[0m\u001b[1;33m]\u001b[0m\u001b[1;33m==\u001b[0m\u001b[1;32mFalse\u001b[0m\u001b[1;33m,\u001b[0m\u001b[1;34m'age'\u001b[0m\u001b[1;33m]\u001b[0m\u001b[1;33m.\u001b[0m\u001b[0mmean\u001b[0m\u001b[1;33m(\u001b[0m\u001b[1;33m)\u001b[0m\u001b[1;33m)\u001b[0m\u001b[1;33m)\u001b[0m\u001b[1;33m\u001b[0m\u001b[1;33m\u001b[0m\u001b[0m\n\u001b[0;32m      4\u001b[0m \u001b[0mprint\u001b[0m\u001b[1;33m(\u001b[0m\u001b[1;34m\"Mean age of subscribed = True: \"\u001b[0m\u001b[1;33m+\u001b[0m \u001b[0mstr\u001b[0m\u001b[1;33m(\u001b[0m\u001b[0mdf\u001b[0m\u001b[1;33m.\u001b[0m\u001b[0mloc\u001b[0m\u001b[1;33m[\u001b[0m\u001b[0mdf\u001b[0m\u001b[1;33m[\u001b[0m\u001b[1;34m'subscribed'\u001b[0m\u001b[1;33m]\u001b[0m\u001b[1;33m==\u001b[0m\u001b[1;32mTrue\u001b[0m\u001b[1;33m,\u001b[0m\u001b[1;34m'age'\u001b[0m\u001b[1;33m]\u001b[0m\u001b[1;33m.\u001b[0m\u001b[0mmean\u001b[0m\u001b[1;33m(\u001b[0m\u001b[1;33m)\u001b[0m\u001b[1;33m)\u001b[0m\u001b[1;33m)\u001b[0m\u001b[1;33m\u001b[0m\u001b[1;33m\u001b[0m\u001b[0m\n\u001b[0;32m      5\u001b[0m \u001b[0mprint\u001b[0m\u001b[1;33m(\u001b[0m\u001b[1;34m\"Median age of subscribed = Fale: \"\u001b[0m\u001b[1;33m+\u001b[0m\u001b[0mstr\u001b[0m\u001b[1;33m(\u001b[0m\u001b[0mdf\u001b[0m\u001b[1;33m.\u001b[0m\u001b[0mloc\u001b[0m\u001b[1;33m[\u001b[0m\u001b[0mdf\u001b[0m\u001b[1;33m[\u001b[0m\u001b[1;34m'subscribed'\u001b[0m\u001b[1;33m]\u001b[0m\u001b[1;33m==\u001b[0m\u001b[1;32mFalse\u001b[0m\u001b[1;33m,\u001b[0m\u001b[1;34m'age'\u001b[0m\u001b[1;33m]\u001b[0m\u001b[1;33m.\u001b[0m\u001b[0mmedian\u001b[0m\u001b[1;33m(\u001b[0m\u001b[1;33m)\u001b[0m\u001b[1;33m)\u001b[0m\u001b[1;33m)\u001b[0m\u001b[1;33m\u001b[0m\u001b[1;33m\u001b[0m\u001b[0m\n",
      "\u001b[1;32mc:\\users\\rotem\\appdata\\local\\programs\\python\\python39\\lib\\site-packages\\seaborn\\_decorators.py\u001b[0m in \u001b[0;36minner_f\u001b[1;34m(*args, **kwargs)\u001b[0m\n\u001b[0;32m     44\u001b[0m             )\n\u001b[0;32m     45\u001b[0m         \u001b[0mkwargs\u001b[0m\u001b[1;33m.\u001b[0m\u001b[0mupdate\u001b[0m\u001b[1;33m(\u001b[0m\u001b[1;33m{\u001b[0m\u001b[0mk\u001b[0m\u001b[1;33m:\u001b[0m \u001b[0marg\u001b[0m \u001b[1;32mfor\u001b[0m \u001b[0mk\u001b[0m\u001b[1;33m,\u001b[0m \u001b[0marg\u001b[0m \u001b[1;32min\u001b[0m \u001b[0mzip\u001b[0m\u001b[1;33m(\u001b[0m\u001b[0msig\u001b[0m\u001b[1;33m.\u001b[0m\u001b[0mparameters\u001b[0m\u001b[1;33m,\u001b[0m \u001b[0margs\u001b[0m\u001b[1;33m)\u001b[0m\u001b[1;33m}\u001b[0m\u001b[1;33m)\u001b[0m\u001b[1;33m\u001b[0m\u001b[1;33m\u001b[0m\u001b[0m\n\u001b[1;32m---> 46\u001b[1;33m         \u001b[1;32mreturn\u001b[0m \u001b[0mf\u001b[0m\u001b[1;33m(\u001b[0m\u001b[1;33m**\u001b[0m\u001b[0mkwargs\u001b[0m\u001b[1;33m)\u001b[0m\u001b[1;33m\u001b[0m\u001b[1;33m\u001b[0m\u001b[0m\n\u001b[0m\u001b[0;32m     47\u001b[0m     \u001b[1;32mreturn\u001b[0m \u001b[0minner_f\u001b[0m\u001b[1;33m\u001b[0m\u001b[1;33m\u001b[0m\u001b[0m\n\u001b[0;32m     48\u001b[0m \u001b[1;33m\u001b[0m\u001b[0m\n",
      "\u001b[1;32mc:\\users\\rotem\\appdata\\local\\programs\\python\\python39\\lib\\site-packages\\seaborn\\axisgrid.py\u001b[0m in \u001b[0;36m__init__\u001b[1;34m(self, data, row, col, hue, col_wrap, sharex, sharey, height, aspect, palette, row_order, col_order, hue_order, hue_kws, dropna, legend_out, despine, margin_titles, xlim, ylim, subplot_kws, gridspec_kws, size)\u001b[0m\n\u001b[0;32m    334\u001b[0m             \u001b[0mcol_names\u001b[0m \u001b[1;33m=\u001b[0m \u001b[1;33m[\u001b[0m\u001b[1;33m]\u001b[0m\u001b[1;33m\u001b[0m\u001b[1;33m\u001b[0m\u001b[0m\n\u001b[0;32m    335\u001b[0m         \u001b[1;32melse\u001b[0m\u001b[1;33m:\u001b[0m\u001b[1;33m\u001b[0m\u001b[1;33m\u001b[0m\u001b[0m\n\u001b[1;32m--> 336\u001b[1;33m             \u001b[0mcol_names\u001b[0m \u001b[1;33m=\u001b[0m \u001b[0mcategorical_order\u001b[0m\u001b[1;33m(\u001b[0m\u001b[0mdata\u001b[0m\u001b[1;33m[\u001b[0m\u001b[0mcol\u001b[0m\u001b[1;33m]\u001b[0m\u001b[1;33m,\u001b[0m \u001b[0mcol_order\u001b[0m\u001b[1;33m)\u001b[0m\u001b[1;33m\u001b[0m\u001b[1;33m\u001b[0m\u001b[0m\n\u001b[0m\u001b[0;32m    337\u001b[0m \u001b[1;33m\u001b[0m\u001b[0m\n\u001b[0;32m    338\u001b[0m         \u001b[1;31m# Additional dict of kwarg -> list of values for mapping the hue var\u001b[0m\u001b[1;33m\u001b[0m\u001b[1;33m\u001b[0m\u001b[1;33m\u001b[0m\u001b[0m\n",
      "\u001b[1;32mc:\\users\\rotem\\appdata\\local\\programs\\python\\python39\\lib\\site-packages\\pandas\\core\\frame.py\u001b[0m in \u001b[0;36m__getitem__\u001b[1;34m(self, key)\u001b[0m\n\u001b[0;32m   3022\u001b[0m             \u001b[1;32mif\u001b[0m \u001b[0mself\u001b[0m\u001b[1;33m.\u001b[0m\u001b[0mcolumns\u001b[0m\u001b[1;33m.\u001b[0m\u001b[0mnlevels\u001b[0m \u001b[1;33m>\u001b[0m \u001b[1;36m1\u001b[0m\u001b[1;33m:\u001b[0m\u001b[1;33m\u001b[0m\u001b[1;33m\u001b[0m\u001b[0m\n\u001b[0;32m   3023\u001b[0m                 \u001b[1;32mreturn\u001b[0m \u001b[0mself\u001b[0m\u001b[1;33m.\u001b[0m\u001b[0m_getitem_multilevel\u001b[0m\u001b[1;33m(\u001b[0m\u001b[0mkey\u001b[0m\u001b[1;33m)\u001b[0m\u001b[1;33m\u001b[0m\u001b[1;33m\u001b[0m\u001b[0m\n\u001b[1;32m-> 3024\u001b[1;33m             \u001b[0mindexer\u001b[0m \u001b[1;33m=\u001b[0m \u001b[0mself\u001b[0m\u001b[1;33m.\u001b[0m\u001b[0mcolumns\u001b[0m\u001b[1;33m.\u001b[0m\u001b[0mget_loc\u001b[0m\u001b[1;33m(\u001b[0m\u001b[0mkey\u001b[0m\u001b[1;33m)\u001b[0m\u001b[1;33m\u001b[0m\u001b[1;33m\u001b[0m\u001b[0m\n\u001b[0m\u001b[0;32m   3025\u001b[0m             \u001b[1;32mif\u001b[0m \u001b[0mis_integer\u001b[0m\u001b[1;33m(\u001b[0m\u001b[0mindexer\u001b[0m\u001b[1;33m)\u001b[0m\u001b[1;33m:\u001b[0m\u001b[1;33m\u001b[0m\u001b[1;33m\u001b[0m\u001b[0m\n\u001b[0;32m   3026\u001b[0m                 \u001b[0mindexer\u001b[0m \u001b[1;33m=\u001b[0m \u001b[1;33m[\u001b[0m\u001b[0mindexer\u001b[0m\u001b[1;33m]\u001b[0m\u001b[1;33m\u001b[0m\u001b[1;33m\u001b[0m\u001b[0m\n",
      "\u001b[1;32mc:\\users\\rotem\\appdata\\local\\programs\\python\\python39\\lib\\site-packages\\pandas\\core\\indexes\\base.py\u001b[0m in \u001b[0;36mget_loc\u001b[1;34m(self, key, method, tolerance)\u001b[0m\n\u001b[0;32m   3080\u001b[0m                 \u001b[1;32mreturn\u001b[0m \u001b[0mself\u001b[0m\u001b[1;33m.\u001b[0m\u001b[0m_engine\u001b[0m\u001b[1;33m.\u001b[0m\u001b[0mget_loc\u001b[0m\u001b[1;33m(\u001b[0m\u001b[0mcasted_key\u001b[0m\u001b[1;33m)\u001b[0m\u001b[1;33m\u001b[0m\u001b[1;33m\u001b[0m\u001b[0m\n\u001b[0;32m   3081\u001b[0m             \u001b[1;32mexcept\u001b[0m \u001b[0mKeyError\u001b[0m \u001b[1;32mas\u001b[0m \u001b[0merr\u001b[0m\u001b[1;33m:\u001b[0m\u001b[1;33m\u001b[0m\u001b[1;33m\u001b[0m\u001b[0m\n\u001b[1;32m-> 3082\u001b[1;33m                 \u001b[1;32mraise\u001b[0m \u001b[0mKeyError\u001b[0m\u001b[1;33m(\u001b[0m\u001b[0mkey\u001b[0m\u001b[1;33m)\u001b[0m \u001b[1;32mfrom\u001b[0m \u001b[0merr\u001b[0m\u001b[1;33m\u001b[0m\u001b[1;33m\u001b[0m\u001b[0m\n\u001b[0m\u001b[0;32m   3083\u001b[0m \u001b[1;33m\u001b[0m\u001b[0m\n\u001b[0;32m   3084\u001b[0m         \u001b[1;32mif\u001b[0m \u001b[0mtolerance\u001b[0m \u001b[1;32mis\u001b[0m \u001b[1;32mnot\u001b[0m \u001b[1;32mNone\u001b[0m\u001b[1;33m:\u001b[0m\u001b[1;33m\u001b[0m\u001b[1;33m\u001b[0m\u001b[0m\n",
      "\u001b[1;31mKeyError\u001b[0m: 'subscribed'"
     ]
    }
   ],
   "source": [
    "g = sns.FacetGrid(df, col='subscribed')\n",
    "g.map(plt.hist, 'age', bins=40)\n",
    "print(\"Mean age of subscribed = Fale: \"+str(df.loc[df['subscribed']==False,'age'].mean()))\n",
    "print(\"Mean age of subscribed = True: \"+ str(df.loc[df['subscribed']==True,'age'].mean()))\n",
    "print(\"Median age of subscribed = Fale: \"+str(df.loc[df['subscribed']==False,'age'].median()))\n",
    "print(\"Median age of subscribed = True: \"+ str(df.loc[df['subscribed']==True,'age'].median()))"
   ]
  },
  {
   "cell_type": "code",
   "execution_count": null,
   "id": "boxed-shanghai",
   "metadata": {},
   "outputs": [],
   "source": [
    "g.map(plt.hist, 'l_call_duration', bins=40);\n",
    "print(\"Mean l_call_duration of subscribed = False: \"+ str(df.loc[df['subscribed']==False,'l_call_duration'].mean()))\n",
    "print(\"Mean l_call_duration of subscribed = True: \"+ str(df.loc[df['subscribed']==True,'l_call_duration'].mean()))\n",
    "print(\"Median l_call_duration of subscribed = False: \"+ str(df.loc[df['subscribed']==False,'l_call_duration'].median()))\n",
    "print(\"Median l_call_duration of subscribed = True: \"+ str(df.loc[df['subscribed']==True,'l_call_duration'].median()))"
   ]
  },
  {
   "cell_type": "code",
   "execution_count": null,
   "id": "artificial-phoenix",
   "metadata": {},
   "outputs": [],
   "source": [
    "g.map(plt.hist, 'account_balance', bins=40);\n",
    "print(\"Mean account_balance of subscribed = Fale: \"+str(df.loc[df['subscribed']==False,'account_balance'].mean()))\n",
    "print(\"Mean account_balance of subscribed = True: \"+ str(df.loc[df['subscribed']==True,'account_balance'].mean()))\n",
    "print(\"Median account_balance of subscribed = Fale: \"+str(df.loc[df['subscribed']==False,'account_balance'].median()))\n",
    "print(\"Median account_balance of subscribed = True: \"+ str(df.loc[df['subscribed']==True,'account_balance'].median()))"
   ]
  },
  {
   "cell_type": "code",
   "execution_count": null,
   "id": "dress-workplace",
   "metadata": {},
   "outputs": [],
   "source": [
    "g.map(plt.hist, 'n_contact', bins=40);\n",
    "print(\"Mean n_contact of subscribed = Fale: \"+str(df.loc[df['subscribed']==False,'n_contact'].mean()))\n",
    "print(\"Mean n_contact of subscribed = True: \"+ str(df.loc[df['subscribed']==True,'n_contact'].mean()))\n",
    "print(\"Median n_contact of subscribed = Fale: \"+str(df.loc[df['subscribed']==False,'n_contact'].median()))\n",
    "print(\"Median n_contact of subscribed = True: \"+ str(df.loc[df['subscribed']==True,'n_contact'].median()))"
   ]
  },
  {
   "cell_type": "code",
   "execution_count": null,
   "id": "trained-magnitude",
   "metadata": {},
   "outputs": [],
   "source": [
    "g.map(plt.hist, 'n_p_contact', bins=40);\n",
    "print(\"Mean n_p_contact of subscribed = Fale: \"+str(df.loc[df['subscribed']==False,'n_p_contact'].mean()))\n",
    "print(\"Mean n_p_contact of subscribed = True: \"+ str(df.loc[df['subscribed']==True,'n_p_contact'].mean()))\n",
    "print(\"Median n_p_contact of subscribed = Fale: \"+str(df.loc[df['subscribed']==False,'n_p_contact'].median()))\n",
    "print(\"Median n_p_contact of subscribed = True: \"+ str(df.loc[df['subscribed']==True,'n_p_contact'].median()))"
   ]
  },
  {
   "cell_type": "code",
   "execution_count": null,
   "id": "instrumental-camera",
   "metadata": {},
   "outputs": [],
   "source": [
    "g.map(plt.hist, 'p_days', bins=40);\n",
    "print(\"Mean p_days of subscribed = Fale: \"+str(df.loc[df['subscribed']==False,'p_days'].mean()))\n",
    "print(\"Mean p_days of subscribed = True: \"+ str(df.loc[df['subscribed']==True,'p_days'].mean()))\n",
    "print(\"Median p_days of subscribed = Fale: \"+str(df.loc[df['subscribed']==False,'p_days'].median()))\n",
    "print(\"Median p_days of subscribed = True: \"+ str(df.loc[df['subscribed']==True,'p_days'].median()))"
   ]
  },
  {
   "cell_type": "markdown",
   "id": "environmental-coast",
   "metadata": {},
   "source": [
    "## Nominal data"
   ]
  },
  {
   "cell_type": "code",
   "execution_count": null,
   "id": "plain-setup",
   "metadata": {},
   "outputs": [],
   "source": [
    "describe_df = nom_data.describe()\n",
    "# adding 'Precent of top value' row\n",
    "describe_df.loc['Precent of top value']=describe_df.apply(lambda x: np.round((x.loc['freq']/30517)*100,decimals=3))\n",
    "describe_df"
   ]
  },
  {
   "cell_type": "markdown",
   "id": "fantastic-explanation",
   "metadata": {},
   "source": [
    "##### Visualization of the nominal data"
   ]
  },
  {
   "cell_type": "code",
   "execution_count": null,
   "id": "comparative-border",
   "metadata": {},
   "outputs": [],
   "source": [
    "dist_col=['loan','mortgage','credit','positive','consent']\n",
    "for col in dist_col:\n",
    "    nom_data[col]=nom_data[col].replace({True: \"True\",False: \"False\"})"
   ]
  },
  {
   "cell_type": "code",
   "execution_count": null,
   "id": "large-teacher",
   "metadata": {},
   "outputs": [],
   "source": [
    "df['month_l_date'] = df['l_date'].str[3:]\n",
    "df['month_l_date'].unique()"
   ]
  },
  {
   "cell_type": "markdown",
   "id": "2699a94e",
   "metadata": {},
   "source": [
    "* As we can see the months are ok"
   ]
  },
  {
   "cell_type": "code",
   "execution_count": null,
   "id": "international-confirmation",
   "metadata": {
    "scrolled": false
   },
   "outputs": [],
   "source": [
    "dist_col = ['status','n_child', 'education', 'profession', 'device','loan','mortgage','credit','positive','consent','month_l_date','p_outcome']\n",
    "for col in dist_col:\n",
    "    if col == \"profession\":\n",
    "        plt.figure(figsize=(15,3))\n",
    "        sns.countplot(x='profession',data=df)\n",
    "    elif col == 'month_l_date':\n",
    "        plt.figure(figsize=(15,3))\n",
    "        sns.countplot(x='month_l_date',data=df)\n",
    "    else:\n",
    "        plt.figure(figsize=(6,3))\n",
    "        sns.countplot(x=col,data=df)\n",
    "        "
   ]
  },
  {
   "cell_type": "markdown",
   "id": "hearing-contract",
   "metadata": {},
   "source": [
    "##### Scatter Plot"
   ]
  },
  {
   "cell_type": "markdown",
   "id": "freelance-underwear",
   "metadata": {},
   "source": [
    "* Scatter plot on l_call_duration. Notice that as the call between 1000-2000 sec, more people subscribed."
   ]
  },
  {
   "cell_type": "code",
   "execution_count": null,
   "id": "wrapped-kuwait",
   "metadata": {},
   "outputs": [],
   "source": [
    "colordict = {False: 'yellow', True: 'blue'}\n",
    "\n",
    "plt.figure(figsize=(15, 6))\n",
    "plt.scatter(df.index,df['l_call_duration'], c = df['subscribed'].map(colordict))"
   ]
  },
  {
   "cell_type": "markdown",
   "id": "careful-vacation",
   "metadata": {},
   "source": [
    "## BoxPlot "
   ]
  },
  {
   "cell_type": "markdown",
   "id": "charitable-yahoo",
   "metadata": {},
   "source": [
    "#### Age vs Status"
   ]
  },
  {
   "cell_type": "code",
   "execution_count": null,
   "id": "compound-prince",
   "metadata": {},
   "outputs": [],
   "source": [
    "sns.set(rc={'figure.figsize':(5,8)})\n",
    "sns.boxplot(y=\"age\", x=\"status\", hue= \"subscribed\", data=df, palette=\"Set3\")"
   ]
  },
  {
   "cell_type": "markdown",
   "id": "658e5206",
   "metadata": {},
   "source": [
    "#### Age vs education"
   ]
  },
  {
   "cell_type": "code",
   "execution_count": null,
   "id": "periodic-desire",
   "metadata": {},
   "outputs": [],
   "source": [
    "sns.set(rc={'figure.figsize':(5,8)})\n",
    "sns.boxplot(y=\"age\", x=\"education\", hue= \"subscribed\", data=df, palette=\"Set3\")"
   ]
  },
  {
   "cell_type": "markdown",
   "id": "ecc14f57",
   "metadata": {},
   "source": [
    "#### l_call_duration vs education"
   ]
  },
  {
   "cell_type": "code",
   "execution_count": null,
   "id": "certain-practitioner",
   "metadata": {},
   "outputs": [],
   "source": [
    "sns.set(rc={'figure.figsize':(5,8)})\n",
    "sns.boxplot(y=\"l_call_duration\", x=\"education\", hue= \"subscribed\", data=df, palette=\"Set3\")\n"
   ]
  },
  {
   "cell_type": "markdown",
   "id": "2922b645",
   "metadata": {},
   "source": [
    "#### l_call_duration vs loan"
   ]
  },
  {
   "cell_type": "code",
   "execution_count": null,
   "id": "designing-savings",
   "metadata": {},
   "outputs": [],
   "source": [
    "sns.set(rc={'figure.figsize':(5,8)})\n",
    "sns.boxplot(y=\"l_call_duration\", x=\"loan\", hue= \"subscribed\", data=df, palette=\"Set3\")"
   ]
  },
  {
   "cell_type": "markdown",
   "id": "broken-butler",
   "metadata": {},
   "source": [
    "# Correlation of the data"
   ]
  },
  {
   "cell_type": "code",
   "execution_count": null,
   "id": "wired-resolution",
   "metadata": {},
   "outputs": [],
   "source": [
    "# using cat.codes to change the nominal codes\n",
    "df['status_cat'] = df['status'].astype('category').cat.codes\n",
    "df['n_child_cat'] = df['n_child'].astype('category').cat.codes\n",
    "df['education_cat'] = df['education'].astype('category').cat.codes\n",
    "df['profession_cat'] = df['profession'].astype('category').cat.codes\n",
    "df['device_cat'] = df['device'].astype('category').cat.codes\n",
    "df['month_l_date_cat'] = df['l_date'].astype('category').cat.codes\n",
    "df['p_outcome_cat'] = df['p_outcome'].astype('category').cat.codes\n",
    "# In the following analayz we saw that 100% of the campaign_type is phone call so we dont include it in the correlation"
   ]
  },
  {
   "cell_type": "code",
   "execution_count": null,
   "id": "precious-haiti",
   "metadata": {},
   "outputs": [],
   "source": [
    "df.corr()"
   ]
  },
  {
   "cell_type": "code",
   "execution_count": null,
   "id": "alert-platinum",
   "metadata": {},
   "outputs": [],
   "source": [
    "# heat map\n",
    "plt.figure(figsize=(14,10))\n",
    "sns.heatmap(df.corr(), annot = True, vmin=-1, vmax=1, center= 0,\n",
    "            cmap= 'coolwarm', linewidths=0.5, linecolor='black', cbar_kws= {'orientation': 'horizontal'})"
   ]
  },
  {
   "cell_type": "markdown",
   "id": "terminal-retailer",
   "metadata": {},
   "source": [
    "# Data Cleaning"
   ]
  },
  {
   "cell_type": "markdown",
   "id": "interior-medicine",
   "metadata": {},
   "source": [
    "### Pre- Processing"
   ]
  },
  {
   "cell_type": "code",
   "execution_count": null,
   "id": "popular-cologne",
   "metadata": {},
   "outputs": [],
   "source": [
    "df[df.isnull().sum(axis=1)>4] # checking which lines have more then 4 miss values"
   ]
  },
  {
   "cell_type": "code",
   "execution_count": null,
   "id": "individual-retailer",
   "metadata": {},
   "outputs": [],
   "source": [
    "df[df.isnull().sum(axis=1)>5] # checking which lines have more then 5 miss values"
   ]
  },
  {
   "cell_type": "markdown",
   "id": "signed-administrator",
   "metadata": {},
   "source": [
    "We can see that the maximum missing values in a line is 4."
   ]
  },
  {
   "cell_type": "markdown",
   "id": "dominant-polyester",
   "metadata": {},
   "source": [
    "## N_child"
   ]
  },
  {
   "cell_type": "code",
   "execution_count": null,
   "id": "hidden-minnesota",
   "metadata": {
    "scrolled": true
   },
   "outputs": [],
   "source": [
    "df[df['n_child'].isnull()] # check how many rows has n_child null values"
   ]
  },
  {
   "cell_type": "code",
   "execution_count": null,
   "id": "01e3d2cf",
   "metadata": {},
   "outputs": [],
   "source": [
    "df_new = df[df['n_child'].notna()]"
   ]
  },
  {
   "cell_type": "code",
   "execution_count": null,
   "id": "fd797872",
   "metadata": {},
   "outputs": [],
   "source": [
    "# heat map\n",
    "plt.figure(figsize=(14,10))\n",
    "sns.heatmap(df_new.corr(), annot = True, vmin=-1, vmax=1, center= 0,\n",
    "            cmap= 'coolwarm', linewidths=0.5, linecolor='black', cbar_kws= {'orientation': 'horizontal'})"
   ]
  },
  {
   "cell_type": "code",
   "execution_count": null,
   "id": "4ca4df8b",
   "metadata": {},
   "outputs": [],
   "source": [
    "df.drop('n_child', inplace=True, axis=1)\n",
    "df.drop('n_child_cat', inplace=True, axis=1)"
   ]
  },
  {
   "cell_type": "markdown",
   "id": "female-radar",
   "metadata": {},
   "source": [
    "## Education"
   ]
  },
  {
   "cell_type": "code",
   "execution_count": null,
   "id": "considered-award",
   "metadata": {},
   "outputs": [],
   "source": [
    "df[df['education'].isnull()] # check how many rows has education null values"
   ]
  },
  {
   "cell_type": "markdown",
   "id": "colonial-table",
   "metadata": {},
   "source": [
    "##### Filling missing values using similarity between objects"
   ]
  },
  {
   "cell_type": "code",
   "execution_count": null,
   "id": "trying-embassy",
   "metadata": {},
   "outputs": [],
   "source": [
    "education_miss = df[df['education'].isnull()].drop(['status','education','profession','device','month_l_date','l_date','p_outcome','campaign_type'], axis = 1)\n",
    "education_exist = df[df['education'].notnull()].drop(['status','education','profession','device','month_l_date','l_date','p_outcome','campaign_type'], axis = 1)"
   ]
  },
  {
   "cell_type": "code",
   "execution_count": null,
   "id": "logical-starter",
   "metadata": {},
   "outputs": [],
   "source": [
    "ary = scipy.spatial.distance.cdist(education_miss, education_exist, metric='euclidean')"
   ]
  },
  {
   "cell_type": "code",
   "execution_count": null,
   "id": "intimate-elizabeth",
   "metadata": {},
   "outputs": [],
   "source": [
    "df.groupby(['education','education_cat']).size()"
   ]
  },
  {
   "cell_type": "code",
   "execution_count": null,
   "id": "gorgeous-being",
   "metadata": {},
   "outputs": [],
   "source": [
    "df['education_Pre_Proc'] = df['education']\n",
    "for i,j in enumerate(education_miss.index):\n",
    "    value= int(df.loc[education_exist[ary[i]==ary[i].min()].index]['education_cat'].mean())\n",
    "    if value == 0:\n",
    "        df.loc[j,'education_Pre_Proc'] = 'bachelor'\n",
    "    elif value == 1:\n",
    "        df.loc[j,'education_Pre_Proc'] = 'doctoral'\n",
    "    else:\n",
    "        df.loc[j,'education_Pre_Proc'] = 'master'"
   ]
  },
  {
   "cell_type": "code",
   "execution_count": null,
   "id": "previous-copyright",
   "metadata": {},
   "outputs": [],
   "source": [
    "df['education_Pre_Proc']"
   ]
  },
  {
   "cell_type": "code",
   "execution_count": null,
   "id": "marked-egypt",
   "metadata": {},
   "outputs": [],
   "source": [
    "plt.figure(figsize=(6,3))\n",
    "sns.countplot(x='education_Pre_Proc',data=df)"
   ]
  },
  {
   "cell_type": "markdown",
   "id": "treated-mouth",
   "metadata": {},
   "source": [
    "## Profession"
   ]
  },
  {
   "cell_type": "code",
   "execution_count": null,
   "id": "applied-suicide",
   "metadata": {},
   "outputs": [],
   "source": [
    "df[df['profession'].isnull()] # check how many rows has profession null values"
   ]
  },
  {
   "cell_type": "markdown",
   "id": "statewide-feedback",
   "metadata": {},
   "source": [
    "##### Filling missing values by median.\n",
    "There are only 193 missing values\n",
    "\n",
    "It is 0.63% of the data.\n",
    "\n",
    "It is small quantity then we fill it with the median"
   ]
  },
  {
   "cell_type": "code",
   "execution_count": null,
   "id": "subsequent-crystal",
   "metadata": {},
   "outputs": [],
   "source": [
    "df.groupby(['profession','profession_cat']).size()"
   ]
  },
  {
   "cell_type": "code",
   "execution_count": null,
   "id": "realistic-bundle",
   "metadata": {},
   "outputs": [],
   "source": [
    "df['profession_Pre_Proc'] = df['profession_cat']\n",
    "df['profession_Pre_Proc'].replace(-1,np.nan,inplace = True)"
   ]
  },
  {
   "cell_type": "code",
   "execution_count": null,
   "id": "introductory-effects",
   "metadata": {},
   "outputs": [],
   "source": [
    "df['profession_Pre_Proc'].median()"
   ]
  },
  {
   "cell_type": "code",
   "execution_count": null,
   "id": "287a630b",
   "metadata": {},
   "outputs": [],
   "source": [
    "df['profession_Pre_Proc'].mean()"
   ]
  },
  {
   "cell_type": "code",
   "execution_count": null,
   "id": "based-laser",
   "metadata": {},
   "outputs": [],
   "source": [
    "#Filling the null values with the median\n",
    "df['profession_Pre_Proc'] = df['profession_Pre_Proc'].fillna(value=df['profession_Pre_Proc'].median()) "
   ]
  },
  {
   "cell_type": "code",
   "execution_count": null,
   "id": "naked-honduras",
   "metadata": {},
   "outputs": [],
   "source": [
    "# Changing the cat.codes back to the origin code:\n",
    "for i, row in df.iterrows():\n",
    "    if df.loc[i,'profession_Pre_Proc'] == 0.0:\n",
    "        df.loc[i,'profession_Pre_Proc'] = 'accountant'\n",
    "    elif df.loc[i,'profession_Pre_Proc'] == 1.0:\n",
    "        df.loc[i,'profession_Pre_Proc'] = 'architect'\n",
    "    elif df.loc[i,'profession_Pre_Proc'] == 2.0:\n",
    "        df.loc[i,'profession_Pre_Proc'] = 'engineer'\n",
    "    elif df.loc[i,'profession_Pre_Proc'] == 3.0:\n",
    "        df.loc[i,'profession_Pre_Proc'] = 'manager'\n",
    "    elif df.loc[i,'profession_Pre_Proc'] == 4.0:\n",
    "        df.loc[i,'profession_Pre_Proc'] = 'retired'\n",
    "    elif df.loc[i,'profession_Pre_Proc'] == 5.0:\n",
    "        df.loc[i,'profession_Pre_Proc'] = 'scientist'\n",
    "    elif df.loc[i,'profession_Pre_Proc'] == 6.0:\n",
    "        df.loc[i,'profession_Pre_Proc'] = 'self-employed'\n",
    "    elif df.loc[i,'profession_Pre_Proc'] == 7.0:\n",
    "        df.loc[i,'profession_Pre_Proc'] = 'student'\n",
    "    elif df.loc[i,'profession_Pre_Proc'] == 8.0:\n",
    "        df.loc[i,'profession_Pre_Proc'] = 'teacher'\n",
    "    elif df.loc[i,'profession_Pre_Proc'] == 9.0:\n",
    "        df.loc[i,'profession_Pre_Proc'] = 'technician'\n",
    "    else:\n",
    "        df.loc[i,'profession_Pre_Proc'] = 'unemployed'"
   ]
  },
  {
   "cell_type": "code",
   "execution_count": null,
   "id": "informative-malawi",
   "metadata": {},
   "outputs": [],
   "source": [
    "df['profession_Pre_Proc']"
   ]
  },
  {
   "cell_type": "code",
   "execution_count": null,
   "id": "understood-cheese",
   "metadata": {},
   "outputs": [],
   "source": [
    "plt.figure(figsize=(15,3))\n",
    "sns.countplot(x='profession_Pre_Proc',data=df)"
   ]
  },
  {
   "cell_type": "markdown",
   "id": "caring-employment",
   "metadata": {},
   "source": [
    "## Device\n",
    "Filling the null values with the majority value (cellular) "
   ]
  },
  {
   "cell_type": "code",
   "execution_count": null,
   "id": "directed-allowance",
   "metadata": {},
   "outputs": [],
   "source": [
    "df[df['device'].isnull()] # check how many rows has device null values"
   ]
  },
  {
   "cell_type": "code",
   "execution_count": null,
   "id": "fixed-spectrum",
   "metadata": {},
   "outputs": [],
   "source": [
    "plt.figure(figsize=(6,3))\n",
    "sns.countplot(x='device',data=df)\n",
    "print(\"cellular percentage of all the data is: \" + str(np.round((df['device'].value_counts()['cellular']/30517)*100))+\"%\")"
   ]
  },
  {
   "cell_type": "markdown",
   "id": "matched-filling",
   "metadata": {},
   "source": [
    "We can see that 65% of all the values in device row is 'cellular'.\n",
    "\n",
    "So cellular is the majority of the value.\n",
    "\n",
    "Then we decided that will change the NaN cells to be 'cellular'."
   ]
  },
  {
   "cell_type": "code",
   "execution_count": null,
   "id": "satisfactory-essex",
   "metadata": {},
   "outputs": [],
   "source": [
    "df['device_Pre_Proc'] = df['device'].fillna('cellular')"
   ]
  },
  {
   "cell_type": "code",
   "execution_count": null,
   "id": "altered-eclipse",
   "metadata": {},
   "outputs": [],
   "source": [
    "df['device_Pre_Proc']"
   ]
  },
  {
   "cell_type": "code",
   "execution_count": null,
   "id": "suspended-colorado",
   "metadata": {},
   "outputs": [],
   "source": [
    "plt.figure(figsize=(6,3))\n",
    "sns.countplot(x='device_Pre_Proc',data=df)"
   ]
  },
  {
   "cell_type": "markdown",
   "id": "upset-apache",
   "metadata": {},
   "source": [
    "## P_outcome"
   ]
  },
  {
   "cell_type": "code",
   "execution_count": null,
   "id": "periodic-founder",
   "metadata": {},
   "outputs": [],
   "source": [
    "df[df['p_outcome'].isnull()]"
   ]
  },
  {
   "cell_type": "code",
   "execution_count": null,
   "id": "chief-bible",
   "metadata": {},
   "outputs": [],
   "source": [
    "#printing correlation to subscribed (target value)\n",
    "df['p_outcome_cat'].corr(df['subscribed'])"
   ]
  },
  {
   "cell_type": "markdown",
   "id": "mathematical-money",
   "metadata": {},
   "source": [
    "We can see that we have correlation to the target value. (relatively high as other attributes)\n",
    "\n",
    "Then, althogh alot of data is missing, we don't want to delete this attribule."
   ]
  },
  {
   "cell_type": "code",
   "execution_count": null,
   "id": "wound-praise",
   "metadata": {},
   "outputs": [],
   "source": [
    "#printing correlation to p_days\n",
    "df['p_outcome_cat'].corr(df['p_days'])"
   ]
  },
  {
   "cell_type": "code",
   "execution_count": null,
   "id": "sophisticated-lighting",
   "metadata": {},
   "outputs": [],
   "source": [
    "df.groupby(['p_outcome_cat','p_days']).size()"
   ]
  },
  {
   "cell_type": "markdown",
   "id": "referenced-workplace",
   "metadata": {},
   "source": [
    "We can see that almost all the missing values (24940 of 24943) are values that for them p_days == -1.\n",
    "\n",
    "Then we understand that those cell are people that didn't participate in the previous campain.\n",
    "\n",
    "Then we will mark this null value as - \"missVal\""
   ]
  },
  {
   "cell_type": "code",
   "execution_count": null,
   "id": "included-sunglasses",
   "metadata": {},
   "outputs": [],
   "source": [
    "df['p_outcome_Pre_Proc'] = df['p_outcome']"
   ]
  },
  {
   "cell_type": "code",
   "execution_count": null,
   "id": "welsh-haven",
   "metadata": {},
   "outputs": [],
   "source": [
    "df['p_outcome_Pre_Proc'] = df['p_outcome'].fillna('missVal')"
   ]
  },
  {
   "cell_type": "code",
   "execution_count": null,
   "id": "fiscal-disorder",
   "metadata": {},
   "outputs": [],
   "source": [
    "plt.figure(figsize=(6,3))\n",
    "sns.countplot(x='p_outcome_Pre_Proc',data=df)"
   ]
  },
  {
   "cell_type": "markdown",
   "id": "02ec977a",
   "metadata": {},
   "source": [
    "## Outliers"
   ]
  },
  {
   "cell_type": "markdown",
   "id": "85171c0b",
   "metadata": {},
   "source": [
    "#### n_p_contact"
   ]
  },
  {
   "cell_type": "code",
   "execution_count": null,
   "id": "6b21e5ba",
   "metadata": {},
   "outputs": [],
   "source": [
    "df[df['n_p_contact'] > 15]"
   ]
  },
  {
   "cell_type": "code",
   "execution_count": null,
   "id": "2e59c5f7",
   "metadata": {},
   "outputs": [],
   "source": [
    "# Only 419 rows has n_p_contact > 15\n",
    "# Replace this values with 15\n",
    "df.loc[df['n_p_contact'] > 15,'n_p_contact'] = 15\n",
    "sns.displot(df['n_p_contact'], bins=40, kde=True, color='green')"
   ]
  },
  {
   "cell_type": "markdown",
   "id": "5219a1ba",
   "metadata": {},
   "source": [
    "#### n_contact"
   ]
  },
  {
   "cell_type": "code",
   "execution_count": null,
   "id": "14ce7d9d",
   "metadata": {},
   "outputs": [],
   "source": [
    "df[df['n_contact'] > 20]"
   ]
  },
  {
   "cell_type": "code",
   "execution_count": null,
   "id": "6b980a1c",
   "metadata": {},
   "outputs": [],
   "source": [
    "# Only 166 rows has n_contact > 20\n",
    "# Replace this values with 20\n",
    "df.loc[df['n_contact'] > 20,'n_contact'] = 20\n",
    "sns.displot(df['n_contact'], bins=40, kde=True, color='green')"
   ]
  },
  {
   "cell_type": "markdown",
   "id": "32b10f46",
   "metadata": {},
   "source": [
    "#### p_days"
   ]
  },
  {
   "cell_type": "code",
   "execution_count": null,
   "id": "6858fa8d",
   "metadata": {},
   "outputs": [],
   "source": [
    "df[df['p_days'] > 400]"
   ]
  },
  {
   "cell_type": "code",
   "execution_count": null,
   "id": "a0a76ad5",
   "metadata": {},
   "outputs": [],
   "source": [
    "# Only 164 rows has p_days > 400\n",
    "# Replace this values with 400\n",
    "df.loc[df['p_days'] > 400,'p_days'] = 400\n",
    "sns.displot(df['p_days'], bins=40, kde=True, color='green')"
   ]
  },
  {
   "cell_type": "markdown",
   "id": "8647e393",
   "metadata": {},
   "source": [
    "#### l_call_duration"
   ]
  },
  {
   "cell_type": "code",
   "execution_count": null,
   "id": "ccedc8dc",
   "metadata": {},
   "outputs": [],
   "source": [
    "df[df['l_call_duration'] > 1500]"
   ]
  },
  {
   "cell_type": "code",
   "execution_count": null,
   "id": "14970c32",
   "metadata": {},
   "outputs": [],
   "source": [
    "# Only 91 rows has l_call_duration > 1500\n",
    "# Replace this values with 1500\n",
    "df.loc[df['l_call_duration'] > 1500,'l_call_duration'] = 1500\n",
    "sns.displot(df['l_call_duration'], bins=40, kde=True, color='green')"
   ]
  },
  {
   "cell_type": "markdown",
   "id": "22702705",
   "metadata": {},
   "source": [
    "### Deletion of irrelevant features"
   ]
  },
  {
   "cell_type": "code",
   "execution_count": null,
   "id": "608ee626",
   "metadata": {},
   "outputs": [],
   "source": [
    "df.drop('consent', inplace=True, axis=1)\n",
    "df.drop('campaign_type', inplace=True, axis=1)"
   ]
  },
  {
   "cell_type": "markdown",
   "id": "5f7f527d",
   "metadata": {},
   "source": [
    "# Data reduction"
   ]
  },
  {
   "cell_type": "markdown",
   "id": "4e59099f",
   "metadata": {},
   "source": [
    "## PCA"
   ]
  },
  {
   "cell_type": "code",
   "execution_count": null,
   "id": "cf6228be",
   "metadata": {},
   "outputs": [],
   "source": [
    "df1 = df[['age', 'n_p_contact','p_days','n_contact', 'account_balance', 'l_call_duration', 'status_cat', 'education_cat',\n",
    "             'profession_cat', 'device_cat', 'month_l_date_cat', 'p_outcome_cat']]\n",
    "df1.head()"
   ]
  },
  {
   "cell_type": "code",
   "execution_count": null,
   "id": "1ff37b32",
   "metadata": {
    "scrolled": true
   },
   "outputs": [],
   "source": [
    "pca = PCA(n_components = 0.999, svd_solver = 'full') \n",
    "pca.fit(df1, y='subscribed')\n",
    "df2 = pca.transform(df1)\n",
    "pca.explained_variance_ratio_"
   ]
  },
  {
   "cell_type": "code",
   "execution_count": null,
   "id": "9ed3b9fd",
   "metadata": {},
   "outputs": [],
   "source": [
    "df_pca = pd.DataFrame(pca.transform(df1))\n",
    "df_pca.head()"
   ]
  },
  {
   "cell_type": "markdown",
   "id": "394e99fe",
   "metadata": {},
   "source": [
    "# Data transformation"
   ]
  },
  {
   "cell_type": "markdown",
   "id": "48cb4888",
   "metadata": {},
   "source": [
    "## Discretization"
   ]
  },
  {
   "cell_type": "markdown",
   "id": "f84ea1de",
   "metadata": {},
   "source": [
    "#### Reduce the profession feature and create a new column isEmployed"
   ]
  },
  {
   "cell_type": "code",
   "execution_count": null,
   "id": "cf00a4cc",
   "metadata": {},
   "outputs": [],
   "source": [
    "df['isEmployed'] = df['profession']"
   ]
  },
  {
   "cell_type": "code",
   "execution_count": null,
   "id": "e4224da6",
   "metadata": {},
   "outputs": [],
   "source": [
    "for i, row in df.iterrows():\n",
    "    if df.loc[i,'isEmployed'] != 'unemployed' and df.loc[i,'isEmployed'] != 'student':\n",
    "        df.loc[i,'isEmployed'] = 'employed'"
   ]
  },
  {
   "cell_type": "code",
   "execution_count": null,
   "id": "7468c1ec",
   "metadata": {},
   "outputs": [],
   "source": [
    "df['isEmployed_cat'] = df['isEmployed'].astype('category').cat.codes\n",
    "plt.figure(figsize=(6,3))\n",
    "sns.countplot(x='isEmployed',data=df)"
   ]
  },
  {
   "cell_type": "markdown",
   "id": "d6c79484",
   "metadata": {},
   "source": [
    "#### Age"
   ]
  },
  {
   "cell_type": "code",
   "execution_count": null,
   "id": "c9b60f0a",
   "metadata": {},
   "outputs": [],
   "source": [
    "df.loc[df['age'] <= 20, 'age_bin'] = 0\n",
    "df.loc[(df['age'] > 20) & (df['age'] <= 40), 'age_bin'] = 1\n",
    "df.loc[(df['age'] > 40) & (df['age'] <= 60), 'age_bin'] = 2\n",
    "df.loc[(df['age'] > 60) & (df['age'] <= 80), 'age_bin'] = 3\n",
    "df.loc[ df['age'] > 80, 'age_bin'] = 4"
   ]
  },
  {
   "cell_type": "code",
   "execution_count": null,
   "id": "9597a443",
   "metadata": {},
   "outputs": [],
   "source": [
    "plt.figure(figsize=(6,3))\n",
    "sns.countplot(x=\"age_bin\",data=df)"
   ]
  },
  {
   "cell_type": "markdown",
   "id": "456fa3e2",
   "metadata": {},
   "source": [
    "#### Account_balance"
   ]
  },
  {
   "cell_type": "code",
   "execution_count": null,
   "id": "cfbbbb5a",
   "metadata": {},
   "outputs": [],
   "source": [
    "df.loc[df['account_balance'] <= 0, 'account_balance_bin'] = -1\n",
    "df.loc[(df['account_balance'] > 0) & (df['account_balance'] <= 1000), 'account_balance_bin'] = 1\n",
    "df.loc[(df['account_balance'] > 1000) & (df['account_balance'] <= 5000) , 'account_balance_bin'] = 2\n",
    "df.loc[(df['account_balance'] > 5000) & (df['account_balance'] <= 10000) , 'account_balance_bin'] = 3\n",
    "df.loc[(df['account_balance'] > 10000) , 'account_balance_bin'] = 4"
   ]
  },
  {
   "cell_type": "code",
   "execution_count": null,
   "id": "a58db73f",
   "metadata": {},
   "outputs": [],
   "source": [
    "plt.figure(figsize=(6,3))\n",
    "sns.countplot(x=\"account_balance_bin\",data=df)"
   ]
  },
  {
   "cell_type": "markdown",
   "id": "0cf0c56e",
   "metadata": {},
   "source": [
    "### MinMax normalization"
   ]
  },
  {
   "cell_type": "code",
   "execution_count": null,
   "id": "89b0f6ff",
   "metadata": {},
   "outputs": [],
   "source": [
    "df['education_Pre_Proc_cat'] = df['education_Pre_Proc'].astype('category').cat.codes\n",
    "df['profession_Pre_Proc_cat'] = df['profession_Pre_Proc'].astype('category').cat.codes\n",
    "df['device_Pre_Proc_cat'] = df['device_Pre_Proc'].astype('category').cat.codes\n",
    "df['p_outcome_Pre_Proc_cat'] = df['p_outcome_Pre_Proc'].astype('category').cat.codes\n",
    "\n",
    "dist_col = ['age', 'n_p_contact','p_days','n_contact', 'account_balance', 'l_call_duration', 'status_cat', 'education_Pre_Proc_cat',\n",
    "             'profession_Pre_Proc_cat', 'device_Pre_Proc_cat', 'month_l_date_cat', 'p_outcome_Pre_Proc_cat']\n",
    "\n",
    "for col in dist_col:\n",
    "    scaler = MinMaxScaler()\n",
    "    scaler.fit(pd.DataFrame(df[col]))\n",
    "    df[col+'_min_max'] = scaler.transform(pd.DataFrame(df[col]))\n",
    "    sns.displot(df[col+'_min_max'], bins=20, kde=True, color='skyblue')\n"
   ]
  },
  {
   "cell_type": "code",
   "execution_count": null,
   "id": "resistant-amount",
   "metadata": {},
   "outputs": [],
   "source": []
  },
  {
   "cell_type": "code",
   "execution_count": null,
   "id": "sharing-guide",
   "metadata": {},
   "outputs": [],
   "source": [
    "dist_col=['loan','mortgage','credit','positive']\n",
    "for col in dist_col:\n",
    "    df[col]=df[col].replace({True: 1,False: 0})"
   ]
  },
  {
   "cell_type": "code",
   "execution_count": null,
   "id": "eight-aberdeen",
   "metadata": {},
   "outputs": [],
   "source": [
    "num_col_export = df.describe().columns # to get the numeric column"
   ]
  },
  {
   "cell_type": "code",
   "execution_count": null,
   "id": "vital-liability",
   "metadata": {},
   "outputs": [],
   "source": [
    "num_data_export = df[num_col_export] # numeric data"
   ]
  },
  {
   "cell_type": "code",
   "execution_count": null,
   "id": "first-henry",
   "metadata": {},
   "outputs": [],
   "source": [
    "num_data_export['subscribed'] = df['subscribed']"
   ]
  },
  {
   "cell_type": "code",
   "execution_count": null,
   "id": "authorized-karaoke",
   "metadata": {},
   "outputs": [],
   "source": [
    "num_data_export['subscribed'] = df['subscribed'].replace({True: 1,False: 0})"
   ]
  },
  {
   "cell_type": "code",
   "execution_count": null,
   "id": "communist-press",
   "metadata": {},
   "outputs": [],
   "source": [
    "num_data_export.to_excel(\"marketing_campaigns_test_after_pre_proc.xlsx\", sheet_name='sheet1')"
   ]
  },
  {
   "cell_type": "code",
   "execution_count": null,
   "id": "accomplished-travel",
   "metadata": {},
   "outputs": [],
   "source": []
  },
  {
   "cell_type": "code",
   "execution_count": null,
   "id": "meaningful-equilibrium",
   "metadata": {},
   "outputs": [],
   "source": []
  }
 ],
 "metadata": {
  "kernelspec": {
   "display_name": "Python 3",
   "language": "python",
   "name": "python3"
  },
  "language_info": {
   "codemirror_mode": {
    "name": "ipython",
    "version": 3
   },
   "file_extension": ".py",
   "mimetype": "text/x-python",
   "name": "python",
   "nbconvert_exporter": "python",
   "pygments_lexer": "ipython3",
   "version": "3.9.0"
  }
 },
 "nbformat": 4,
 "nbformat_minor": 5
}

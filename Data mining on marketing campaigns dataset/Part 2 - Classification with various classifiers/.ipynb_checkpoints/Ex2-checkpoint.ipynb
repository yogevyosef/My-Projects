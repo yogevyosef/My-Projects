{
 "cells": [
  {
   "cell_type": "code",
   "execution_count": 247,
   "id": "wrapped-cholesterol",
   "metadata": {},
   "outputs": [],
   "source": [
    "# numpy pandas matplotlib\n",
    "\n",
    "import numpy as np\n",
    "import pandas as pd\n",
    "import matplotlib.pyplot as plt\n",
    "\n",
    "# import for Decision Tree\n",
    "from sklearn.tree import DecisionTreeClassifier \n",
    "\n",
    "# import for Random forest\n",
    "from sklearn.ensemble import RandomForestClassifier\n",
    "\n",
    "# import for KNN\n",
    "from sklearn.neighbors import KNeighborsClassifier\n",
    "\n",
    "# imports for Naive Bayes classifier\n",
    "from sklearn.naive_bayes import GaussianNB \n",
    "from sklearn.naive_bayes import MultinomialNB\n",
    "from sklearn.naive_bayes import ComplementNB\n",
    "from sklearn.naive_bayes import BernoulliNB\n",
    "from sklearn.naive_bayes import CategoricalNB\n",
    "\n",
    "from sklearn.model_selection import train_test_split \n",
    "from sklearn import metrics  \n",
    "from sklearn.metrics import confusion_matrix\n",
    "from sklearn.model_selection import KFold\n",
    "from sklearn import svm\n",
    "from sklearn.model_selection import RandomizedSearchCV\n",
    "from sklearn.model_selection import GridSearchCV\n",
    "\n",
    "from sklearn.tree import export_graphviz\n",
    "from IPython.display import Image  \n",
    "import pydotplus\n",
    "import os"
   ]
  },
  {
   "cell_type": "code",
   "execution_count": 248,
   "id": "center-outdoors",
   "metadata": {},
   "outputs": [],
   "source": [
    "# Class for printing with underline, colors and bold\n",
    "class bcolors:\n",
    "    HEADER = '\\033[95m'\n",
    "    OKCYAN = '\\033[96m'\n",
    "    ENDC = '\\033[0m'\n",
    "    BOLD = '\\033[1m'\n",
    "    UNDERLINE = '\\033[4m'"
   ]
  },
  {
   "cell_type": "code",
   "execution_count": 249,
   "id": "d58e02ef",
   "metadata": {},
   "outputs": [],
   "source": [
    "# create folders\n",
    "directory = \"Decision Tree\"\n",
    "parent_dir = \"./\"\n",
    "path = os.path.join(parent_dir, directory)\n",
    "if not os.path.exists(directory): \n",
    "    os.mkdir(path)\n",
    "    \n",
    "directory = \"Best Params\"\n",
    "parent_dir = \"./\"\n",
    "path = os.path.join(parent_dir, directory)\n",
    "if not os.path.exists(directory): \n",
    "    os.mkdir(path)"
   ]
  },
  {
   "cell_type": "code",
   "execution_count": 250,
   "id": "761767ea",
   "metadata": {},
   "outputs": [],
   "source": [
    "# import csv file\n",
    "df = pd.read_csv(\"./marketing_campaigns_train_after_pre_proc.csv\", index_col=0)"
   ]
  },
  {
   "cell_type": "code",
   "execution_count": 251,
   "id": "53a10462",
   "metadata": {},
   "outputs": [],
   "source": [
    "df_classifier = df.copy()\n",
    "l = ['age', 'account_balance', 'n_contact', 'p_days','l_call_duration','n_p_contact','p_days','status_cat','education_cat',\n",
    "    'profession_cat', 'device_cat', 'month_l_date_cat', 'p_outcome_cat','age_bin','account_balance_bin',\n",
    "    'education_Pre_Proc_cat','profession_Pre_Proc_cat','device_Pre_Proc_cat', 'p_outcome_Pre_Proc_cat']\n",
    "\n",
    "df_classifier.drop(l, axis='columns', inplace=True)"
   ]
  },
  {
   "cell_type": "code",
   "execution_count": 252,
   "id": "0bec6f5f",
   "metadata": {},
   "outputs": [
    {
     "name": "stdout",
     "output_type": "stream",
     "text": [
      "<class 'pandas.core.frame.DataFrame'>\n",
      "Int64Index: 30517 entries, 512491 to 516748\n",
      "Data columns (total 18 columns):\n",
      " #   Column                           Non-Null Count  Dtype  \n",
      "---  ------                           --------------  -----  \n",
      " 0   loan                             30517 non-null  int64  \n",
      " 1   mortgage                         30517 non-null  int64  \n",
      " 2   credit                           30517 non-null  int64  \n",
      " 3   positive                         30517 non-null  int64  \n",
      " 4   isEmployed_cat                   30517 non-null  int64  \n",
      " 5   age_min_max                      30517 non-null  float64\n",
      " 6   n_p_contact_min_max              30517 non-null  float64\n",
      " 7   p_days_min_max                   30517 non-null  float64\n",
      " 8   n_contact_min_max                30517 non-null  float64\n",
      " 9   account_balance_min_max          30517 non-null  float64\n",
      " 10  l_call_duration_min_max          30517 non-null  float64\n",
      " 11  status_cat_min_max               30517 non-null  float64\n",
      " 12  education_Pre_Proc_cat_min_max   30517 non-null  float64\n",
      " 13  profession_Pre_Proc_cat_min_max  30517 non-null  float64\n",
      " 14  device_Pre_Proc_cat_min_max      30517 non-null  int64  \n",
      " 15  month_l_date_cat_min_max         30517 non-null  float64\n",
      " 16  p_outcome_Pre_Proc_cat_min_max   30517 non-null  float64\n",
      " 17  subscribed                       30517 non-null  int64  \n",
      "dtypes: float64(11), int64(7)\n",
      "memory usage: 4.4 MB\n"
     ]
    }
   ],
   "source": [
    "df_classifier.info()"
   ]
  },
  {
   "cell_type": "code",
   "execution_count": 253,
   "id": "67d16af7",
   "metadata": {},
   "outputs": [],
   "source": [
    "# Split the data to features and target\n",
    "X = df_classifier.drop('subscribed', axis=1)\n",
    "y = df_classifier['subscribed']"
   ]
  },
  {
   "cell_type": "code",
   "execution_count": 254,
   "id": "passing-hanging",
   "metadata": {},
   "outputs": [],
   "source": [
    "# Split the data to train and test\n",
    "X_train, X_test, y_train, y_test = train_test_split(X, y, test_size=0.25) "
   ]
  },
  {
   "cell_type": "markdown",
   "id": "aquatic-tomorrow",
   "metadata": {},
   "source": [
    "# <font color = 'red'> Decision Tree </font> "
   ]
  },
  {
   "cell_type": "code",
   "execution_count": 269,
   "id": "attended-plane",
   "metadata": {},
   "outputs": [],
   "source": [
    "# open the file Best_DT \n",
    "f_r = open(\"./Best Params/Best_DT.txt\", \"r\")\n",
    "Lines = f_r.read().splitlines()\n",
    "f_r.close()\n",
    "best_DT = []\n",
    "for line in Lines:\n",
    "    best_DT.append(line)"
   ]
  },
  {
   "cell_type": "code",
   "execution_count": 270,
   "id": "bizarre-falls",
   "metadata": {},
   "outputs": [
    {
     "data": {
      "text/plain": [
       "['90.29', 'gini', '3', '2', '4']"
      ]
     },
     "execution_count": 270,
     "metadata": {},
     "output_type": "execute_result"
    }
   ],
   "source": [
    "best_DT"
   ]
  },
  {
   "cell_type": "markdown",
   "id": "signal-discretion",
   "metadata": {},
   "source": [
    "### Find the hyperparameters "
   ]
  },
  {
   "cell_type": "markdown",
   "id": "02aa2a56",
   "metadata": {},
   "source": [
    "#### Randomized Search"
   ]
  },
  {
   "cell_type": "code",
   "execution_count": 256,
   "id": "successful-noise",
   "metadata": {},
   "outputs": [
    {
     "name": "stdout",
     "output_type": "stream",
     "text": [
      "Fitting 10 folds for each of 200 candidates, totalling 2000 fits\n"
     ]
    }
   ],
   "source": [
    "dt = DecisionTreeClassifier(splitter='best',random_state=42)\n",
    "\n",
    "criterion= ['gini','entropy']\n",
    "\n",
    "max_depth = [k for k in range(2,50)]\n",
    "\n",
    "min_samples_split = [2,3,4,10,50,100,150,200,250,300,350,400]\n",
    "\n",
    "min_samples_leaf = [2,3,4,10,50,100,150,200,250,300,350,400]\n",
    "\n",
    "random_grid = {\n",
    "               'criterion': criterion, \n",
    "               'max_depth': max_depth,\n",
    "               'min_samples_split': min_samples_split,\n",
    "               'min_samples_leaf': min_samples_leaf,\n",
    "               }\n",
    "dt_random = RandomizedSearchCV(estimator = dt, param_distributions = random_grid, n_iter = 200,cv = 10,\n",
    "                               verbose = 2, random_state = 42, n_jobs = -1)\n",
    "dt_random.fit(X_train, y_train)\n",
    "parameters = dt_random.best_params_"
   ]
  },
  {
   "cell_type": "markdown",
   "id": "fbef9fce",
   "metadata": {},
   "source": [
    "#### Grid Search"
   ]
  },
  {
   "cell_type": "code",
   "execution_count": 257,
   "id": "annoying-monitor",
   "metadata": {},
   "outputs": [
    {
     "name": "stdout",
     "output_type": "stream",
     "text": [
      "Fitting 10 folds for each of 64 candidates, totalling 640 fits\n"
     ]
    },
    {
     "data": {
      "text/plain": [
       "{'criterion': 'gini',\n",
       " 'max_depth': 3,\n",
       " 'min_samples_leaf': 4,\n",
       " 'min_samples_split': 2}"
      ]
     },
     "execution_count": 257,
     "metadata": {},
     "output_type": "execute_result"
    }
   ],
   "source": [
    "dt = DecisionTreeClassifier(splitter='best',random_state=42)\n",
    "criterion = [parameters['criterion']]\n",
    "\n",
    "if parameters['max_depth'] > 2 :\n",
    "    max_depth = [parameters['max_depth'] - 1 , parameters['max_depth'], parameters['max_depth'] + 2,parameters['max_depth']+3]\n",
    "else:\n",
    "    max_depth = [parameters['max_depth'], parameters['max_depth'] + 2,parameters['max_depth']+3]\n",
    "\n",
    "\n",
    "min_samples_split = [parameters['min_samples_split'],parameters['min_samples_split']+1,parameters['min_samples_split']+2,\n",
    "                    parameters['min_samples_split']+3]\n",
    "\n",
    "min_samples_leaf = [parameters['min_samples_leaf'],parameters['min_samples_leaf']+1,parameters['min_samples_leaf']+2,\n",
    "                   parameters['min_samples_leaf']+3]\n",
    "\n",
    "param_grid = {\n",
    "               'criterion': criterion, \n",
    "               'max_depth': max_depth,\n",
    "               'min_samples_split': min_samples_split,\n",
    "               'min_samples_leaf': min_samples_leaf,\n",
    "               }\n",
    "dt_grid_search = GridSearchCV(estimator = dt, param_grid = param_grid, cv = 10, n_jobs = -1, verbose = 2, scoring = 'accuracy')\n",
    "dt_grid_search.fit(X_train, y_train)\n",
    "parameters_dt = dt_grid_search.best_params_\n",
    "parameters_dt"
   ]
  },
  {
   "cell_type": "markdown",
   "id": "adc39e8c",
   "metadata": {},
   "source": [
    "#### Save the best parameters"
   ]
  },
  {
   "cell_type": "code",
   "execution_count": 276,
   "id": "trying-turkish",
   "metadata": {},
   "outputs": [
    {
     "name": "stdout",
     "output_type": "stream",
     "text": [
      "\u001b[96maccuracy after that train:\u001b[0m  90.29 %\n",
      "DecisionTreeClassifier(max_depth=3, min_samples_leaf=4, random_state=42)\n"
     ]
    }
   ],
   "source": [
    "accuracy = round((dt_grid_search.best_score_)*100,2)\n",
    "print(bcolors.OKCYAN + 'accuracy after that train:'+ bcolors.ENDC + \" \", accuracy ,\"%\")\n",
    "if accuracy > float(best_DT[0]):\n",
    "    f_w = open(\"./Best Params/Best_DT.txt\", \"w\")\n",
    "    f_w.write(str(accuracy)+'\\n')\n",
    "    f_w.write(str(parameters_dt['criterion']) + '\\n')\n",
    "    f_w.write(str(parameters_dt['max_depth']) + '\\n')\n",
    "    f_w.write(str(parameters_dt['min_samples_split']) + '\\n')\n",
    "    f_w.write(str(parameters_dt['min_samples_leaf']))\n",
    "    f_w.close()\n",
    "\n",
    "else:\n",
    "    accuracy = float(best_DT[0])\n",
    "    parameters_dt['criterion'] = best_DT[1]\n",
    "    parameters_dt['max_depth'] = int(best_DT[2])\n",
    "    parameters_dt['min_samples_split'] = int(best_DT[3])\n",
    "    parameters_dt['min_samples_leaf'] = int(best_DT[4])\n",
    "\n",
    "    \n",
    "dt = DecisionTreeClassifier(criterion=parameters_dt['criterion'], splitter='best', \n",
    "                          max_depth=parameters_dt['max_depth'], min_samples_split=parameters_dt['min_samples_split'],\n",
    "                            min_samples_leaf=parameters_dt['min_samples_leaf'], random_state=42)\n",
    "dt.fit(X_train, y_train)\n",
    "print(dt)"
   ]
  },
  {
   "cell_type": "markdown",
   "id": "viral-couple",
   "metadata": {},
   "source": [
    "# <font color = 'red'> Random Forest </font> "
   ]
  },
  {
   "cell_type": "code",
   "execution_count": 13,
   "id": "hairy-launch",
   "metadata": {},
   "outputs": [],
   "source": [
    "# open the file Best_RF \n",
    "f_r = open(\"./Best Params/Best_RF.txt\", \"r\")\n",
    "Lines = f_r.read().splitlines()\n",
    "f_r.close()\n",
    "best_RF = []\n",
    "for line in Lines:\n",
    "    best_RF.append(line)"
   ]
  },
  {
   "cell_type": "markdown",
   "id": "a2508314",
   "metadata": {},
   "source": [
    "#### Randomized Search"
   ]
  },
  {
   "cell_type": "code",
   "execution_count": null,
   "id": "unique-tuning",
   "metadata": {},
   "outputs": [
    {
     "name": "stdout",
     "output_type": "stream",
     "text": [
      "Fitting 10 folds for each of 200 candidates, totalling 2000 fits\n"
     ]
    }
   ],
   "source": [
    "rf = RandomForestClassifier(random_state = 42)\n",
    "n_estimators = [int(x) for x in np.linspace(start = 100, stop = 1000, num = 10)]\n",
    "\n",
    "max_features = ['auto', 'log2', 2, 5, 8]\n",
    "\n",
    "max_depth = [int(x) for x in np.linspace(5, 50, num = 10)]\n",
    "max_depth.append(None)\n",
    "\n",
    "min_samples_split = [1, 2, 5, 10, 15, 20]\n",
    "\n",
    "min_samples_leaf = [1, 2, 5, 10]\n",
    "\n",
    "max_samples = [0.1, 0.3, 0.5, 0.7, 0.9]\n",
    "\n",
    "random_grid = {'n_estimators': n_estimators,\n",
    "               'max_features': max_features,\n",
    "               'max_depth': max_depth,\n",
    "               'min_samples_split': min_samples_split,\n",
    "               'min_samples_leaf': min_samples_leaf,\n",
    "               'max_samples': max_samples}\n",
    "rf_random = RandomizedSearchCV(estimator = rf, param_distributions = random_grid, n_iter = 200, cv = 10,\n",
    "                               verbose = 2, random_state = 42, n_jobs = -1)\n",
    "\n",
    "rf_random.fit(X_train, y_train)"
   ]
  },
  {
   "cell_type": "markdown",
   "id": "9c121051",
   "metadata": {},
   "source": [
    "#### Grid Search"
   ]
  },
  {
   "cell_type": "code",
   "execution_count": null,
   "id": "extended-catalyst",
   "metadata": {},
   "outputs": [],
   "source": [
    "parameters_RF = rf_random.best_params_\n",
    "\n",
    "n_estimators = [parameters_RF['n_estimators']]\n",
    "\n",
    "max_features = [parameters_RF['max_features']]\n",
    "\n",
    "if parameters_RF['max_depth'] != None :\n",
    "    max_depth = [parameters_RF['max_depth'], parameters_RF['max_depth'] + 1, parameters_RF['max_depth'] + 2]\n",
    "else:\n",
    "    max_depth = [None]    \n",
    "\n",
    "min_samples_split = [parameters_RF['min_samples_split'] ,parameters_RF['min_samples_split']+1,\n",
    "                     parameters_RF['min_samples_split']+2]\n",
    "\n",
    "min_samples_leaf = [parameters_RF['min_samples_leaf'],parameters_RF['min_samples_leaf']+1,\n",
    "                    parameters_RF['min_samples_leaf']+2]\n",
    "\n",
    "max_samples = [parameters_RF['max_samples'],parameters_RF['max_samples']+0.1,parameters_RF['max_samples']+0.2]\n",
    "\n",
    "random_grid = {'n_estimators': n_estimators,\n",
    "               'max_features': max_features,\n",
    "               'max_depth': max_depth,\n",
    "               'min_samples_split': min_samples_split,\n",
    "               'min_samples_leaf': min_samples_leaf,\n",
    "               'max_samples': max_samples}\n",
    "grid_search_RF = GridSearchCV(estimator = rf, param_grid = random_grid , cv = 10, n_jobs = -1, verbose = 2,scoring='accuracy')\n",
    "grid_search_RF.fit(X_train, y_train)\n",
    "grid_search_RF.best_params_"
   ]
  },
  {
   "cell_type": "markdown",
   "id": "dcc96508",
   "metadata": {},
   "source": [
    "#### Save the best parameters"
   ]
  },
  {
   "cell_type": "code",
   "execution_count": null,
   "id": "changed-stick",
   "metadata": {},
   "outputs": [],
   "source": [
    "parameters_RF = grid_search_RF.best_params_\n",
    "rf_accuracy = grid_search_RF.best_score_\n",
    "accuracy = round(rf_accuracy*100,2)\n",
    "print(bcolors.OKCYAN + 'accuracy after that train:'+ bcolors.ENDC + \" \", accuracy ,\"%\")\n",
    "if accuracy > float(best_RF[0]):\n",
    "    f_w = open(\"./Best Params/Best_RF.txt\", \"w\")\n",
    "    f_w.write(str(accuracy)+'\\n')\n",
    "    f_w.write(str(parameters_RF['max_depth']) + '\\n')\n",
    "    f_w.write(str(parameters_RF['max_features']) + '\\n')\n",
    "    f_w.write(str(parameters_RF['max_samples']) + '\\n')\n",
    "    f_w.write(str(parameters_RF['min_samples_leaf']))\n",
    "    f_w.write(str(parameters_RF['min_samples_split']))\n",
    "    f_w.write(str(parameters_RF['n_estimators']))\n",
    "    f_w.close()\n",
    "\n",
    "else:\n",
    "    accuracy = float(best_RF[0])\n",
    "    parameters_RF['max_depth'] = best_RF[1]\n",
    "    parameters_RF['max_features'] = int(best_RF[2])\n",
    "    parameters_RF['max_samples'] = int(best_RF[3])\n",
    "    parameters_RF['min_samples_leaf'] = int(best_RF[4])\n",
    "    parameters_RF['min_samples_split'] = int(best_RF[5])\n",
    "    parameters_RF['n_estimators'] = int(best_RF[6])\n",
    "\n",
    "    \n",
    "rf = RandomForestClassifier(max_depth = parameters_RF['max_depth'],max_features = parameters_RF['max_features'],\n",
    "                            max_samples=parameters_RF['max_samples'] ,min_samples_leaf= parameters_RF['min_samples_leaf'],\n",
    "                            min_samples_split= parameters_RF['min_samples_split'],n_estimators= parameters_RF['n_estimators'],\n",
    "                            random_state=42)\n",
    "\n",
    "rf.fit(X_train, y_train)"
   ]
  },
  {
   "cell_type": "markdown",
   "id": "employed-power",
   "metadata": {},
   "source": [
    "# <font color = 'red'> SVM </font>"
   ]
  },
  {
   "cell_type": "code",
   "execution_count": null,
   "id": "c2349f38",
   "metadata": {},
   "outputs": [],
   "source": [
    "# open the file Best_SVM \n",
    "f_r = open(\"./Best Params/Best_SVM.txt\", \"r\")\n",
    "Lines = f_r.read().splitlines()\n",
    "f_r.close()\n",
    "best_SVM = []\n",
    "for line in Lines:\n",
    "    best_SVM.append(line)"
   ]
  },
  {
   "cell_type": "markdown",
   "id": "681f4d95",
   "metadata": {},
   "source": [
    "### Find the hyperparameters"
   ]
  },
  {
   "cell_type": "markdown",
   "id": "893374c7",
   "metadata": {},
   "source": [
    "#### Randomized Search"
   ]
  },
  {
   "cell_type": "code",
   "execution_count": null,
   "id": "freelance-pharmacy",
   "metadata": {},
   "outputs": [],
   "source": [
    "SVM = svm.SVC(probability=True)\n",
    "\n",
    "random_grid = {'C': [0.1, 1, 10, 100, 1000],\n",
    "               'gamma': [1, 0.1, 0.01, 0.001, 0.0001],\n",
    "               'kernel': ['rbf', 'poly', 'sigmoid'],\n",
    "               'degree':[k for k in range(2,10)]\n",
    "              }\n",
    "\n",
    "SVM_random = RandomizedSearchCV(estimator = SVM, param_distributions = random_grid, n_iter = 200,cv = 10,\n",
    "                               verbose = 2, random_state = 42, n_jobs = -1)\n",
    "SVM_random.fit(X_train, y_train)\n",
    "parameters = SVM_random.best_params_"
   ]
  },
  {
   "cell_type": "markdown",
   "id": "30dca734",
   "metadata": {},
   "source": [
    "#### Grid Search"
   ]
  },
  {
   "cell_type": "code",
   "execution_count": null,
   "id": "99c53851",
   "metadata": {},
   "outputs": [],
   "source": [
    "clf_svm_GS = svm.SVC(probability=True)\n",
    "\n",
    "param_grid = {'C': [parameters['C']/10, parameters['C']*10, parameters['C']],\n",
    "              'gamma': [parameters['gamma'], parameters['gamma']/10, parameters['gamma']*10],\n",
    "              'kernel': [parameters['kernel']],\n",
    "              'degree':[parameters['degree'], parameters['degree'] + 1, parameters['degree'] - 1]\n",
    "             }\n",
    "svm_grid_search = GridSearchCV(estimator = clf_svm_GS, param_grid = param_grid, cv = 10, n_jobs = -1,\n",
    "                               verbose = 2, scoring = 'accuracy')\n",
    "svm_grid_search.fit(X_train, y_train)\n",
    "parameters_SVM = svm_grid_search.best_params_\n",
    "accuracy = round(svm_grid_search.best_score_*100,2)"
   ]
  },
  {
   "cell_type": "markdown",
   "id": "ae0121eb",
   "metadata": {},
   "source": [
    "#### Save the best parameters"
   ]
  },
  {
   "cell_type": "code",
   "execution_count": null,
   "id": "abc150e1",
   "metadata": {},
   "outputs": [],
   "source": [
    "print(bcolors.OKCYAN + 'accuracy after that train:'+ bcolors.ENDC + \" \", accuracy ,\"%\")\n",
    "if accuracy > float(best_SVM[0]):\n",
    "    f_w = open(\"./Best Params/Best_SVM.txt\", \"w\")\n",
    "    f_w.write(str(accuracy)+'\\n')\n",
    "    f_w.write(str(parameters_SVM['C']) + '\\n')\n",
    "    f_w.write(str(parameters_SVM['gamma']) + '\\n')\n",
    "    f_w.write(str(parameters_SVM['kernel']) + '\\n')\n",
    "    f_w.write(str(parameters_SVM['degree']) + '\\n')\n",
    "    f_w.close()\n",
    "\n",
    "else:\n",
    "    accuracy = float(Best_SVM[0])\n",
    "    parameters_SVM['C'] = int(Best_SVM[1])\n",
    "    parameters_SVM['gamma'] = int(Best_SVM[2])\n",
    "    parameters_SVM['kernel'] = str(Best_SVM[3])\n",
    "    parameters_SVM['degree'] = int(Best_SVM[4])\n",
    "    \n",
    "SVM = svm.SVC(kernel=parameters_SVM['kernel'], C=parameters_SVM['C'], gamma = parameters_SVM['gamma'],\n",
    "                       degree = parameters_SVM['degree'] probability=True)\n",
    "\n",
    "SVM.fit(X_train, y_train)"
   ]
  },
  {
   "cell_type": "markdown",
   "id": "treated-stupid",
   "metadata": {},
   "source": [
    "# <font color = 'red'> K-Nearest Neighbors </font> "
   ]
  },
  {
   "cell_type": "code",
   "execution_count": 259,
   "id": "9d622946",
   "metadata": {},
   "outputs": [],
   "source": [
    "# open the file Best_KNN \n",
    "f_r = open(\"./Best Params/Best_KNN.txt\", \"r\")\n",
    "Lines = f_r.read().splitlines()\n",
    "f_r.close()\n",
    "best_KNN = []\n",
    "for line in Lines:\n",
    "    best_KNN.append(line)"
   ]
  },
  {
   "cell_type": "markdown",
   "id": "b85549f8",
   "metadata": {},
   "source": [
    "### Find the hyperparameters"
   ]
  },
  {
   "cell_type": "markdown",
   "id": "96b3e3ef",
   "metadata": {},
   "source": [
    "#### Randomized Search"
   ]
  },
  {
   "cell_type": "code",
   "execution_count": 260,
   "id": "bronze-hurricane",
   "metadata": {},
   "outputs": [
    {
     "name": "stdout",
     "output_type": "stream",
     "text": [
      "Fitting 10 folds for each of 35 candidates, totalling 350 fits\n"
     ]
    },
    {
     "name": "stderr",
     "output_type": "stream",
     "text": [
      "c:\\users\\rotem\\appdata\\local\\programs\\python\\python39\\lib\\site-packages\\sklearn\\model_selection\\_search.py:285: UserWarning: The total space of parameters 35 is smaller than n_iter=200. Running 35 iterations. For exhaustive searches, use GridSearchCV.\n",
      "  warnings.warn(\n"
     ]
    }
   ],
   "source": [
    "KNN = KNeighborsClassifier()\n",
    "n_neighbors = [i for i in range(5,40)]\n",
    "random_grid = {'n_neighbors' : n_neighbors}\n",
    "KNN_random = RandomizedSearchCV(estimator = KNN, param_distributions = random_grid, n_iter = 200,cv = 10,\n",
    "                               verbose = 2, random_state = 42, n_jobs = -1)\n",
    "KNN_random.fit(X_train, y_train)\n",
    "parameters = KNN_random.best_params_"
   ]
  },
  {
   "cell_type": "markdown",
   "id": "725d32c7",
   "metadata": {},
   "source": [
    "#### Grid Search"
   ]
  },
  {
   "cell_type": "code",
   "execution_count": 261,
   "id": "introductory-repository",
   "metadata": {},
   "outputs": [
    {
     "name": "stdout",
     "output_type": "stream",
     "text": [
      "Fitting 10 folds for each of 3 candidates, totalling 30 fits\n"
     ]
    }
   ],
   "source": [
    "n_neighbors = [parameters['n_neighbors'] - 1 ,parameters['n_neighbors'],parameters['n_neighbors'] + 1]\n",
    "param_grid = {'n_neighbors' : n_neighbors}\n",
    "KNN_grid_search = GridSearchCV(estimator = KNN, param_grid = param_grid, cv = 10, n_jobs = -1, verbose = 2, scoring = 'accuracy')\n",
    "KNN_grid_search.fit(X_train, y_train)\n",
    "parameters_KNN = KNN_grid_search.best_params_\n",
    "accuracy = round(KNN_grid_search.best_score_*100,2)"
   ]
  },
  {
   "cell_type": "markdown",
   "id": "6d2d50c5",
   "metadata": {},
   "source": [
    "#### Save the best parameters"
   ]
  },
  {
   "cell_type": "code",
   "execution_count": 262,
   "id": "behind-seeker",
   "metadata": {},
   "outputs": [
    {
     "name": "stdout",
     "output_type": "stream",
     "text": [
      "accuracy after that train = 89.54%\n"
     ]
    },
    {
     "data": {
      "text/plain": [
       "KNeighborsClassifier(n_neighbors=23)"
      ]
     },
     "execution_count": 262,
     "metadata": {},
     "output_type": "execute_result"
    }
   ],
   "source": [
    "print('accuracy after that train =' + ' '+ str(accuracy)+\"%\")\n",
    "if accuracy > float(best_KNN[0]):\n",
    "    f_w = open(\"./Best Params/Best_KNN.txt\", \"w\")\n",
    "    f_w.write(str(accuracy)+'\\n')\n",
    "    f_w.write(str(parameters_KNN['n_neighbors']) + '\\n')\n",
    "    f_w.close()\n",
    "\n",
    "else:\n",
    "    accuracy = float(Best_KNN[0])\n",
    "    parameters_KNN['n_neighbors'] = int(Best_KNN[1])\n",
    "    \n",
    "KNN = KNeighborsClassifier(n_neighbors = parameters_KNN['n_neighbors'])\n",
    "\n",
    "\n",
    "KNN.fit(X_train, y_train)"
   ]
  },
  {
   "cell_type": "markdown",
   "id": "blond-glucose",
   "metadata": {},
   "source": [
    "# <font color = 'red'> Naive Bayes classifier </font> "
   ]
  },
  {
   "cell_type": "code",
   "execution_count": 263,
   "id": "interstate-narrative",
   "metadata": {},
   "outputs": [
    {
     "data": {
      "text/plain": [
       "ComplementNB()"
      ]
     },
     "execution_count": 263,
     "metadata": {},
     "output_type": "execute_result"
    }
   ],
   "source": [
    "GNB = GaussianNB()\n",
    "MNB = MultinomialNB()\n",
    "COPNB = ComplementNB()\n",
    "BNB = BernoulliNB()\n",
    "CNB = CategoricalNB()\n",
    "\n",
    "GNB.fit(X_train, y_train)\n",
    "MNB.fit(X_train, y_train)\n",
    "CNB.fit(X_train, y_train)\n",
    "BNB.fit(X_train, y_train)\n",
    "COPNB.fit(X_train, y_train)"
   ]
  },
  {
   "cell_type": "markdown",
   "id": "descending-roulette",
   "metadata": {},
   "source": [
    "# <font color = 'red'> Find the best classifier </font> "
   ]
  },
  {
   "cell_type": "markdown",
   "id": "suspected-destruction",
   "metadata": {},
   "source": [
    "### Comparison between best classifiers:"
   ]
  },
  {
   "cell_type": "code",
   "execution_count": 265,
   "id": "hindu-slovak",
   "metadata": {},
   "outputs": [
    {
     "name": "stdout",
     "output_type": "stream",
     "text": [
      "\u001b[95m\u001b[1m_____________________________________ 1 _____________________________________\u001b[0m\n",
      "\n",
      "\u001b[4m\u001b[96mClassifier:\u001b[0m  DecisionTreeClassifier(max_depth=3, min_samples_leaf=4, random_state=42)\n",
      "\u001b[4m\u001b[96mAccuracy:\u001b[0m  90.39 %\n",
      "\u001b[4m\u001b[96mConfusion matrix:\u001b[0m\n"
     ]
    },
    {
     "data": {
      "text/html": [
       "<div>\n",
       "<style scoped>\n",
       "    .dataframe tbody tr th:only-of-type {\n",
       "        vertical-align: middle;\n",
       "    }\n",
       "\n",
       "    .dataframe tbody tr th {\n",
       "        vertical-align: top;\n",
       "    }\n",
       "\n",
       "    .dataframe thead th {\n",
       "        text-align: right;\n",
       "    }\n",
       "</style>\n",
       "<table border=\"1\" class=\"dataframe\">\n",
       "  <thead>\n",
       "    <tr style=\"text-align: right;\">\n",
       "      <th></th>\n",
       "      <th>0</th>\n",
       "      <th>1</th>\n",
       "    </tr>\n",
       "  </thead>\n",
       "  <tbody>\n",
       "    <tr>\n",
       "      <th>0</th>\n",
       "      <td>1985</td>\n",
       "      <td>42</td>\n",
       "    </tr>\n",
       "    <tr>\n",
       "      <th>1</th>\n",
       "      <td>178</td>\n",
       "      <td>84</td>\n",
       "    </tr>\n",
       "  </tbody>\n",
       "</table>\n",
       "</div>"
      ],
      "text/plain": [
       "      0   1\n",
       "0  1985  42\n",
       "1   178  84"
      ]
     },
     "metadata": {},
     "output_type": "display_data"
    },
    {
     "name": "stdout",
     "output_type": "stream",
     "text": [
      "\n",
      "\u001b[4m\u001b[96mClassifier:\u001b[0m  KNeighborsClassifier(n_neighbors=23)\n",
      "\u001b[4m\u001b[96mAccuracy:\u001b[0m  88.82 %\n",
      "\u001b[4m\u001b[96mConfusion matrix:\u001b[0m\n"
     ]
    },
    {
     "data": {
      "text/html": [
       "<div>\n",
       "<style scoped>\n",
       "    .dataframe tbody tr th:only-of-type {\n",
       "        vertical-align: middle;\n",
       "    }\n",
       "\n",
       "    .dataframe tbody tr th {\n",
       "        vertical-align: top;\n",
       "    }\n",
       "\n",
       "    .dataframe thead th {\n",
       "        text-align: right;\n",
       "    }\n",
       "</style>\n",
       "<table border=\"1\" class=\"dataframe\">\n",
       "  <thead>\n",
       "    <tr style=\"text-align: right;\">\n",
       "      <th></th>\n",
       "      <th>0</th>\n",
       "      <th>1</th>\n",
       "    </tr>\n",
       "  </thead>\n",
       "  <tbody>\n",
       "    <tr>\n",
       "      <th>0</th>\n",
       "      <td>1987</td>\n",
       "      <td>40</td>\n",
       "    </tr>\n",
       "    <tr>\n",
       "      <th>1</th>\n",
       "      <td>216</td>\n",
       "      <td>46</td>\n",
       "    </tr>\n",
       "  </tbody>\n",
       "</table>\n",
       "</div>"
      ],
      "text/plain": [
       "      0   1\n",
       "0  1987  40\n",
       "1   216  46"
      ]
     },
     "metadata": {},
     "output_type": "display_data"
    },
    {
     "name": "stdout",
     "output_type": "stream",
     "text": [
      "\n",
      "\u001b[4m\u001b[96mClassifier:\u001b[0m  GaussianNB()\n",
      "\u001b[4m\u001b[96mAccuracy:\u001b[0m  82.7 %\n",
      "\u001b[4m\u001b[96mConfusion matrix:\u001b[0m\n"
     ]
    },
    {
     "data": {
      "text/html": [
       "<div>\n",
       "<style scoped>\n",
       "    .dataframe tbody tr th:only-of-type {\n",
       "        vertical-align: middle;\n",
       "    }\n",
       "\n",
       "    .dataframe tbody tr th {\n",
       "        vertical-align: top;\n",
       "    }\n",
       "\n",
       "    .dataframe thead th {\n",
       "        text-align: right;\n",
       "    }\n",
       "</style>\n",
       "<table border=\"1\" class=\"dataframe\">\n",
       "  <thead>\n",
       "    <tr style=\"text-align: right;\">\n",
       "      <th></th>\n",
       "      <th>0</th>\n",
       "      <th>1</th>\n",
       "    </tr>\n",
       "  </thead>\n",
       "  <tbody>\n",
       "    <tr>\n",
       "      <th>0</th>\n",
       "      <td>1763</td>\n",
       "      <td>264</td>\n",
       "    </tr>\n",
       "    <tr>\n",
       "      <th>1</th>\n",
       "      <td>132</td>\n",
       "      <td>130</td>\n",
       "    </tr>\n",
       "  </tbody>\n",
       "</table>\n",
       "</div>"
      ],
      "text/plain": [
       "      0    1\n",
       "0  1763  264\n",
       "1   132  130"
      ]
     },
     "metadata": {},
     "output_type": "display_data"
    },
    {
     "name": "stdout",
     "output_type": "stream",
     "text": [
      "\n",
      "\u001b[4m\u001b[96mClassifier:\u001b[0m  MultinomialNB()\n",
      "\u001b[4m\u001b[96mAccuracy:\u001b[0m  88.51 %\n",
      "\u001b[4m\u001b[96mConfusion matrix:\u001b[0m\n"
     ]
    },
    {
     "data": {
      "text/html": [
       "<div>\n",
       "<style scoped>\n",
       "    .dataframe tbody tr th:only-of-type {\n",
       "        vertical-align: middle;\n",
       "    }\n",
       "\n",
       "    .dataframe tbody tr th {\n",
       "        vertical-align: top;\n",
       "    }\n",
       "\n",
       "    .dataframe thead th {\n",
       "        text-align: right;\n",
       "    }\n",
       "</style>\n",
       "<table border=\"1\" class=\"dataframe\">\n",
       "  <thead>\n",
       "    <tr style=\"text-align: right;\">\n",
       "      <th></th>\n",
       "      <th>0</th>\n",
       "      <th>1</th>\n",
       "    </tr>\n",
       "  </thead>\n",
       "  <tbody>\n",
       "    <tr>\n",
       "      <th>0</th>\n",
       "      <td>2025</td>\n",
       "      <td>2</td>\n",
       "    </tr>\n",
       "    <tr>\n",
       "      <th>1</th>\n",
       "      <td>261</td>\n",
       "      <td>1</td>\n",
       "    </tr>\n",
       "  </tbody>\n",
       "</table>\n",
       "</div>"
      ],
      "text/plain": [
       "      0  1\n",
       "0  2025  2\n",
       "1   261  1"
      ]
     },
     "metadata": {},
     "output_type": "display_data"
    },
    {
     "name": "stdout",
     "output_type": "stream",
     "text": [
      "\n",
      "\u001b[4m\u001b[96mClassifier:\u001b[0m  CategoricalNB()\n",
      "\u001b[4m\u001b[96mAccuracy:\u001b[0m  88.03 %\n",
      "\u001b[4m\u001b[96mConfusion matrix:\u001b[0m\n"
     ]
    },
    {
     "data": {
      "text/html": [
       "<div>\n",
       "<style scoped>\n",
       "    .dataframe tbody tr th:only-of-type {\n",
       "        vertical-align: middle;\n",
       "    }\n",
       "\n",
       "    .dataframe tbody tr th {\n",
       "        vertical-align: top;\n",
       "    }\n",
       "\n",
       "    .dataframe thead th {\n",
       "        text-align: right;\n",
       "    }\n",
       "</style>\n",
       "<table border=\"1\" class=\"dataframe\">\n",
       "  <thead>\n",
       "    <tr style=\"text-align: right;\">\n",
       "      <th></th>\n",
       "      <th>0</th>\n",
       "      <th>1</th>\n",
       "    </tr>\n",
       "  </thead>\n",
       "  <tbody>\n",
       "    <tr>\n",
       "      <th>0</th>\n",
       "      <td>1967</td>\n",
       "      <td>60</td>\n",
       "    </tr>\n",
       "    <tr>\n",
       "      <th>1</th>\n",
       "      <td>214</td>\n",
       "      <td>48</td>\n",
       "    </tr>\n",
       "  </tbody>\n",
       "</table>\n",
       "</div>"
      ],
      "text/plain": [
       "      0   1\n",
       "0  1967  60\n",
       "1   214  48"
      ]
     },
     "metadata": {},
     "output_type": "display_data"
    },
    {
     "name": "stdout",
     "output_type": "stream",
     "text": [
      "\n",
      "\u001b[4m\u001b[96mClassifier:\u001b[0m  BernoulliNB()\n",
      "\u001b[4m\u001b[96mAccuracy:\u001b[0m  87.68 %\n",
      "\u001b[4m\u001b[96mConfusion matrix:\u001b[0m\n"
     ]
    },
    {
     "data": {
      "text/html": [
       "<div>\n",
       "<style scoped>\n",
       "    .dataframe tbody tr th:only-of-type {\n",
       "        vertical-align: middle;\n",
       "    }\n",
       "\n",
       "    .dataframe tbody tr th {\n",
       "        vertical-align: top;\n",
       "    }\n",
       "\n",
       "    .dataframe thead th {\n",
       "        text-align: right;\n",
       "    }\n",
       "</style>\n",
       "<table border=\"1\" class=\"dataframe\">\n",
       "  <thead>\n",
       "    <tr style=\"text-align: right;\">\n",
       "      <th></th>\n",
       "      <th>0</th>\n",
       "      <th>1</th>\n",
       "    </tr>\n",
       "  </thead>\n",
       "  <tbody>\n",
       "    <tr>\n",
       "      <th>0</th>\n",
       "      <td>1968</td>\n",
       "      <td>59</td>\n",
       "    </tr>\n",
       "    <tr>\n",
       "      <th>1</th>\n",
       "      <td>223</td>\n",
       "      <td>39</td>\n",
       "    </tr>\n",
       "  </tbody>\n",
       "</table>\n",
       "</div>"
      ],
      "text/plain": [
       "      0   1\n",
       "0  1968  59\n",
       "1   223  39"
      ]
     },
     "metadata": {},
     "output_type": "display_data"
    },
    {
     "name": "stdout",
     "output_type": "stream",
     "text": [
      "\n",
      "\u001b[4m\u001b[96mClassifier:\u001b[0m  ComplementNB()\n",
      "\u001b[4m\u001b[96mAccuracy:\u001b[0m  64.57 %\n",
      "\u001b[4m\u001b[96mConfusion matrix:\u001b[0m\n"
     ]
    },
    {
     "data": {
      "text/html": [
       "<div>\n",
       "<style scoped>\n",
       "    .dataframe tbody tr th:only-of-type {\n",
       "        vertical-align: middle;\n",
       "    }\n",
       "\n",
       "    .dataframe tbody tr th {\n",
       "        vertical-align: top;\n",
       "    }\n",
       "\n",
       "    .dataframe thead th {\n",
       "        text-align: right;\n",
       "    }\n",
       "</style>\n",
       "<table border=\"1\" class=\"dataframe\">\n",
       "  <thead>\n",
       "    <tr style=\"text-align: right;\">\n",
       "      <th></th>\n",
       "      <th>0</th>\n",
       "      <th>1</th>\n",
       "    </tr>\n",
       "  </thead>\n",
       "  <tbody>\n",
       "    <tr>\n",
       "      <th>0</th>\n",
       "      <td>1295</td>\n",
       "      <td>732</td>\n",
       "    </tr>\n",
       "    <tr>\n",
       "      <th>1</th>\n",
       "      <td>79</td>\n",
       "      <td>183</td>\n",
       "    </tr>\n",
       "  </tbody>\n",
       "</table>\n",
       "</div>"
      ],
      "text/plain": [
       "      0    1\n",
       "0  1295  732\n",
       "1    79  183"
      ]
     },
     "metadata": {},
     "output_type": "display_data"
    },
    {
     "name": "stdout",
     "output_type": "stream",
     "text": [
      "\n",
      "\u001b[95m\u001b[1m_____________________________________ 2 _____________________________________\u001b[0m\n",
      "\n",
      "\u001b[4m\u001b[96mClassifier:\u001b[0m  DecisionTreeClassifier(max_depth=3, min_samples_leaf=4, random_state=42)\n",
      "\u001b[4m\u001b[96mAccuracy:\u001b[0m  90.04 %\n",
      "\u001b[4m\u001b[96mConfusion matrix:\u001b[0m\n"
     ]
    },
    {
     "data": {
      "text/html": [
       "<div>\n",
       "<style scoped>\n",
       "    .dataframe tbody tr th:only-of-type {\n",
       "        vertical-align: middle;\n",
       "    }\n",
       "\n",
       "    .dataframe tbody tr th {\n",
       "        vertical-align: top;\n",
       "    }\n",
       "\n",
       "    .dataframe thead th {\n",
       "        text-align: right;\n",
       "    }\n",
       "</style>\n",
       "<table border=\"1\" class=\"dataframe\">\n",
       "  <thead>\n",
       "    <tr style=\"text-align: right;\">\n",
       "      <th></th>\n",
       "      <th>0</th>\n",
       "      <th>1</th>\n",
       "    </tr>\n",
       "  </thead>\n",
       "  <tbody>\n",
       "    <tr>\n",
       "      <th>0</th>\n",
       "      <td>1967</td>\n",
       "      <td>42</td>\n",
       "    </tr>\n",
       "    <tr>\n",
       "      <th>1</th>\n",
       "      <td>186</td>\n",
       "      <td>94</td>\n",
       "    </tr>\n",
       "  </tbody>\n",
       "</table>\n",
       "</div>"
      ],
      "text/plain": [
       "      0   1\n",
       "0  1967  42\n",
       "1   186  94"
      ]
     },
     "metadata": {},
     "output_type": "display_data"
    },
    {
     "name": "stdout",
     "output_type": "stream",
     "text": [
      "\n",
      "\u001b[4m\u001b[96mClassifier:\u001b[0m  KNeighborsClassifier(n_neighbors=23)\n",
      "\u001b[4m\u001b[96mAccuracy:\u001b[0m  88.95 %\n",
      "\u001b[4m\u001b[96mConfusion matrix:\u001b[0m\n"
     ]
    },
    {
     "data": {
      "text/html": [
       "<div>\n",
       "<style scoped>\n",
       "    .dataframe tbody tr th:only-of-type {\n",
       "        vertical-align: middle;\n",
       "    }\n",
       "\n",
       "    .dataframe tbody tr th {\n",
       "        vertical-align: top;\n",
       "    }\n",
       "\n",
       "    .dataframe thead th {\n",
       "        text-align: right;\n",
       "    }\n",
       "</style>\n",
       "<table border=\"1\" class=\"dataframe\">\n",
       "  <thead>\n",
       "    <tr style=\"text-align: right;\">\n",
       "      <th></th>\n",
       "      <th>0</th>\n",
       "      <th>1</th>\n",
       "    </tr>\n",
       "  </thead>\n",
       "  <tbody>\n",
       "    <tr>\n",
       "      <th>0</th>\n",
       "      <td>1984</td>\n",
       "      <td>25</td>\n",
       "    </tr>\n",
       "    <tr>\n",
       "      <th>1</th>\n",
       "      <td>228</td>\n",
       "      <td>52</td>\n",
       "    </tr>\n",
       "  </tbody>\n",
       "</table>\n",
       "</div>"
      ],
      "text/plain": [
       "      0   1\n",
       "0  1984  25\n",
       "1   228  52"
      ]
     },
     "metadata": {},
     "output_type": "display_data"
    },
    {
     "name": "stdout",
     "output_type": "stream",
     "text": [
      "\n",
      "\u001b[4m\u001b[96mClassifier:\u001b[0m  GaussianNB()\n",
      "\u001b[4m\u001b[96mAccuracy:\u001b[0m  83.92 %\n",
      "\u001b[4m\u001b[96mConfusion matrix:\u001b[0m\n"
     ]
    },
    {
     "data": {
      "text/html": [
       "<div>\n",
       "<style scoped>\n",
       "    .dataframe tbody tr th:only-of-type {\n",
       "        vertical-align: middle;\n",
       "    }\n",
       "\n",
       "    .dataframe tbody tr th {\n",
       "        vertical-align: top;\n",
       "    }\n",
       "\n",
       "    .dataframe thead th {\n",
       "        text-align: right;\n",
       "    }\n",
       "</style>\n",
       "<table border=\"1\" class=\"dataframe\">\n",
       "  <thead>\n",
       "    <tr style=\"text-align: right;\">\n",
       "      <th></th>\n",
       "      <th>0</th>\n",
       "      <th>1</th>\n",
       "    </tr>\n",
       "  </thead>\n",
       "  <tbody>\n",
       "    <tr>\n",
       "      <th>0</th>\n",
       "      <td>1772</td>\n",
       "      <td>237</td>\n",
       "    </tr>\n",
       "    <tr>\n",
       "      <th>1</th>\n",
       "      <td>131</td>\n",
       "      <td>149</td>\n",
       "    </tr>\n",
       "  </tbody>\n",
       "</table>\n",
       "</div>"
      ],
      "text/plain": [
       "      0    1\n",
       "0  1772  237\n",
       "1   131  149"
      ]
     },
     "metadata": {},
     "output_type": "display_data"
    },
    {
     "name": "stdout",
     "output_type": "stream",
     "text": [
      "\n",
      "\u001b[4m\u001b[96mClassifier:\u001b[0m  MultinomialNB()\n",
      "\u001b[4m\u001b[96mAccuracy:\u001b[0m  87.81 %\n",
      "\u001b[4m\u001b[96mConfusion matrix:\u001b[0m\n"
     ]
    },
    {
     "data": {
      "text/html": [
       "<div>\n",
       "<style scoped>\n",
       "    .dataframe tbody tr th:only-of-type {\n",
       "        vertical-align: middle;\n",
       "    }\n",
       "\n",
       "    .dataframe tbody tr th {\n",
       "        vertical-align: top;\n",
       "    }\n",
       "\n",
       "    .dataframe thead th {\n",
       "        text-align: right;\n",
       "    }\n",
       "</style>\n",
       "<table border=\"1\" class=\"dataframe\">\n",
       "  <thead>\n",
       "    <tr style=\"text-align: right;\">\n",
       "      <th></th>\n",
       "      <th>0</th>\n",
       "      <th>1</th>\n",
       "    </tr>\n",
       "  </thead>\n",
       "  <tbody>\n",
       "    <tr>\n",
       "      <th>0</th>\n",
       "      <td>2009</td>\n",
       "      <td>0</td>\n",
       "    </tr>\n",
       "    <tr>\n",
       "      <th>1</th>\n",
       "      <td>279</td>\n",
       "      <td>1</td>\n",
       "    </tr>\n",
       "  </tbody>\n",
       "</table>\n",
       "</div>"
      ],
      "text/plain": [
       "      0  1\n",
       "0  2009  0\n",
       "1   279  1"
      ]
     },
     "metadata": {},
     "output_type": "display_data"
    },
    {
     "name": "stdout",
     "output_type": "stream",
     "text": [
      "\n",
      "\u001b[4m\u001b[96mClassifier:\u001b[0m  CategoricalNB()\n",
      "\u001b[4m\u001b[96mAccuracy:\u001b[0m  88.16 %\n",
      "\u001b[4m\u001b[96mConfusion matrix:\u001b[0m\n"
     ]
    },
    {
     "data": {
      "text/html": [
       "<div>\n",
       "<style scoped>\n",
       "    .dataframe tbody tr th:only-of-type {\n",
       "        vertical-align: middle;\n",
       "    }\n",
       "\n",
       "    .dataframe tbody tr th {\n",
       "        vertical-align: top;\n",
       "    }\n",
       "\n",
       "    .dataframe thead th {\n",
       "        text-align: right;\n",
       "    }\n",
       "</style>\n",
       "<table border=\"1\" class=\"dataframe\">\n",
       "  <thead>\n",
       "    <tr style=\"text-align: right;\">\n",
       "      <th></th>\n",
       "      <th>0</th>\n",
       "      <th>1</th>\n",
       "    </tr>\n",
       "  </thead>\n",
       "  <tbody>\n",
       "    <tr>\n",
       "      <th>0</th>\n",
       "      <td>1960</td>\n",
       "      <td>49</td>\n",
       "    </tr>\n",
       "    <tr>\n",
       "      <th>1</th>\n",
       "      <td>222</td>\n",
       "      <td>58</td>\n",
       "    </tr>\n",
       "  </tbody>\n",
       "</table>\n",
       "</div>"
      ],
      "text/plain": [
       "      0   1\n",
       "0  1960  49\n",
       "1   222  58"
      ]
     },
     "metadata": {},
     "output_type": "display_data"
    },
    {
     "name": "stdout",
     "output_type": "stream",
     "text": [
      "\n",
      "\u001b[4m\u001b[96mClassifier:\u001b[0m  BernoulliNB()\n",
      "\u001b[4m\u001b[96mAccuracy:\u001b[0m  86.59 %\n",
      "\u001b[4m\u001b[96mConfusion matrix:\u001b[0m\n"
     ]
    },
    {
     "data": {
      "text/html": [
       "<div>\n",
       "<style scoped>\n",
       "    .dataframe tbody tr th:only-of-type {\n",
       "        vertical-align: middle;\n",
       "    }\n",
       "\n",
       "    .dataframe tbody tr th {\n",
       "        vertical-align: top;\n",
       "    }\n",
       "\n",
       "    .dataframe thead th {\n",
       "        text-align: right;\n",
       "    }\n",
       "</style>\n",
       "<table border=\"1\" class=\"dataframe\">\n",
       "  <thead>\n",
       "    <tr style=\"text-align: right;\">\n",
       "      <th></th>\n",
       "      <th>0</th>\n",
       "      <th>1</th>\n",
       "    </tr>\n",
       "  </thead>\n",
       "  <tbody>\n",
       "    <tr>\n",
       "      <th>0</th>\n",
       "      <td>1940</td>\n",
       "      <td>69</td>\n",
       "    </tr>\n",
       "    <tr>\n",
       "      <th>1</th>\n",
       "      <td>238</td>\n",
       "      <td>42</td>\n",
       "    </tr>\n",
       "  </tbody>\n",
       "</table>\n",
       "</div>"
      ],
      "text/plain": [
       "      0   1\n",
       "0  1940  69\n",
       "1   238  42"
      ]
     },
     "metadata": {},
     "output_type": "display_data"
    },
    {
     "name": "stdout",
     "output_type": "stream",
     "text": [
      "\n",
      "\u001b[4m\u001b[96mClassifier:\u001b[0m  ComplementNB()\n",
      "\u001b[4m\u001b[96mAccuracy:\u001b[0m  66.06 %\n",
      "\u001b[4m\u001b[96mConfusion matrix:\u001b[0m\n"
     ]
    },
    {
     "data": {
      "text/html": [
       "<div>\n",
       "<style scoped>\n",
       "    .dataframe tbody tr th:only-of-type {\n",
       "        vertical-align: middle;\n",
       "    }\n",
       "\n",
       "    .dataframe tbody tr th {\n",
       "        vertical-align: top;\n",
       "    }\n",
       "\n",
       "    .dataframe thead th {\n",
       "        text-align: right;\n",
       "    }\n",
       "</style>\n",
       "<table border=\"1\" class=\"dataframe\">\n",
       "  <thead>\n",
       "    <tr style=\"text-align: right;\">\n",
       "      <th></th>\n",
       "      <th>0</th>\n",
       "      <th>1</th>\n",
       "    </tr>\n",
       "  </thead>\n",
       "  <tbody>\n",
       "    <tr>\n",
       "      <th>0</th>\n",
       "      <td>1311</td>\n",
       "      <td>698</td>\n",
       "    </tr>\n",
       "    <tr>\n",
       "      <th>1</th>\n",
       "      <td>79</td>\n",
       "      <td>201</td>\n",
       "    </tr>\n",
       "  </tbody>\n",
       "</table>\n",
       "</div>"
      ],
      "text/plain": [
       "      0    1\n",
       "0  1311  698\n",
       "1    79  201"
      ]
     },
     "metadata": {},
     "output_type": "display_data"
    },
    {
     "name": "stdout",
     "output_type": "stream",
     "text": [
      "\n",
      "\u001b[95m\u001b[1m_____________________________________ 3 _____________________________________\u001b[0m\n",
      "\n",
      "\u001b[4m\u001b[96mClassifier:\u001b[0m  DecisionTreeClassifier(max_depth=3, min_samples_leaf=4, random_state=42)\n",
      "\u001b[4m\u001b[96mAccuracy:\u001b[0m  90.87 %\n",
      "\u001b[4m\u001b[96mConfusion matrix:\u001b[0m\n"
     ]
    },
    {
     "data": {
      "text/html": [
       "<div>\n",
       "<style scoped>\n",
       "    .dataframe tbody tr th:only-of-type {\n",
       "        vertical-align: middle;\n",
       "    }\n",
       "\n",
       "    .dataframe tbody tr th {\n",
       "        vertical-align: top;\n",
       "    }\n",
       "\n",
       "    .dataframe thead th {\n",
       "        text-align: right;\n",
       "    }\n",
       "</style>\n",
       "<table border=\"1\" class=\"dataframe\">\n",
       "  <thead>\n",
       "    <tr style=\"text-align: right;\">\n",
       "      <th></th>\n",
       "      <th>0</th>\n",
       "      <th>1</th>\n",
       "    </tr>\n",
       "  </thead>\n",
       "  <tbody>\n",
       "    <tr>\n",
       "      <th>0</th>\n",
       "      <td>1988</td>\n",
       "      <td>31</td>\n",
       "    </tr>\n",
       "    <tr>\n",
       "      <th>1</th>\n",
       "      <td>178</td>\n",
       "      <td>92</td>\n",
       "    </tr>\n",
       "  </tbody>\n",
       "</table>\n",
       "</div>"
      ],
      "text/plain": [
       "      0   1\n",
       "0  1988  31\n",
       "1   178  92"
      ]
     },
     "metadata": {},
     "output_type": "display_data"
    },
    {
     "name": "stdout",
     "output_type": "stream",
     "text": [
      "\n",
      "\u001b[4m\u001b[96mClassifier:\u001b[0m  KNeighborsClassifier(n_neighbors=23)\n",
      "\u001b[4m\u001b[96mAccuracy:\u001b[0m  89.52 %\n",
      "\u001b[4m\u001b[96mConfusion matrix:\u001b[0m\n"
     ]
    },
    {
     "data": {
      "text/html": [
       "<div>\n",
       "<style scoped>\n",
       "    .dataframe tbody tr th:only-of-type {\n",
       "        vertical-align: middle;\n",
       "    }\n",
       "\n",
       "    .dataframe tbody tr th {\n",
       "        vertical-align: top;\n",
       "    }\n",
       "\n",
       "    .dataframe thead th {\n",
       "        text-align: right;\n",
       "    }\n",
       "</style>\n",
       "<table border=\"1\" class=\"dataframe\">\n",
       "  <thead>\n",
       "    <tr style=\"text-align: right;\">\n",
       "      <th></th>\n",
       "      <th>0</th>\n",
       "      <th>1</th>\n",
       "    </tr>\n",
       "  </thead>\n",
       "  <tbody>\n",
       "    <tr>\n",
       "      <th>0</th>\n",
       "      <td>1996</td>\n",
       "      <td>23</td>\n",
       "    </tr>\n",
       "    <tr>\n",
       "      <th>1</th>\n",
       "      <td>217</td>\n",
       "      <td>53</td>\n",
       "    </tr>\n",
       "  </tbody>\n",
       "</table>\n",
       "</div>"
      ],
      "text/plain": [
       "      0   1\n",
       "0  1996  23\n",
       "1   217  53"
      ]
     },
     "metadata": {},
     "output_type": "display_data"
    },
    {
     "name": "stdout",
     "output_type": "stream",
     "text": [
      "\n",
      "\u001b[4m\u001b[96mClassifier:\u001b[0m  GaussianNB()\n",
      "\u001b[4m\u001b[96mAccuracy:\u001b[0m  85.54 %\n",
      "\u001b[4m\u001b[96mConfusion matrix:\u001b[0m\n"
     ]
    },
    {
     "data": {
      "text/html": [
       "<div>\n",
       "<style scoped>\n",
       "    .dataframe tbody tr th:only-of-type {\n",
       "        vertical-align: middle;\n",
       "    }\n",
       "\n",
       "    .dataframe tbody tr th {\n",
       "        vertical-align: top;\n",
       "    }\n",
       "\n",
       "    .dataframe thead th {\n",
       "        text-align: right;\n",
       "    }\n",
       "</style>\n",
       "<table border=\"1\" class=\"dataframe\">\n",
       "  <thead>\n",
       "    <tr style=\"text-align: right;\">\n",
       "      <th></th>\n",
       "      <th>0</th>\n",
       "      <th>1</th>\n",
       "    </tr>\n",
       "  </thead>\n",
       "  <tbody>\n",
       "    <tr>\n",
       "      <th>0</th>\n",
       "      <td>1814</td>\n",
       "      <td>205</td>\n",
       "    </tr>\n",
       "    <tr>\n",
       "      <th>1</th>\n",
       "      <td>126</td>\n",
       "      <td>144</td>\n",
       "    </tr>\n",
       "  </tbody>\n",
       "</table>\n",
       "</div>"
      ],
      "text/plain": [
       "      0    1\n",
       "0  1814  205\n",
       "1   126  144"
      ]
     },
     "metadata": {},
     "output_type": "display_data"
    },
    {
     "name": "stdout",
     "output_type": "stream",
     "text": [
      "\n",
      "\u001b[4m\u001b[96mClassifier:\u001b[0m  MultinomialNB()\n",
      "\u001b[4m\u001b[96mAccuracy:\u001b[0m  88.34 %\n",
      "\u001b[4m\u001b[96mConfusion matrix:\u001b[0m\n"
     ]
    },
    {
     "data": {
      "text/html": [
       "<div>\n",
       "<style scoped>\n",
       "    .dataframe tbody tr th:only-of-type {\n",
       "        vertical-align: middle;\n",
       "    }\n",
       "\n",
       "    .dataframe tbody tr th {\n",
       "        vertical-align: top;\n",
       "    }\n",
       "\n",
       "    .dataframe thead th {\n",
       "        text-align: right;\n",
       "    }\n",
       "</style>\n",
       "<table border=\"1\" class=\"dataframe\">\n",
       "  <thead>\n",
       "    <tr style=\"text-align: right;\">\n",
       "      <th></th>\n",
       "      <th>0</th>\n",
       "      <th>1</th>\n",
       "    </tr>\n",
       "  </thead>\n",
       "  <tbody>\n",
       "    <tr>\n",
       "      <th>0</th>\n",
       "      <td>2019</td>\n",
       "      <td>0</td>\n",
       "    </tr>\n",
       "    <tr>\n",
       "      <th>1</th>\n",
       "      <td>267</td>\n",
       "      <td>3</td>\n",
       "    </tr>\n",
       "  </tbody>\n",
       "</table>\n",
       "</div>"
      ],
      "text/plain": [
       "      0  1\n",
       "0  2019  0\n",
       "1   267  3"
      ]
     },
     "metadata": {},
     "output_type": "display_data"
    },
    {
     "name": "stdout",
     "output_type": "stream",
     "text": [
      "\n",
      "\u001b[4m\u001b[96mClassifier:\u001b[0m  CategoricalNB()\n",
      "\u001b[4m\u001b[96mAccuracy:\u001b[0m  89.21 %\n",
      "\u001b[4m\u001b[96mConfusion matrix:\u001b[0m\n"
     ]
    },
    {
     "data": {
      "text/html": [
       "<div>\n",
       "<style scoped>\n",
       "    .dataframe tbody tr th:only-of-type {\n",
       "        vertical-align: middle;\n",
       "    }\n",
       "\n",
       "    .dataframe tbody tr th {\n",
       "        vertical-align: top;\n",
       "    }\n",
       "\n",
       "    .dataframe thead th {\n",
       "        text-align: right;\n",
       "    }\n",
       "</style>\n",
       "<table border=\"1\" class=\"dataframe\">\n",
       "  <thead>\n",
       "    <tr style=\"text-align: right;\">\n",
       "      <th></th>\n",
       "      <th>0</th>\n",
       "      <th>1</th>\n",
       "    </tr>\n",
       "  </thead>\n",
       "  <tbody>\n",
       "    <tr>\n",
       "      <th>0</th>\n",
       "      <td>1982</td>\n",
       "      <td>37</td>\n",
       "    </tr>\n",
       "    <tr>\n",
       "      <th>1</th>\n",
       "      <td>210</td>\n",
       "      <td>60</td>\n",
       "    </tr>\n",
       "  </tbody>\n",
       "</table>\n",
       "</div>"
      ],
      "text/plain": [
       "      0   1\n",
       "0  1982  37\n",
       "1   210  60"
      ]
     },
     "metadata": {},
     "output_type": "display_data"
    },
    {
     "name": "stdout",
     "output_type": "stream",
     "text": [
      "\n",
      "\u001b[4m\u001b[96mClassifier:\u001b[0m  BernoulliNB()\n",
      "\u001b[4m\u001b[96mAccuracy:\u001b[0m  88.34 %\n",
      "\u001b[4m\u001b[96mConfusion matrix:\u001b[0m\n"
     ]
    },
    {
     "data": {
      "text/html": [
       "<div>\n",
       "<style scoped>\n",
       "    .dataframe tbody tr th:only-of-type {\n",
       "        vertical-align: middle;\n",
       "    }\n",
       "\n",
       "    .dataframe tbody tr th {\n",
       "        vertical-align: top;\n",
       "    }\n",
       "\n",
       "    .dataframe thead th {\n",
       "        text-align: right;\n",
       "    }\n",
       "</style>\n",
       "<table border=\"1\" class=\"dataframe\">\n",
       "  <thead>\n",
       "    <tr style=\"text-align: right;\">\n",
       "      <th></th>\n",
       "      <th>0</th>\n",
       "      <th>1</th>\n",
       "    </tr>\n",
       "  </thead>\n",
       "  <tbody>\n",
       "    <tr>\n",
       "      <th>0</th>\n",
       "      <td>1977</td>\n",
       "      <td>42</td>\n",
       "    </tr>\n",
       "    <tr>\n",
       "      <th>1</th>\n",
       "      <td>225</td>\n",
       "      <td>45</td>\n",
       "    </tr>\n",
       "  </tbody>\n",
       "</table>\n",
       "</div>"
      ],
      "text/plain": [
       "      0   1\n",
       "0  1977  42\n",
       "1   225  45"
      ]
     },
     "metadata": {},
     "output_type": "display_data"
    },
    {
     "name": "stdout",
     "output_type": "stream",
     "text": [
      "\n",
      "\u001b[4m\u001b[96mClassifier:\u001b[0m  ComplementNB()\n",
      "\u001b[4m\u001b[96mAccuracy:\u001b[0m  65.57 %\n",
      "\u001b[4m\u001b[96mConfusion matrix:\u001b[0m\n"
     ]
    },
    {
     "data": {
      "text/html": [
       "<div>\n",
       "<style scoped>\n",
       "    .dataframe tbody tr th:only-of-type {\n",
       "        vertical-align: middle;\n",
       "    }\n",
       "\n",
       "    .dataframe tbody tr th {\n",
       "        vertical-align: top;\n",
       "    }\n",
       "\n",
       "    .dataframe thead th {\n",
       "        text-align: right;\n",
       "    }\n",
       "</style>\n",
       "<table border=\"1\" class=\"dataframe\">\n",
       "  <thead>\n",
       "    <tr style=\"text-align: right;\">\n",
       "      <th></th>\n",
       "      <th>0</th>\n",
       "      <th>1</th>\n",
       "    </tr>\n",
       "  </thead>\n",
       "  <tbody>\n",
       "    <tr>\n",
       "      <th>0</th>\n",
       "      <td>1307</td>\n",
       "      <td>712</td>\n",
       "    </tr>\n",
       "    <tr>\n",
       "      <th>1</th>\n",
       "      <td>76</td>\n",
       "      <td>194</td>\n",
       "    </tr>\n",
       "  </tbody>\n",
       "</table>\n",
       "</div>"
      ],
      "text/plain": [
       "      0    1\n",
       "0  1307  712\n",
       "1    76  194"
      ]
     },
     "metadata": {},
     "output_type": "display_data"
    },
    {
     "name": "stdout",
     "output_type": "stream",
     "text": [
      "\n",
      "\u001b[95m\u001b[1m_____________________________________ 4 _____________________________________\u001b[0m\n",
      "\n",
      "\u001b[4m\u001b[96mClassifier:\u001b[0m  DecisionTreeClassifier(max_depth=3, min_samples_leaf=4, random_state=42)\n",
      "\u001b[4m\u001b[96mAccuracy:\u001b[0m  89.82 %\n",
      "\u001b[4m\u001b[96mConfusion matrix:\u001b[0m\n"
     ]
    },
    {
     "data": {
      "text/html": [
       "<div>\n",
       "<style scoped>\n",
       "    .dataframe tbody tr th:only-of-type {\n",
       "        vertical-align: middle;\n",
       "    }\n",
       "\n",
       "    .dataframe tbody tr th {\n",
       "        vertical-align: top;\n",
       "    }\n",
       "\n",
       "    .dataframe thead th {\n",
       "        text-align: right;\n",
       "    }\n",
       "</style>\n",
       "<table border=\"1\" class=\"dataframe\">\n",
       "  <thead>\n",
       "    <tr style=\"text-align: right;\">\n",
       "      <th></th>\n",
       "      <th>0</th>\n",
       "      <th>1</th>\n",
       "    </tr>\n",
       "  </thead>\n",
       "  <tbody>\n",
       "    <tr>\n",
       "      <th>0</th>\n",
       "      <td>1972</td>\n",
       "      <td>53</td>\n",
       "    </tr>\n",
       "    <tr>\n",
       "      <th>1</th>\n",
       "      <td>180</td>\n",
       "      <td>84</td>\n",
       "    </tr>\n",
       "  </tbody>\n",
       "</table>\n",
       "</div>"
      ],
      "text/plain": [
       "      0   1\n",
       "0  1972  53\n",
       "1   180  84"
      ]
     },
     "metadata": {},
     "output_type": "display_data"
    },
    {
     "name": "stdout",
     "output_type": "stream",
     "text": [
      "\n",
      "\u001b[4m\u001b[96mClassifier:\u001b[0m  KNeighborsClassifier(n_neighbors=23)\n",
      "\u001b[4m\u001b[96mAccuracy:\u001b[0m  89.17 %\n",
      "\u001b[4m\u001b[96mConfusion matrix:\u001b[0m\n"
     ]
    },
    {
     "data": {
      "text/html": [
       "<div>\n",
       "<style scoped>\n",
       "    .dataframe tbody tr th:only-of-type {\n",
       "        vertical-align: middle;\n",
       "    }\n",
       "\n",
       "    .dataframe tbody tr th {\n",
       "        vertical-align: top;\n",
       "    }\n",
       "\n",
       "    .dataframe thead th {\n",
       "        text-align: right;\n",
       "    }\n",
       "</style>\n",
       "<table border=\"1\" class=\"dataframe\">\n",
       "  <thead>\n",
       "    <tr style=\"text-align: right;\">\n",
       "      <th></th>\n",
       "      <th>0</th>\n",
       "      <th>1</th>\n",
       "    </tr>\n",
       "  </thead>\n",
       "  <tbody>\n",
       "    <tr>\n",
       "      <th>0</th>\n",
       "      <td>2000</td>\n",
       "      <td>25</td>\n",
       "    </tr>\n",
       "    <tr>\n",
       "      <th>1</th>\n",
       "      <td>223</td>\n",
       "      <td>41</td>\n",
       "    </tr>\n",
       "  </tbody>\n",
       "</table>\n",
       "</div>"
      ],
      "text/plain": [
       "      0   1\n",
       "0  2000  25\n",
       "1   223  41"
      ]
     },
     "metadata": {},
     "output_type": "display_data"
    },
    {
     "name": "stdout",
     "output_type": "stream",
     "text": [
      "\n",
      "\u001b[4m\u001b[96mClassifier:\u001b[0m  GaussianNB()\n",
      "\u001b[4m\u001b[96mAccuracy:\u001b[0m  83.92 %\n",
      "\u001b[4m\u001b[96mConfusion matrix:\u001b[0m\n"
     ]
    },
    {
     "data": {
      "text/html": [
       "<div>\n",
       "<style scoped>\n",
       "    .dataframe tbody tr th:only-of-type {\n",
       "        vertical-align: middle;\n",
       "    }\n",
       "\n",
       "    .dataframe tbody tr th {\n",
       "        vertical-align: top;\n",
       "    }\n",
       "\n",
       "    .dataframe thead th {\n",
       "        text-align: right;\n",
       "    }\n",
       "</style>\n",
       "<table border=\"1\" class=\"dataframe\">\n",
       "  <thead>\n",
       "    <tr style=\"text-align: right;\">\n",
       "      <th></th>\n",
       "      <th>0</th>\n",
       "      <th>1</th>\n",
       "    </tr>\n",
       "  </thead>\n",
       "  <tbody>\n",
       "    <tr>\n",
       "      <th>0</th>\n",
       "      <td>1789</td>\n",
       "      <td>236</td>\n",
       "    </tr>\n",
       "    <tr>\n",
       "      <th>1</th>\n",
       "      <td>132</td>\n",
       "      <td>132</td>\n",
       "    </tr>\n",
       "  </tbody>\n",
       "</table>\n",
       "</div>"
      ],
      "text/plain": [
       "      0    1\n",
       "0  1789  236\n",
       "1   132  132"
      ]
     },
     "metadata": {},
     "output_type": "display_data"
    },
    {
     "name": "stdout",
     "output_type": "stream",
     "text": [
      "\n",
      "\u001b[4m\u001b[96mClassifier:\u001b[0m  MultinomialNB()\n",
      "\u001b[4m\u001b[96mAccuracy:\u001b[0m  88.47 %\n",
      "\u001b[4m\u001b[96mConfusion matrix:\u001b[0m\n"
     ]
    },
    {
     "data": {
      "text/html": [
       "<div>\n",
       "<style scoped>\n",
       "    .dataframe tbody tr th:only-of-type {\n",
       "        vertical-align: middle;\n",
       "    }\n",
       "\n",
       "    .dataframe tbody tr th {\n",
       "        vertical-align: top;\n",
       "    }\n",
       "\n",
       "    .dataframe thead th {\n",
       "        text-align: right;\n",
       "    }\n",
       "</style>\n",
       "<table border=\"1\" class=\"dataframe\">\n",
       "  <thead>\n",
       "    <tr style=\"text-align: right;\">\n",
       "      <th></th>\n",
       "      <th>0</th>\n",
       "      <th>1</th>\n",
       "    </tr>\n",
       "  </thead>\n",
       "  <tbody>\n",
       "    <tr>\n",
       "      <th>0</th>\n",
       "      <td>2023</td>\n",
       "      <td>2</td>\n",
       "    </tr>\n",
       "    <tr>\n",
       "      <th>1</th>\n",
       "      <td>262</td>\n",
       "      <td>2</td>\n",
       "    </tr>\n",
       "  </tbody>\n",
       "</table>\n",
       "</div>"
      ],
      "text/plain": [
       "      0  1\n",
       "0  2023  2\n",
       "1   262  2"
      ]
     },
     "metadata": {},
     "output_type": "display_data"
    },
    {
     "name": "stdout",
     "output_type": "stream",
     "text": [
      "\n",
      "\u001b[4m\u001b[96mClassifier:\u001b[0m  CategoricalNB()\n",
      "\u001b[4m\u001b[96mAccuracy:\u001b[0m  88.51 %\n",
      "\u001b[4m\u001b[96mConfusion matrix:\u001b[0m\n"
     ]
    },
    {
     "data": {
      "text/html": [
       "<div>\n",
       "<style scoped>\n",
       "    .dataframe tbody tr th:only-of-type {\n",
       "        vertical-align: middle;\n",
       "    }\n",
       "\n",
       "    .dataframe tbody tr th {\n",
       "        vertical-align: top;\n",
       "    }\n",
       "\n",
       "    .dataframe thead th {\n",
       "        text-align: right;\n",
       "    }\n",
       "</style>\n",
       "<table border=\"1\" class=\"dataframe\">\n",
       "  <thead>\n",
       "    <tr style=\"text-align: right;\">\n",
       "      <th></th>\n",
       "      <th>0</th>\n",
       "      <th>1</th>\n",
       "    </tr>\n",
       "  </thead>\n",
       "  <tbody>\n",
       "    <tr>\n",
       "      <th>0</th>\n",
       "      <td>1972</td>\n",
       "      <td>53</td>\n",
       "    </tr>\n",
       "    <tr>\n",
       "      <th>1</th>\n",
       "      <td>210</td>\n",
       "      <td>54</td>\n",
       "    </tr>\n",
       "  </tbody>\n",
       "</table>\n",
       "</div>"
      ],
      "text/plain": [
       "      0   1\n",
       "0  1972  53\n",
       "1   210  54"
      ]
     },
     "metadata": {},
     "output_type": "display_data"
    },
    {
     "name": "stdout",
     "output_type": "stream",
     "text": [
      "\n",
      "\u001b[4m\u001b[96mClassifier:\u001b[0m  BernoulliNB()\n",
      "\u001b[4m\u001b[96mAccuracy:\u001b[0m  87.55 %\n",
      "\u001b[4m\u001b[96mConfusion matrix:\u001b[0m\n"
     ]
    },
    {
     "data": {
      "text/html": [
       "<div>\n",
       "<style scoped>\n",
       "    .dataframe tbody tr th:only-of-type {\n",
       "        vertical-align: middle;\n",
       "    }\n",
       "\n",
       "    .dataframe tbody tr th {\n",
       "        vertical-align: top;\n",
       "    }\n",
       "\n",
       "    .dataframe thead th {\n",
       "        text-align: right;\n",
       "    }\n",
       "</style>\n",
       "<table border=\"1\" class=\"dataframe\">\n",
       "  <thead>\n",
       "    <tr style=\"text-align: right;\">\n",
       "      <th></th>\n",
       "      <th>0</th>\n",
       "      <th>1</th>\n",
       "    </tr>\n",
       "  </thead>\n",
       "  <tbody>\n",
       "    <tr>\n",
       "      <th>0</th>\n",
       "      <td>1964</td>\n",
       "      <td>61</td>\n",
       "    </tr>\n",
       "    <tr>\n",
       "      <th>1</th>\n",
       "      <td>224</td>\n",
       "      <td>40</td>\n",
       "    </tr>\n",
       "  </tbody>\n",
       "</table>\n",
       "</div>"
      ],
      "text/plain": [
       "      0   1\n",
       "0  1964  61\n",
       "1   224  40"
      ]
     },
     "metadata": {},
     "output_type": "display_data"
    },
    {
     "name": "stdout",
     "output_type": "stream",
     "text": [
      "\n",
      "\u001b[4m\u001b[96mClassifier:\u001b[0m  ComplementNB()\n",
      "\u001b[4m\u001b[96mAccuracy:\u001b[0m  64.74 %\n",
      "\u001b[4m\u001b[96mConfusion matrix:\u001b[0m\n"
     ]
    },
    {
     "data": {
      "text/html": [
       "<div>\n",
       "<style scoped>\n",
       "    .dataframe tbody tr th:only-of-type {\n",
       "        vertical-align: middle;\n",
       "    }\n",
       "\n",
       "    .dataframe tbody tr th {\n",
       "        vertical-align: top;\n",
       "    }\n",
       "\n",
       "    .dataframe thead th {\n",
       "        text-align: right;\n",
       "    }\n",
       "</style>\n",
       "<table border=\"1\" class=\"dataframe\">\n",
       "  <thead>\n",
       "    <tr style=\"text-align: right;\">\n",
       "      <th></th>\n",
       "      <th>0</th>\n",
       "      <th>1</th>\n",
       "    </tr>\n",
       "  </thead>\n",
       "  <tbody>\n",
       "    <tr>\n",
       "      <th>0</th>\n",
       "      <td>1288</td>\n",
       "      <td>737</td>\n",
       "    </tr>\n",
       "    <tr>\n",
       "      <th>1</th>\n",
       "      <td>70</td>\n",
       "      <td>194</td>\n",
       "    </tr>\n",
       "  </tbody>\n",
       "</table>\n",
       "</div>"
      ],
      "text/plain": [
       "      0    1\n",
       "0  1288  737\n",
       "1    70  194"
      ]
     },
     "metadata": {},
     "output_type": "display_data"
    },
    {
     "name": "stdout",
     "output_type": "stream",
     "text": [
      "\n",
      "\u001b[95m\u001b[1m_____________________________________ 5 _____________________________________\u001b[0m\n",
      "\n",
      "\u001b[4m\u001b[96mClassifier:\u001b[0m  DecisionTreeClassifier(max_depth=3, min_samples_leaf=4, random_state=42)\n",
      "\u001b[4m\u001b[96mAccuracy:\u001b[0m  89.47 %\n",
      "\u001b[4m\u001b[96mConfusion matrix:\u001b[0m\n"
     ]
    },
    {
     "data": {
      "text/html": [
       "<div>\n",
       "<style scoped>\n",
       "    .dataframe tbody tr th:only-of-type {\n",
       "        vertical-align: middle;\n",
       "    }\n",
       "\n",
       "    .dataframe tbody tr th {\n",
       "        vertical-align: top;\n",
       "    }\n",
       "\n",
       "    .dataframe thead th {\n",
       "        text-align: right;\n",
       "    }\n",
       "</style>\n",
       "<table border=\"1\" class=\"dataframe\">\n",
       "  <thead>\n",
       "    <tr style=\"text-align: right;\">\n",
       "      <th></th>\n",
       "      <th>0</th>\n",
       "      <th>1</th>\n",
       "    </tr>\n",
       "  </thead>\n",
       "  <tbody>\n",
       "    <tr>\n",
       "      <th>0</th>\n",
       "      <td>1964</td>\n",
       "      <td>54</td>\n",
       "    </tr>\n",
       "    <tr>\n",
       "      <th>1</th>\n",
       "      <td>187</td>\n",
       "      <td>84</td>\n",
       "    </tr>\n",
       "  </tbody>\n",
       "</table>\n",
       "</div>"
      ],
      "text/plain": [
       "      0   1\n",
       "0  1964  54\n",
       "1   187  84"
      ]
     },
     "metadata": {},
     "output_type": "display_data"
    },
    {
     "name": "stdout",
     "output_type": "stream",
     "text": [
      "\n",
      "\u001b[4m\u001b[96mClassifier:\u001b[0m  KNeighborsClassifier(n_neighbors=23)\n",
      "\u001b[4m\u001b[96mAccuracy:\u001b[0m  89.03 %\n",
      "\u001b[4m\u001b[96mConfusion matrix:\u001b[0m\n"
     ]
    },
    {
     "data": {
      "text/html": [
       "<div>\n",
       "<style scoped>\n",
       "    .dataframe tbody tr th:only-of-type {\n",
       "        vertical-align: middle;\n",
       "    }\n",
       "\n",
       "    .dataframe tbody tr th {\n",
       "        vertical-align: top;\n",
       "    }\n",
       "\n",
       "    .dataframe thead th {\n",
       "        text-align: right;\n",
       "    }\n",
       "</style>\n",
       "<table border=\"1\" class=\"dataframe\">\n",
       "  <thead>\n",
       "    <tr style=\"text-align: right;\">\n",
       "      <th></th>\n",
       "      <th>0</th>\n",
       "      <th>1</th>\n",
       "    </tr>\n",
       "  </thead>\n",
       "  <tbody>\n",
       "    <tr>\n",
       "      <th>0</th>\n",
       "      <td>1988</td>\n",
       "      <td>30</td>\n",
       "    </tr>\n",
       "    <tr>\n",
       "      <th>1</th>\n",
       "      <td>221</td>\n",
       "      <td>50</td>\n",
       "    </tr>\n",
       "  </tbody>\n",
       "</table>\n",
       "</div>"
      ],
      "text/plain": [
       "      0   1\n",
       "0  1988  30\n",
       "1   221  50"
      ]
     },
     "metadata": {},
     "output_type": "display_data"
    },
    {
     "name": "stdout",
     "output_type": "stream",
     "text": [
      "\n",
      "\u001b[4m\u001b[96mClassifier:\u001b[0m  GaussianNB()\n",
      "\u001b[4m\u001b[96mAccuracy:\u001b[0m  82.48 %\n",
      "\u001b[4m\u001b[96mConfusion matrix:\u001b[0m\n"
     ]
    },
    {
     "data": {
      "text/html": [
       "<div>\n",
       "<style scoped>\n",
       "    .dataframe tbody tr th:only-of-type {\n",
       "        vertical-align: middle;\n",
       "    }\n",
       "\n",
       "    .dataframe tbody tr th {\n",
       "        vertical-align: top;\n",
       "    }\n",
       "\n",
       "    .dataframe thead th {\n",
       "        text-align: right;\n",
       "    }\n",
       "</style>\n",
       "<table border=\"1\" class=\"dataframe\">\n",
       "  <thead>\n",
       "    <tr style=\"text-align: right;\">\n",
       "      <th></th>\n",
       "      <th>0</th>\n",
       "      <th>1</th>\n",
       "    </tr>\n",
       "  </thead>\n",
       "  <tbody>\n",
       "    <tr>\n",
       "      <th>0</th>\n",
       "      <td>1744</td>\n",
       "      <td>274</td>\n",
       "    </tr>\n",
       "    <tr>\n",
       "      <th>1</th>\n",
       "      <td>127</td>\n",
       "      <td>144</td>\n",
       "    </tr>\n",
       "  </tbody>\n",
       "</table>\n",
       "</div>"
      ],
      "text/plain": [
       "      0    1\n",
       "0  1744  274\n",
       "1   127  144"
      ]
     },
     "metadata": {},
     "output_type": "display_data"
    },
    {
     "name": "stdout",
     "output_type": "stream",
     "text": [
      "\n",
      "\u001b[4m\u001b[96mClassifier:\u001b[0m  MultinomialNB()\n",
      "\u001b[4m\u001b[96mAccuracy:\u001b[0m  88.16 %\n",
      "\u001b[4m\u001b[96mConfusion matrix:\u001b[0m\n"
     ]
    },
    {
     "data": {
      "text/html": [
       "<div>\n",
       "<style scoped>\n",
       "    .dataframe tbody tr th:only-of-type {\n",
       "        vertical-align: middle;\n",
       "    }\n",
       "\n",
       "    .dataframe tbody tr th {\n",
       "        vertical-align: top;\n",
       "    }\n",
       "\n",
       "    .dataframe thead th {\n",
       "        text-align: right;\n",
       "    }\n",
       "</style>\n",
       "<table border=\"1\" class=\"dataframe\">\n",
       "  <thead>\n",
       "    <tr style=\"text-align: right;\">\n",
       "      <th></th>\n",
       "      <th>0</th>\n",
       "      <th>1</th>\n",
       "    </tr>\n",
       "  </thead>\n",
       "  <tbody>\n",
       "    <tr>\n",
       "      <th>0</th>\n",
       "      <td>2018</td>\n",
       "      <td>0</td>\n",
       "    </tr>\n",
       "    <tr>\n",
       "      <th>1</th>\n",
       "      <td>271</td>\n",
       "      <td>0</td>\n",
       "    </tr>\n",
       "  </tbody>\n",
       "</table>\n",
       "</div>"
      ],
      "text/plain": [
       "      0  1\n",
       "0  2018  0\n",
       "1   271  0"
      ]
     },
     "metadata": {},
     "output_type": "display_data"
    },
    {
     "name": "stdout",
     "output_type": "stream",
     "text": [
      "\n",
      "\u001b[4m\u001b[96mClassifier:\u001b[0m  CategoricalNB()\n",
      "\u001b[4m\u001b[96mAccuracy:\u001b[0m  88.16 %\n",
      "\u001b[4m\u001b[96mConfusion matrix:\u001b[0m\n"
     ]
    },
    {
     "data": {
      "text/html": [
       "<div>\n",
       "<style scoped>\n",
       "    .dataframe tbody tr th:only-of-type {\n",
       "        vertical-align: middle;\n",
       "    }\n",
       "\n",
       "    .dataframe tbody tr th {\n",
       "        vertical-align: top;\n",
       "    }\n",
       "\n",
       "    .dataframe thead th {\n",
       "        text-align: right;\n",
       "    }\n",
       "</style>\n",
       "<table border=\"1\" class=\"dataframe\">\n",
       "  <thead>\n",
       "    <tr style=\"text-align: right;\">\n",
       "      <th></th>\n",
       "      <th>0</th>\n",
       "      <th>1</th>\n",
       "    </tr>\n",
       "  </thead>\n",
       "  <tbody>\n",
       "    <tr>\n",
       "      <th>0</th>\n",
       "      <td>1958</td>\n",
       "      <td>60</td>\n",
       "    </tr>\n",
       "    <tr>\n",
       "      <th>1</th>\n",
       "      <td>211</td>\n",
       "      <td>60</td>\n",
       "    </tr>\n",
       "  </tbody>\n",
       "</table>\n",
       "</div>"
      ],
      "text/plain": [
       "      0   1\n",
       "0  1958  60\n",
       "1   211  60"
      ]
     },
     "metadata": {},
     "output_type": "display_data"
    },
    {
     "name": "stdout",
     "output_type": "stream",
     "text": [
      "\n",
      "\u001b[4m\u001b[96mClassifier:\u001b[0m  BernoulliNB()\n",
      "\u001b[4m\u001b[96mAccuracy:\u001b[0m  86.54 %\n",
      "\u001b[4m\u001b[96mConfusion matrix:\u001b[0m\n"
     ]
    },
    {
     "data": {
      "text/html": [
       "<div>\n",
       "<style scoped>\n",
       "    .dataframe tbody tr th:only-of-type {\n",
       "        vertical-align: middle;\n",
       "    }\n",
       "\n",
       "    .dataframe tbody tr th {\n",
       "        vertical-align: top;\n",
       "    }\n",
       "\n",
       "    .dataframe thead th {\n",
       "        text-align: right;\n",
       "    }\n",
       "</style>\n",
       "<table border=\"1\" class=\"dataframe\">\n",
       "  <thead>\n",
       "    <tr style=\"text-align: right;\">\n",
       "      <th></th>\n",
       "      <th>0</th>\n",
       "      <th>1</th>\n",
       "    </tr>\n",
       "  </thead>\n",
       "  <tbody>\n",
       "    <tr>\n",
       "      <th>0</th>\n",
       "      <td>1934</td>\n",
       "      <td>84</td>\n",
       "    </tr>\n",
       "    <tr>\n",
       "      <th>1</th>\n",
       "      <td>224</td>\n",
       "      <td>47</td>\n",
       "    </tr>\n",
       "  </tbody>\n",
       "</table>\n",
       "</div>"
      ],
      "text/plain": [
       "      0   1\n",
       "0  1934  84\n",
       "1   224  47"
      ]
     },
     "metadata": {},
     "output_type": "display_data"
    },
    {
     "name": "stdout",
     "output_type": "stream",
     "text": [
      "\n",
      "\u001b[4m\u001b[96mClassifier:\u001b[0m  ComplementNB()\n",
      "\u001b[4m\u001b[96mAccuracy:\u001b[0m  65.09 %\n",
      "\u001b[4m\u001b[96mConfusion matrix:\u001b[0m\n"
     ]
    },
    {
     "data": {
      "text/html": [
       "<div>\n",
       "<style scoped>\n",
       "    .dataframe tbody tr th:only-of-type {\n",
       "        vertical-align: middle;\n",
       "    }\n",
       "\n",
       "    .dataframe tbody tr th {\n",
       "        vertical-align: top;\n",
       "    }\n",
       "\n",
       "    .dataframe thead th {\n",
       "        text-align: right;\n",
       "    }\n",
       "</style>\n",
       "<table border=\"1\" class=\"dataframe\">\n",
       "  <thead>\n",
       "    <tr style=\"text-align: right;\">\n",
       "      <th></th>\n",
       "      <th>0</th>\n",
       "      <th>1</th>\n",
       "    </tr>\n",
       "  </thead>\n",
       "  <tbody>\n",
       "    <tr>\n",
       "      <th>0</th>\n",
       "      <td>1307</td>\n",
       "      <td>711</td>\n",
       "    </tr>\n",
       "    <tr>\n",
       "      <th>1</th>\n",
       "      <td>88</td>\n",
       "      <td>183</td>\n",
       "    </tr>\n",
       "  </tbody>\n",
       "</table>\n",
       "</div>"
      ],
      "text/plain": [
       "      0    1\n",
       "0  1307  711\n",
       "1    88  183"
      ]
     },
     "metadata": {},
     "output_type": "display_data"
    },
    {
     "name": "stdout",
     "output_type": "stream",
     "text": [
      "\n",
      "\u001b[95m\u001b[1m_____________________________________ 6 _____________________________________\u001b[0m\n",
      "\n",
      "\u001b[4m\u001b[96mClassifier:\u001b[0m  DecisionTreeClassifier(max_depth=3, min_samples_leaf=4, random_state=42)\n",
      "\u001b[4m\u001b[96mAccuracy:\u001b[0m  90.56 %\n",
      "\u001b[4m\u001b[96mConfusion matrix:\u001b[0m\n"
     ]
    },
    {
     "data": {
      "text/html": [
       "<div>\n",
       "<style scoped>\n",
       "    .dataframe tbody tr th:only-of-type {\n",
       "        vertical-align: middle;\n",
       "    }\n",
       "\n",
       "    .dataframe tbody tr th {\n",
       "        vertical-align: top;\n",
       "    }\n",
       "\n",
       "    .dataframe thead th {\n",
       "        text-align: right;\n",
       "    }\n",
       "</style>\n",
       "<table border=\"1\" class=\"dataframe\">\n",
       "  <thead>\n",
       "    <tr style=\"text-align: right;\">\n",
       "      <th></th>\n",
       "      <th>0</th>\n",
       "      <th>1</th>\n",
       "    </tr>\n",
       "  </thead>\n",
       "  <tbody>\n",
       "    <tr>\n",
       "      <th>0</th>\n",
       "      <td>1983</td>\n",
       "      <td>43</td>\n",
       "    </tr>\n",
       "    <tr>\n",
       "      <th>1</th>\n",
       "      <td>173</td>\n",
       "      <td>90</td>\n",
       "    </tr>\n",
       "  </tbody>\n",
       "</table>\n",
       "</div>"
      ],
      "text/plain": [
       "      0   1\n",
       "0  1983  43\n",
       "1   173  90"
      ]
     },
     "metadata": {},
     "output_type": "display_data"
    },
    {
     "name": "stdout",
     "output_type": "stream",
     "text": [
      "\n",
      "\u001b[4m\u001b[96mClassifier:\u001b[0m  KNeighborsClassifier(n_neighbors=23)\n",
      "\u001b[4m\u001b[96mAccuracy:\u001b[0m  89.86 %\n",
      "\u001b[4m\u001b[96mConfusion matrix:\u001b[0m\n"
     ]
    },
    {
     "data": {
      "text/html": [
       "<div>\n",
       "<style scoped>\n",
       "    .dataframe tbody tr th:only-of-type {\n",
       "        vertical-align: middle;\n",
       "    }\n",
       "\n",
       "    .dataframe tbody tr th {\n",
       "        vertical-align: top;\n",
       "    }\n",
       "\n",
       "    .dataframe thead th {\n",
       "        text-align: right;\n",
       "    }\n",
       "</style>\n",
       "<table border=\"1\" class=\"dataframe\">\n",
       "  <thead>\n",
       "    <tr style=\"text-align: right;\">\n",
       "      <th></th>\n",
       "      <th>0</th>\n",
       "      <th>1</th>\n",
       "    </tr>\n",
       "  </thead>\n",
       "  <tbody>\n",
       "    <tr>\n",
       "      <th>0</th>\n",
       "      <td>2000</td>\n",
       "      <td>26</td>\n",
       "    </tr>\n",
       "    <tr>\n",
       "      <th>1</th>\n",
       "      <td>206</td>\n",
       "      <td>57</td>\n",
       "    </tr>\n",
       "  </tbody>\n",
       "</table>\n",
       "</div>"
      ],
      "text/plain": [
       "      0   1\n",
       "0  2000  26\n",
       "1   206  57"
      ]
     },
     "metadata": {},
     "output_type": "display_data"
    },
    {
     "name": "stdout",
     "output_type": "stream",
     "text": [
      "\n",
      "\u001b[4m\u001b[96mClassifier:\u001b[0m  GaussianNB()\n",
      "\u001b[4m\u001b[96mAccuracy:\u001b[0m  84.49 %\n",
      "\u001b[4m\u001b[96mConfusion matrix:\u001b[0m\n"
     ]
    },
    {
     "data": {
      "text/html": [
       "<div>\n",
       "<style scoped>\n",
       "    .dataframe tbody tr th:only-of-type {\n",
       "        vertical-align: middle;\n",
       "    }\n",
       "\n",
       "    .dataframe tbody tr th {\n",
       "        vertical-align: top;\n",
       "    }\n",
       "\n",
       "    .dataframe thead th {\n",
       "        text-align: right;\n",
       "    }\n",
       "</style>\n",
       "<table border=\"1\" class=\"dataframe\">\n",
       "  <thead>\n",
       "    <tr style=\"text-align: right;\">\n",
       "      <th></th>\n",
       "      <th>0</th>\n",
       "      <th>1</th>\n",
       "    </tr>\n",
       "  </thead>\n",
       "  <tbody>\n",
       "    <tr>\n",
       "      <th>0</th>\n",
       "      <td>1791</td>\n",
       "      <td>235</td>\n",
       "    </tr>\n",
       "    <tr>\n",
       "      <th>1</th>\n",
       "      <td>120</td>\n",
       "      <td>143</td>\n",
       "    </tr>\n",
       "  </tbody>\n",
       "</table>\n",
       "</div>"
      ],
      "text/plain": [
       "      0    1\n",
       "0  1791  235\n",
       "1   120  143"
      ]
     },
     "metadata": {},
     "output_type": "display_data"
    },
    {
     "name": "stdout",
     "output_type": "stream",
     "text": [
      "\n",
      "\u001b[4m\u001b[96mClassifier:\u001b[0m  MultinomialNB()\n",
      "\u001b[4m\u001b[96mAccuracy:\u001b[0m  88.51 %\n",
      "\u001b[4m\u001b[96mConfusion matrix:\u001b[0m\n"
     ]
    },
    {
     "data": {
      "text/html": [
       "<div>\n",
       "<style scoped>\n",
       "    .dataframe tbody tr th:only-of-type {\n",
       "        vertical-align: middle;\n",
       "    }\n",
       "\n",
       "    .dataframe tbody tr th {\n",
       "        vertical-align: top;\n",
       "    }\n",
       "\n",
       "    .dataframe thead th {\n",
       "        text-align: right;\n",
       "    }\n",
       "</style>\n",
       "<table border=\"1\" class=\"dataframe\">\n",
       "  <thead>\n",
       "    <tr style=\"text-align: right;\">\n",
       "      <th></th>\n",
       "      <th>0</th>\n",
       "      <th>1</th>\n",
       "    </tr>\n",
       "  </thead>\n",
       "  <tbody>\n",
       "    <tr>\n",
       "      <th>0</th>\n",
       "      <td>2026</td>\n",
       "      <td>0</td>\n",
       "    </tr>\n",
       "    <tr>\n",
       "      <th>1</th>\n",
       "      <td>263</td>\n",
       "      <td>0</td>\n",
       "    </tr>\n",
       "  </tbody>\n",
       "</table>\n",
       "</div>"
      ],
      "text/plain": [
       "      0  1\n",
       "0  2026  0\n",
       "1   263  0"
      ]
     },
     "metadata": {},
     "output_type": "display_data"
    },
    {
     "name": "stdout",
     "output_type": "stream",
     "text": [
      "\n",
      "\u001b[4m\u001b[96mClassifier:\u001b[0m  CategoricalNB()\n",
      "\u001b[4m\u001b[96mAccuracy:\u001b[0m  88.86 %\n",
      "\u001b[4m\u001b[96mConfusion matrix:\u001b[0m\n"
     ]
    },
    {
     "data": {
      "text/html": [
       "<div>\n",
       "<style scoped>\n",
       "    .dataframe tbody tr th:only-of-type {\n",
       "        vertical-align: middle;\n",
       "    }\n",
       "\n",
       "    .dataframe tbody tr th {\n",
       "        vertical-align: top;\n",
       "    }\n",
       "\n",
       "    .dataframe thead th {\n",
       "        text-align: right;\n",
       "    }\n",
       "</style>\n",
       "<table border=\"1\" class=\"dataframe\">\n",
       "  <thead>\n",
       "    <tr style=\"text-align: right;\">\n",
       "      <th></th>\n",
       "      <th>0</th>\n",
       "      <th>1</th>\n",
       "    </tr>\n",
       "  </thead>\n",
       "  <tbody>\n",
       "    <tr>\n",
       "      <th>0</th>\n",
       "      <td>1971</td>\n",
       "      <td>55</td>\n",
       "    </tr>\n",
       "    <tr>\n",
       "      <th>1</th>\n",
       "      <td>200</td>\n",
       "      <td>63</td>\n",
       "    </tr>\n",
       "  </tbody>\n",
       "</table>\n",
       "</div>"
      ],
      "text/plain": [
       "      0   1\n",
       "0  1971  55\n",
       "1   200  63"
      ]
     },
     "metadata": {},
     "output_type": "display_data"
    },
    {
     "name": "stdout",
     "output_type": "stream",
     "text": [
      "\n",
      "\u001b[4m\u001b[96mClassifier:\u001b[0m  BernoulliNB()\n",
      "\u001b[4m\u001b[96mAccuracy:\u001b[0m  86.5 %\n",
      "\u001b[4m\u001b[96mConfusion matrix:\u001b[0m\n"
     ]
    },
    {
     "data": {
      "text/html": [
       "<div>\n",
       "<style scoped>\n",
       "    .dataframe tbody tr th:only-of-type {\n",
       "        vertical-align: middle;\n",
       "    }\n",
       "\n",
       "    .dataframe tbody tr th {\n",
       "        vertical-align: top;\n",
       "    }\n",
       "\n",
       "    .dataframe thead th {\n",
       "        text-align: right;\n",
       "    }\n",
       "</style>\n",
       "<table border=\"1\" class=\"dataframe\">\n",
       "  <thead>\n",
       "    <tr style=\"text-align: right;\">\n",
       "      <th></th>\n",
       "      <th>0</th>\n",
       "      <th>1</th>\n",
       "    </tr>\n",
       "  </thead>\n",
       "  <tbody>\n",
       "    <tr>\n",
       "      <th>0</th>\n",
       "      <td>1944</td>\n",
       "      <td>82</td>\n",
       "    </tr>\n",
       "    <tr>\n",
       "      <th>1</th>\n",
       "      <td>227</td>\n",
       "      <td>36</td>\n",
       "    </tr>\n",
       "  </tbody>\n",
       "</table>\n",
       "</div>"
      ],
      "text/plain": [
       "      0   1\n",
       "0  1944  82\n",
       "1   227  36"
      ]
     },
     "metadata": {},
     "output_type": "display_data"
    },
    {
     "name": "stdout",
     "output_type": "stream",
     "text": [
      "\n",
      "\u001b[4m\u001b[96mClassifier:\u001b[0m  ComplementNB()\n",
      "\u001b[4m\u001b[96mAccuracy:\u001b[0m  65.22 %\n",
      "\u001b[4m\u001b[96mConfusion matrix:\u001b[0m\n"
     ]
    },
    {
     "data": {
      "text/html": [
       "<div>\n",
       "<style scoped>\n",
       "    .dataframe tbody tr th:only-of-type {\n",
       "        vertical-align: middle;\n",
       "    }\n",
       "\n",
       "    .dataframe tbody tr th {\n",
       "        vertical-align: top;\n",
       "    }\n",
       "\n",
       "    .dataframe thead th {\n",
       "        text-align: right;\n",
       "    }\n",
       "</style>\n",
       "<table border=\"1\" class=\"dataframe\">\n",
       "  <thead>\n",
       "    <tr style=\"text-align: right;\">\n",
       "      <th></th>\n",
       "      <th>0</th>\n",
       "      <th>1</th>\n",
       "    </tr>\n",
       "  </thead>\n",
       "  <tbody>\n",
       "    <tr>\n",
       "      <th>0</th>\n",
       "      <td>1294</td>\n",
       "      <td>732</td>\n",
       "    </tr>\n",
       "    <tr>\n",
       "      <th>1</th>\n",
       "      <td>64</td>\n",
       "      <td>199</td>\n",
       "    </tr>\n",
       "  </tbody>\n",
       "</table>\n",
       "</div>"
      ],
      "text/plain": [
       "      0    1\n",
       "0  1294  732\n",
       "1    64  199"
      ]
     },
     "metadata": {},
     "output_type": "display_data"
    },
    {
     "name": "stdout",
     "output_type": "stream",
     "text": [
      "\n",
      "\u001b[95m\u001b[1m_____________________________________ 7 _____________________________________\u001b[0m\n",
      "\n",
      "\u001b[4m\u001b[96mClassifier:\u001b[0m  DecisionTreeClassifier(max_depth=3, min_samples_leaf=4, random_state=42)\n",
      "\u001b[4m\u001b[96mAccuracy:\u001b[0m  91.26 %\n",
      "\u001b[4m\u001b[96mConfusion matrix:\u001b[0m\n"
     ]
    },
    {
     "data": {
      "text/html": [
       "<div>\n",
       "<style scoped>\n",
       "    .dataframe tbody tr th:only-of-type {\n",
       "        vertical-align: middle;\n",
       "    }\n",
       "\n",
       "    .dataframe tbody tr th {\n",
       "        vertical-align: top;\n",
       "    }\n",
       "\n",
       "    .dataframe thead th {\n",
       "        text-align: right;\n",
       "    }\n",
       "</style>\n",
       "<table border=\"1\" class=\"dataframe\">\n",
       "  <thead>\n",
       "    <tr style=\"text-align: right;\">\n",
       "      <th></th>\n",
       "      <th>0</th>\n",
       "      <th>1</th>\n",
       "    </tr>\n",
       "  </thead>\n",
       "  <tbody>\n",
       "    <tr>\n",
       "      <th>0</th>\n",
       "      <td>2018</td>\n",
       "      <td>47</td>\n",
       "    </tr>\n",
       "    <tr>\n",
       "      <th>1</th>\n",
       "      <td>153</td>\n",
       "      <td>71</td>\n",
       "    </tr>\n",
       "  </tbody>\n",
       "</table>\n",
       "</div>"
      ],
      "text/plain": [
       "      0   1\n",
       "0  2018  47\n",
       "1   153  71"
      ]
     },
     "metadata": {},
     "output_type": "display_data"
    },
    {
     "name": "stdout",
     "output_type": "stream",
     "text": [
      "\n",
      "\u001b[4m\u001b[96mClassifier:\u001b[0m  KNeighborsClassifier(n_neighbors=23)\n",
      "\u001b[4m\u001b[96mAccuracy:\u001b[0m  91.35 %\n",
      "\u001b[4m\u001b[96mConfusion matrix:\u001b[0m\n"
     ]
    },
    {
     "data": {
      "text/html": [
       "<div>\n",
       "<style scoped>\n",
       "    .dataframe tbody tr th:only-of-type {\n",
       "        vertical-align: middle;\n",
       "    }\n",
       "\n",
       "    .dataframe tbody tr th {\n",
       "        vertical-align: top;\n",
       "    }\n",
       "\n",
       "    .dataframe thead th {\n",
       "        text-align: right;\n",
       "    }\n",
       "</style>\n",
       "<table border=\"1\" class=\"dataframe\">\n",
       "  <thead>\n",
       "    <tr style=\"text-align: right;\">\n",
       "      <th></th>\n",
       "      <th>0</th>\n",
       "      <th>1</th>\n",
       "    </tr>\n",
       "  </thead>\n",
       "  <tbody>\n",
       "    <tr>\n",
       "      <th>0</th>\n",
       "      <td>2039</td>\n",
       "      <td>26</td>\n",
       "    </tr>\n",
       "    <tr>\n",
       "      <th>1</th>\n",
       "      <td>172</td>\n",
       "      <td>52</td>\n",
       "    </tr>\n",
       "  </tbody>\n",
       "</table>\n",
       "</div>"
      ],
      "text/plain": [
       "      0   1\n",
       "0  2039  26\n",
       "1   172  52"
      ]
     },
     "metadata": {},
     "output_type": "display_data"
    },
    {
     "name": "stdout",
     "output_type": "stream",
     "text": [
      "\n",
      "\u001b[4m\u001b[96mClassifier:\u001b[0m  GaussianNB()\n",
      "\u001b[4m\u001b[96mAccuracy:\u001b[0m  85.06 %\n",
      "\u001b[4m\u001b[96mConfusion matrix:\u001b[0m\n"
     ]
    },
    {
     "data": {
      "text/html": [
       "<div>\n",
       "<style scoped>\n",
       "    .dataframe tbody tr th:only-of-type {\n",
       "        vertical-align: middle;\n",
       "    }\n",
       "\n",
       "    .dataframe tbody tr th {\n",
       "        vertical-align: top;\n",
       "    }\n",
       "\n",
       "    .dataframe thead th {\n",
       "        text-align: right;\n",
       "    }\n",
       "</style>\n",
       "<table border=\"1\" class=\"dataframe\">\n",
       "  <thead>\n",
       "    <tr style=\"text-align: right;\">\n",
       "      <th></th>\n",
       "      <th>0</th>\n",
       "      <th>1</th>\n",
       "    </tr>\n",
       "  </thead>\n",
       "  <tbody>\n",
       "    <tr>\n",
       "      <th>0</th>\n",
       "      <td>1823</td>\n",
       "      <td>242</td>\n",
       "    </tr>\n",
       "    <tr>\n",
       "      <th>1</th>\n",
       "      <td>100</td>\n",
       "      <td>124</td>\n",
       "    </tr>\n",
       "  </tbody>\n",
       "</table>\n",
       "</div>"
      ],
      "text/plain": [
       "      0    1\n",
       "0  1823  242\n",
       "1   100  124"
      ]
     },
     "metadata": {},
     "output_type": "display_data"
    },
    {
     "name": "stdout",
     "output_type": "stream",
     "text": [
      "\n",
      "\u001b[4m\u001b[96mClassifier:\u001b[0m  MultinomialNB()\n",
      "\u001b[4m\u001b[96mAccuracy:\u001b[0m  90.21 %\n",
      "\u001b[4m\u001b[96mConfusion matrix:\u001b[0m\n"
     ]
    },
    {
     "data": {
      "text/html": [
       "<div>\n",
       "<style scoped>\n",
       "    .dataframe tbody tr th:only-of-type {\n",
       "        vertical-align: middle;\n",
       "    }\n",
       "\n",
       "    .dataframe tbody tr th {\n",
       "        vertical-align: top;\n",
       "    }\n",
       "\n",
       "    .dataframe thead th {\n",
       "        text-align: right;\n",
       "    }\n",
       "</style>\n",
       "<table border=\"1\" class=\"dataframe\">\n",
       "  <thead>\n",
       "    <tr style=\"text-align: right;\">\n",
       "      <th></th>\n",
       "      <th>0</th>\n",
       "      <th>1</th>\n",
       "    </tr>\n",
       "  </thead>\n",
       "  <tbody>\n",
       "    <tr>\n",
       "      <th>0</th>\n",
       "      <td>2064</td>\n",
       "      <td>1</td>\n",
       "    </tr>\n",
       "    <tr>\n",
       "      <th>1</th>\n",
       "      <td>223</td>\n",
       "      <td>1</td>\n",
       "    </tr>\n",
       "  </tbody>\n",
       "</table>\n",
       "</div>"
      ],
      "text/plain": [
       "      0  1\n",
       "0  2064  1\n",
       "1   223  1"
      ]
     },
     "metadata": {},
     "output_type": "display_data"
    },
    {
     "name": "stdout",
     "output_type": "stream",
     "text": [
      "\n",
      "\u001b[4m\u001b[96mClassifier:\u001b[0m  CategoricalNB()\n",
      "\u001b[4m\u001b[96mAccuracy:\u001b[0m  90.65 %\n",
      "\u001b[4m\u001b[96mConfusion matrix:\u001b[0m\n"
     ]
    },
    {
     "data": {
      "text/html": [
       "<div>\n",
       "<style scoped>\n",
       "    .dataframe tbody tr th:only-of-type {\n",
       "        vertical-align: middle;\n",
       "    }\n",
       "\n",
       "    .dataframe tbody tr th {\n",
       "        vertical-align: top;\n",
       "    }\n",
       "\n",
       "    .dataframe thead th {\n",
       "        text-align: right;\n",
       "    }\n",
       "</style>\n",
       "<table border=\"1\" class=\"dataframe\">\n",
       "  <thead>\n",
       "    <tr style=\"text-align: right;\">\n",
       "      <th></th>\n",
       "      <th>0</th>\n",
       "      <th>1</th>\n",
       "    </tr>\n",
       "  </thead>\n",
       "  <tbody>\n",
       "    <tr>\n",
       "      <th>0</th>\n",
       "      <td>2017</td>\n",
       "      <td>48</td>\n",
       "    </tr>\n",
       "    <tr>\n",
       "      <th>1</th>\n",
       "      <td>166</td>\n",
       "      <td>58</td>\n",
       "    </tr>\n",
       "  </tbody>\n",
       "</table>\n",
       "</div>"
      ],
      "text/plain": [
       "      0   1\n",
       "0  2017  48\n",
       "1   166  58"
      ]
     },
     "metadata": {},
     "output_type": "display_data"
    },
    {
     "name": "stdout",
     "output_type": "stream",
     "text": [
      "\n",
      "\u001b[4m\u001b[96mClassifier:\u001b[0m  BernoulliNB()\n",
      "\u001b[4m\u001b[96mAccuracy:\u001b[0m  89.82 %\n",
      "\u001b[4m\u001b[96mConfusion matrix:\u001b[0m\n"
     ]
    },
    {
     "data": {
      "text/html": [
       "<div>\n",
       "<style scoped>\n",
       "    .dataframe tbody tr th:only-of-type {\n",
       "        vertical-align: middle;\n",
       "    }\n",
       "\n",
       "    .dataframe tbody tr th {\n",
       "        vertical-align: top;\n",
       "    }\n",
       "\n",
       "    .dataframe thead th {\n",
       "        text-align: right;\n",
       "    }\n",
       "</style>\n",
       "<table border=\"1\" class=\"dataframe\">\n",
       "  <thead>\n",
       "    <tr style=\"text-align: right;\">\n",
       "      <th></th>\n",
       "      <th>0</th>\n",
       "      <th>1</th>\n",
       "    </tr>\n",
       "  </thead>\n",
       "  <tbody>\n",
       "    <tr>\n",
       "      <th>0</th>\n",
       "      <td>2010</td>\n",
       "      <td>55</td>\n",
       "    </tr>\n",
       "    <tr>\n",
       "      <th>1</th>\n",
       "      <td>178</td>\n",
       "      <td>46</td>\n",
       "    </tr>\n",
       "  </tbody>\n",
       "</table>\n",
       "</div>"
      ],
      "text/plain": [
       "      0   1\n",
       "0  2010  55\n",
       "1   178  46"
      ]
     },
     "metadata": {},
     "output_type": "display_data"
    },
    {
     "name": "stdout",
     "output_type": "stream",
     "text": [
      "\n",
      "\u001b[4m\u001b[96mClassifier:\u001b[0m  ComplementNB()\n",
      "\u001b[4m\u001b[96mAccuracy:\u001b[0m  63.43 %\n",
      "\u001b[4m\u001b[96mConfusion matrix:\u001b[0m\n"
     ]
    },
    {
     "data": {
      "text/html": [
       "<div>\n",
       "<style scoped>\n",
       "    .dataframe tbody tr th:only-of-type {\n",
       "        vertical-align: middle;\n",
       "    }\n",
       "\n",
       "    .dataframe tbody tr th {\n",
       "        vertical-align: top;\n",
       "    }\n",
       "\n",
       "    .dataframe thead th {\n",
       "        text-align: right;\n",
       "    }\n",
       "</style>\n",
       "<table border=\"1\" class=\"dataframe\">\n",
       "  <thead>\n",
       "    <tr style=\"text-align: right;\">\n",
       "      <th></th>\n",
       "      <th>0</th>\n",
       "      <th>1</th>\n",
       "    </tr>\n",
       "  </thead>\n",
       "  <tbody>\n",
       "    <tr>\n",
       "      <th>0</th>\n",
       "      <td>1284</td>\n",
       "      <td>781</td>\n",
       "    </tr>\n",
       "    <tr>\n",
       "      <th>1</th>\n",
       "      <td>56</td>\n",
       "      <td>168</td>\n",
       "    </tr>\n",
       "  </tbody>\n",
       "</table>\n",
       "</div>"
      ],
      "text/plain": [
       "      0    1\n",
       "0  1284  781\n",
       "1    56  168"
      ]
     },
     "metadata": {},
     "output_type": "display_data"
    },
    {
     "name": "stdout",
     "output_type": "stream",
     "text": [
      "\n",
      "\u001b[95m\u001b[1m_____________________________________ 8 _____________________________________\u001b[0m\n",
      "\n",
      "\u001b[4m\u001b[96mClassifier:\u001b[0m  DecisionTreeClassifier(max_depth=3, min_samples_leaf=4, random_state=42)\n",
      "\u001b[4m\u001b[96mAccuracy:\u001b[0m  90.25 %\n",
      "\u001b[4m\u001b[96mConfusion matrix:\u001b[0m\n"
     ]
    },
    {
     "data": {
      "text/html": [
       "<div>\n",
       "<style scoped>\n",
       "    .dataframe tbody tr th:only-of-type {\n",
       "        vertical-align: middle;\n",
       "    }\n",
       "\n",
       "    .dataframe tbody tr th {\n",
       "        vertical-align: top;\n",
       "    }\n",
       "\n",
       "    .dataframe thead th {\n",
       "        text-align: right;\n",
       "    }\n",
       "</style>\n",
       "<table border=\"1\" class=\"dataframe\">\n",
       "  <thead>\n",
       "    <tr style=\"text-align: right;\">\n",
       "      <th></th>\n",
       "      <th>0</th>\n",
       "      <th>1</th>\n",
       "    </tr>\n",
       "  </thead>\n",
       "  <tbody>\n",
       "    <tr>\n",
       "      <th>0</th>\n",
       "      <td>1986</td>\n",
       "      <td>36</td>\n",
       "    </tr>\n",
       "    <tr>\n",
       "      <th>1</th>\n",
       "      <td>187</td>\n",
       "      <td>79</td>\n",
       "    </tr>\n",
       "  </tbody>\n",
       "</table>\n",
       "</div>"
      ],
      "text/plain": [
       "      0   1\n",
       "0  1986  36\n",
       "1   187  79"
      ]
     },
     "metadata": {},
     "output_type": "display_data"
    },
    {
     "name": "stdout",
     "output_type": "stream",
     "text": [
      "\n",
      "\u001b[4m\u001b[96mClassifier:\u001b[0m  KNeighborsClassifier(n_neighbors=23)\n",
      "\u001b[4m\u001b[96mAccuracy:\u001b[0m  89.55 %\n",
      "\u001b[4m\u001b[96mConfusion matrix:\u001b[0m\n"
     ]
    },
    {
     "data": {
      "text/html": [
       "<div>\n",
       "<style scoped>\n",
       "    .dataframe tbody tr th:only-of-type {\n",
       "        vertical-align: middle;\n",
       "    }\n",
       "\n",
       "    .dataframe tbody tr th {\n",
       "        vertical-align: top;\n",
       "    }\n",
       "\n",
       "    .dataframe thead th {\n",
       "        text-align: right;\n",
       "    }\n",
       "</style>\n",
       "<table border=\"1\" class=\"dataframe\">\n",
       "  <thead>\n",
       "    <tr style=\"text-align: right;\">\n",
       "      <th></th>\n",
       "      <th>0</th>\n",
       "      <th>1</th>\n",
       "    </tr>\n",
       "  </thead>\n",
       "  <tbody>\n",
       "    <tr>\n",
       "      <th>0</th>\n",
       "      <td>1998</td>\n",
       "      <td>24</td>\n",
       "    </tr>\n",
       "    <tr>\n",
       "      <th>1</th>\n",
       "      <td>215</td>\n",
       "      <td>51</td>\n",
       "    </tr>\n",
       "  </tbody>\n",
       "</table>\n",
       "</div>"
      ],
      "text/plain": [
       "      0   1\n",
       "0  1998  24\n",
       "1   215  51"
      ]
     },
     "metadata": {},
     "output_type": "display_data"
    },
    {
     "name": "stdout",
     "output_type": "stream",
     "text": [
      "\n",
      "\u001b[4m\u001b[96mClassifier:\u001b[0m  GaussianNB()\n",
      "\u001b[4m\u001b[96mAccuracy:\u001b[0m  85.27 %\n",
      "\u001b[4m\u001b[96mConfusion matrix:\u001b[0m\n"
     ]
    },
    {
     "data": {
      "text/html": [
       "<div>\n",
       "<style scoped>\n",
       "    .dataframe tbody tr th:only-of-type {\n",
       "        vertical-align: middle;\n",
       "    }\n",
       "\n",
       "    .dataframe tbody tr th {\n",
       "        vertical-align: top;\n",
       "    }\n",
       "\n",
       "    .dataframe thead th {\n",
       "        text-align: right;\n",
       "    }\n",
       "</style>\n",
       "<table border=\"1\" class=\"dataframe\">\n",
       "  <thead>\n",
       "    <tr style=\"text-align: right;\">\n",
       "      <th></th>\n",
       "      <th>0</th>\n",
       "      <th>1</th>\n",
       "    </tr>\n",
       "  </thead>\n",
       "  <tbody>\n",
       "    <tr>\n",
       "      <th>0</th>\n",
       "      <td>1804</td>\n",
       "      <td>218</td>\n",
       "    </tr>\n",
       "    <tr>\n",
       "      <th>1</th>\n",
       "      <td>119</td>\n",
       "      <td>147</td>\n",
       "    </tr>\n",
       "  </tbody>\n",
       "</table>\n",
       "</div>"
      ],
      "text/plain": [
       "      0    1\n",
       "0  1804  218\n",
       "1   119  147"
      ]
     },
     "metadata": {},
     "output_type": "display_data"
    },
    {
     "name": "stdout",
     "output_type": "stream",
     "text": [
      "\n",
      "\u001b[4m\u001b[96mClassifier:\u001b[0m  MultinomialNB()\n",
      "\u001b[4m\u001b[96mAccuracy:\u001b[0m  88.42 %\n",
      "\u001b[4m\u001b[96mConfusion matrix:\u001b[0m\n"
     ]
    },
    {
     "data": {
      "text/html": [
       "<div>\n",
       "<style scoped>\n",
       "    .dataframe tbody tr th:only-of-type {\n",
       "        vertical-align: middle;\n",
       "    }\n",
       "\n",
       "    .dataframe tbody tr th {\n",
       "        vertical-align: top;\n",
       "    }\n",
       "\n",
       "    .dataframe thead th {\n",
       "        text-align: right;\n",
       "    }\n",
       "</style>\n",
       "<table border=\"1\" class=\"dataframe\">\n",
       "  <thead>\n",
       "    <tr style=\"text-align: right;\">\n",
       "      <th></th>\n",
       "      <th>0</th>\n",
       "      <th>1</th>\n",
       "    </tr>\n",
       "  </thead>\n",
       "  <tbody>\n",
       "    <tr>\n",
       "      <th>0</th>\n",
       "      <td>2022</td>\n",
       "      <td>0</td>\n",
       "    </tr>\n",
       "    <tr>\n",
       "      <th>1</th>\n",
       "      <td>265</td>\n",
       "      <td>1</td>\n",
       "    </tr>\n",
       "  </tbody>\n",
       "</table>\n",
       "</div>"
      ],
      "text/plain": [
       "      0  1\n",
       "0  2022  0\n",
       "1   265  1"
      ]
     },
     "metadata": {},
     "output_type": "display_data"
    },
    {
     "name": "stdout",
     "output_type": "stream",
     "text": [
      "\n",
      "\u001b[4m\u001b[96mClassifier:\u001b[0m  CategoricalNB()\n",
      "\u001b[4m\u001b[96mAccuracy:\u001b[0m  88.77 %\n",
      "\u001b[4m\u001b[96mConfusion matrix:\u001b[0m\n"
     ]
    },
    {
     "data": {
      "text/html": [
       "<div>\n",
       "<style scoped>\n",
       "    .dataframe tbody tr th:only-of-type {\n",
       "        vertical-align: middle;\n",
       "    }\n",
       "\n",
       "    .dataframe tbody tr th {\n",
       "        vertical-align: top;\n",
       "    }\n",
       "\n",
       "    .dataframe thead th {\n",
       "        text-align: right;\n",
       "    }\n",
       "</style>\n",
       "<table border=\"1\" class=\"dataframe\">\n",
       "  <thead>\n",
       "    <tr style=\"text-align: right;\">\n",
       "      <th></th>\n",
       "      <th>0</th>\n",
       "      <th>1</th>\n",
       "    </tr>\n",
       "  </thead>\n",
       "  <tbody>\n",
       "    <tr>\n",
       "      <th>0</th>\n",
       "      <td>1972</td>\n",
       "      <td>50</td>\n",
       "    </tr>\n",
       "    <tr>\n",
       "      <th>1</th>\n",
       "      <td>207</td>\n",
       "      <td>59</td>\n",
       "    </tr>\n",
       "  </tbody>\n",
       "</table>\n",
       "</div>"
      ],
      "text/plain": [
       "      0   1\n",
       "0  1972  50\n",
       "1   207  59"
      ]
     },
     "metadata": {},
     "output_type": "display_data"
    },
    {
     "name": "stdout",
     "output_type": "stream",
     "text": [
      "\n",
      "\u001b[4m\u001b[96mClassifier:\u001b[0m  BernoulliNB()\n",
      "\u001b[4m\u001b[96mAccuracy:\u001b[0m  87.81 %\n",
      "\u001b[4m\u001b[96mConfusion matrix:\u001b[0m\n"
     ]
    },
    {
     "data": {
      "text/html": [
       "<div>\n",
       "<style scoped>\n",
       "    .dataframe tbody tr th:only-of-type {\n",
       "        vertical-align: middle;\n",
       "    }\n",
       "\n",
       "    .dataframe tbody tr th {\n",
       "        vertical-align: top;\n",
       "    }\n",
       "\n",
       "    .dataframe thead th {\n",
       "        text-align: right;\n",
       "    }\n",
       "</style>\n",
       "<table border=\"1\" class=\"dataframe\">\n",
       "  <thead>\n",
       "    <tr style=\"text-align: right;\">\n",
       "      <th></th>\n",
       "      <th>0</th>\n",
       "      <th>1</th>\n",
       "    </tr>\n",
       "  </thead>\n",
       "  <tbody>\n",
       "    <tr>\n",
       "      <th>0</th>\n",
       "      <td>1960</td>\n",
       "      <td>62</td>\n",
       "    </tr>\n",
       "    <tr>\n",
       "      <th>1</th>\n",
       "      <td>217</td>\n",
       "      <td>49</td>\n",
       "    </tr>\n",
       "  </tbody>\n",
       "</table>\n",
       "</div>"
      ],
      "text/plain": [
       "      0   1\n",
       "0  1960  62\n",
       "1   217  49"
      ]
     },
     "metadata": {},
     "output_type": "display_data"
    },
    {
     "name": "stdout",
     "output_type": "stream",
     "text": [
      "\n",
      "\u001b[4m\u001b[96mClassifier:\u001b[0m  ComplementNB()\n",
      "\u001b[4m\u001b[96mAccuracy:\u001b[0m  65.95 %\n",
      "\u001b[4m\u001b[96mConfusion matrix:\u001b[0m\n"
     ]
    },
    {
     "data": {
      "text/html": [
       "<div>\n",
       "<style scoped>\n",
       "    .dataframe tbody tr th:only-of-type {\n",
       "        vertical-align: middle;\n",
       "    }\n",
       "\n",
       "    .dataframe tbody tr th {\n",
       "        vertical-align: top;\n",
       "    }\n",
       "\n",
       "    .dataframe thead th {\n",
       "        text-align: right;\n",
       "    }\n",
       "</style>\n",
       "<table border=\"1\" class=\"dataframe\">\n",
       "  <thead>\n",
       "    <tr style=\"text-align: right;\">\n",
       "      <th></th>\n",
       "      <th>0</th>\n",
       "      <th>1</th>\n",
       "    </tr>\n",
       "  </thead>\n",
       "  <tbody>\n",
       "    <tr>\n",
       "      <th>0</th>\n",
       "      <td>1307</td>\n",
       "      <td>715</td>\n",
       "    </tr>\n",
       "    <tr>\n",
       "      <th>1</th>\n",
       "      <td>64</td>\n",
       "      <td>202</td>\n",
       "    </tr>\n",
       "  </tbody>\n",
       "</table>\n",
       "</div>"
      ],
      "text/plain": [
       "      0    1\n",
       "0  1307  715\n",
       "1    64  202"
      ]
     },
     "metadata": {},
     "output_type": "display_data"
    },
    {
     "name": "stdout",
     "output_type": "stream",
     "text": [
      "\n",
      "\u001b[95m\u001b[1m_____________________________________ 9 _____________________________________\u001b[0m\n",
      "\n",
      "\u001b[4m\u001b[96mClassifier:\u001b[0m  DecisionTreeClassifier(max_depth=3, min_samples_leaf=4, random_state=42)\n",
      "\u001b[4m\u001b[96mAccuracy:\u001b[0m  90.47 %\n",
      "\u001b[4m\u001b[96mConfusion matrix:\u001b[0m\n"
     ]
    },
    {
     "data": {
      "text/html": [
       "<div>\n",
       "<style scoped>\n",
       "    .dataframe tbody tr th:only-of-type {\n",
       "        vertical-align: middle;\n",
       "    }\n",
       "\n",
       "    .dataframe tbody tr th {\n",
       "        vertical-align: top;\n",
       "    }\n",
       "\n",
       "    .dataframe thead th {\n",
       "        text-align: right;\n",
       "    }\n",
       "</style>\n",
       "<table border=\"1\" class=\"dataframe\">\n",
       "  <thead>\n",
       "    <tr style=\"text-align: right;\">\n",
       "      <th></th>\n",
       "      <th>0</th>\n",
       "      <th>1</th>\n",
       "    </tr>\n",
       "  </thead>\n",
       "  <tbody>\n",
       "    <tr>\n",
       "      <th>0</th>\n",
       "      <td>1979</td>\n",
       "      <td>47</td>\n",
       "    </tr>\n",
       "    <tr>\n",
       "      <th>1</th>\n",
       "      <td>171</td>\n",
       "      <td>91</td>\n",
       "    </tr>\n",
       "  </tbody>\n",
       "</table>\n",
       "</div>"
      ],
      "text/plain": [
       "      0   1\n",
       "0  1979  47\n",
       "1   171  91"
      ]
     },
     "metadata": {},
     "output_type": "display_data"
    },
    {
     "name": "stdout",
     "output_type": "stream",
     "text": [
      "\n",
      "\u001b[4m\u001b[96mClassifier:\u001b[0m  KNeighborsClassifier(n_neighbors=23)\n",
      "\u001b[4m\u001b[96mAccuracy:\u001b[0m  89.47 %\n",
      "\u001b[4m\u001b[96mConfusion matrix:\u001b[0m\n"
     ]
    },
    {
     "data": {
      "text/html": [
       "<div>\n",
       "<style scoped>\n",
       "    .dataframe tbody tr th:only-of-type {\n",
       "        vertical-align: middle;\n",
       "    }\n",
       "\n",
       "    .dataframe tbody tr th {\n",
       "        vertical-align: top;\n",
       "    }\n",
       "\n",
       "    .dataframe thead th {\n",
       "        text-align: right;\n",
       "    }\n",
       "</style>\n",
       "<table border=\"1\" class=\"dataframe\">\n",
       "  <thead>\n",
       "    <tr style=\"text-align: right;\">\n",
       "      <th></th>\n",
       "      <th>0</th>\n",
       "      <th>1</th>\n",
       "    </tr>\n",
       "  </thead>\n",
       "  <tbody>\n",
       "    <tr>\n",
       "      <th>0</th>\n",
       "      <td>1995</td>\n",
       "      <td>31</td>\n",
       "    </tr>\n",
       "    <tr>\n",
       "      <th>1</th>\n",
       "      <td>210</td>\n",
       "      <td>52</td>\n",
       "    </tr>\n",
       "  </tbody>\n",
       "</table>\n",
       "</div>"
      ],
      "text/plain": [
       "      0   1\n",
       "0  1995  31\n",
       "1   210  52"
      ]
     },
     "metadata": {},
     "output_type": "display_data"
    },
    {
     "name": "stdout",
     "output_type": "stream",
     "text": [
      "\n",
      "\u001b[4m\u001b[96mClassifier:\u001b[0m  GaussianNB()\n",
      "\u001b[4m\u001b[96mAccuracy:\u001b[0m  83.26 %\n",
      "\u001b[4m\u001b[96mConfusion matrix:\u001b[0m\n"
     ]
    },
    {
     "data": {
      "text/html": [
       "<div>\n",
       "<style scoped>\n",
       "    .dataframe tbody tr th:only-of-type {\n",
       "        vertical-align: middle;\n",
       "    }\n",
       "\n",
       "    .dataframe tbody tr th {\n",
       "        vertical-align: top;\n",
       "    }\n",
       "\n",
       "    .dataframe thead th {\n",
       "        text-align: right;\n",
       "    }\n",
       "</style>\n",
       "<table border=\"1\" class=\"dataframe\">\n",
       "  <thead>\n",
       "    <tr style=\"text-align: right;\">\n",
       "      <th></th>\n",
       "      <th>0</th>\n",
       "      <th>1</th>\n",
       "    </tr>\n",
       "  </thead>\n",
       "  <tbody>\n",
       "    <tr>\n",
       "      <th>0</th>\n",
       "      <td>1755</td>\n",
       "      <td>271</td>\n",
       "    </tr>\n",
       "    <tr>\n",
       "      <th>1</th>\n",
       "      <td>112</td>\n",
       "      <td>150</td>\n",
       "    </tr>\n",
       "  </tbody>\n",
       "</table>\n",
       "</div>"
      ],
      "text/plain": [
       "      0    1\n",
       "0  1755  271\n",
       "1   112  150"
      ]
     },
     "metadata": {},
     "output_type": "display_data"
    },
    {
     "name": "stdout",
     "output_type": "stream",
     "text": [
      "\n",
      "\u001b[4m\u001b[96mClassifier:\u001b[0m  MultinomialNB()\n",
      "\u001b[4m\u001b[96mAccuracy:\u001b[0m  88.55 %\n",
      "\u001b[4m\u001b[96mConfusion matrix:\u001b[0m\n"
     ]
    },
    {
     "data": {
      "text/html": [
       "<div>\n",
       "<style scoped>\n",
       "    .dataframe tbody tr th:only-of-type {\n",
       "        vertical-align: middle;\n",
       "    }\n",
       "\n",
       "    .dataframe tbody tr th {\n",
       "        vertical-align: top;\n",
       "    }\n",
       "\n",
       "    .dataframe thead th {\n",
       "        text-align: right;\n",
       "    }\n",
       "</style>\n",
       "<table border=\"1\" class=\"dataframe\">\n",
       "  <thead>\n",
       "    <tr style=\"text-align: right;\">\n",
       "      <th></th>\n",
       "      <th>0</th>\n",
       "      <th>1</th>\n",
       "    </tr>\n",
       "  </thead>\n",
       "  <tbody>\n",
       "    <tr>\n",
       "      <th>0</th>\n",
       "      <td>2026</td>\n",
       "      <td>0</td>\n",
       "    </tr>\n",
       "    <tr>\n",
       "      <th>1</th>\n",
       "      <td>262</td>\n",
       "      <td>0</td>\n",
       "    </tr>\n",
       "  </tbody>\n",
       "</table>\n",
       "</div>"
      ],
      "text/plain": [
       "      0  1\n",
       "0  2026  0\n",
       "1   262  0"
      ]
     },
     "metadata": {},
     "output_type": "display_data"
    },
    {
     "name": "stdout",
     "output_type": "stream",
     "text": [
      "\n",
      "\u001b[4m\u001b[96mClassifier:\u001b[0m  CategoricalNB()\n",
      "\u001b[4m\u001b[96mAccuracy:\u001b[0m  88.37 %\n",
      "\u001b[4m\u001b[96mConfusion matrix:\u001b[0m\n"
     ]
    },
    {
     "data": {
      "text/html": [
       "<div>\n",
       "<style scoped>\n",
       "    .dataframe tbody tr th:only-of-type {\n",
       "        vertical-align: middle;\n",
       "    }\n",
       "\n",
       "    .dataframe tbody tr th {\n",
       "        vertical-align: top;\n",
       "    }\n",
       "\n",
       "    .dataframe thead th {\n",
       "        text-align: right;\n",
       "    }\n",
       "</style>\n",
       "<table border=\"1\" class=\"dataframe\">\n",
       "  <thead>\n",
       "    <tr style=\"text-align: right;\">\n",
       "      <th></th>\n",
       "      <th>0</th>\n",
       "      <th>1</th>\n",
       "    </tr>\n",
       "  </thead>\n",
       "  <tbody>\n",
       "    <tr>\n",
       "      <th>0</th>\n",
       "      <td>1967</td>\n",
       "      <td>59</td>\n",
       "    </tr>\n",
       "    <tr>\n",
       "      <th>1</th>\n",
       "      <td>207</td>\n",
       "      <td>55</td>\n",
       "    </tr>\n",
       "  </tbody>\n",
       "</table>\n",
       "</div>"
      ],
      "text/plain": [
       "      0   1\n",
       "0  1967  59\n",
       "1   207  55"
      ]
     },
     "metadata": {},
     "output_type": "display_data"
    },
    {
     "name": "stdout",
     "output_type": "stream",
     "text": [
      "\n",
      "\u001b[4m\u001b[96mClassifier:\u001b[0m  BernoulliNB()\n",
      "\u001b[4m\u001b[96mAccuracy:\u001b[0m  86.67 %\n",
      "\u001b[4m\u001b[96mConfusion matrix:\u001b[0m\n"
     ]
    },
    {
     "data": {
      "text/html": [
       "<div>\n",
       "<style scoped>\n",
       "    .dataframe tbody tr th:only-of-type {\n",
       "        vertical-align: middle;\n",
       "    }\n",
       "\n",
       "    .dataframe tbody tr th {\n",
       "        vertical-align: top;\n",
       "    }\n",
       "\n",
       "    .dataframe thead th {\n",
       "        text-align: right;\n",
       "    }\n",
       "</style>\n",
       "<table border=\"1\" class=\"dataframe\">\n",
       "  <thead>\n",
       "    <tr style=\"text-align: right;\">\n",
       "      <th></th>\n",
       "      <th>0</th>\n",
       "      <th>1</th>\n",
       "    </tr>\n",
       "  </thead>\n",
       "  <tbody>\n",
       "    <tr>\n",
       "      <th>0</th>\n",
       "      <td>1947</td>\n",
       "      <td>79</td>\n",
       "    </tr>\n",
       "    <tr>\n",
       "      <th>1</th>\n",
       "      <td>226</td>\n",
       "      <td>36</td>\n",
       "    </tr>\n",
       "  </tbody>\n",
       "</table>\n",
       "</div>"
      ],
      "text/plain": [
       "      0   1\n",
       "0  1947  79\n",
       "1   226  36"
      ]
     },
     "metadata": {},
     "output_type": "display_data"
    },
    {
     "name": "stdout",
     "output_type": "stream",
     "text": [
      "\n",
      "\u001b[4m\u001b[96mClassifier:\u001b[0m  ComplementNB()\n",
      "\u001b[4m\u001b[96mAccuracy:\u001b[0m  66.22 %\n",
      "\u001b[4m\u001b[96mConfusion matrix:\u001b[0m\n"
     ]
    },
    {
     "data": {
      "text/html": [
       "<div>\n",
       "<style scoped>\n",
       "    .dataframe tbody tr th:only-of-type {\n",
       "        vertical-align: middle;\n",
       "    }\n",
       "\n",
       "    .dataframe tbody tr th {\n",
       "        vertical-align: top;\n",
       "    }\n",
       "\n",
       "    .dataframe thead th {\n",
       "        text-align: right;\n",
       "    }\n",
       "</style>\n",
       "<table border=\"1\" class=\"dataframe\">\n",
       "  <thead>\n",
       "    <tr style=\"text-align: right;\">\n",
       "      <th></th>\n",
       "      <th>0</th>\n",
       "      <th>1</th>\n",
       "    </tr>\n",
       "  </thead>\n",
       "  <tbody>\n",
       "    <tr>\n",
       "      <th>0</th>\n",
       "      <td>1314</td>\n",
       "      <td>712</td>\n",
       "    </tr>\n",
       "    <tr>\n",
       "      <th>1</th>\n",
       "      <td>61</td>\n",
       "      <td>201</td>\n",
       "    </tr>\n",
       "  </tbody>\n",
       "</table>\n",
       "</div>"
      ],
      "text/plain": [
       "      0    1\n",
       "0  1314  712\n",
       "1    61  201"
      ]
     },
     "metadata": {},
     "output_type": "display_data"
    },
    {
     "name": "stdout",
     "output_type": "stream",
     "text": [
      "\n",
      "\u001b[95m\u001b[1m_____________________________________ 10 _____________________________________\u001b[0m\n",
      "\n",
      "\u001b[4m\u001b[96mClassifier:\u001b[0m  DecisionTreeClassifier(max_depth=3, min_samples_leaf=4, random_state=42)\n",
      "\u001b[4m\u001b[96mAccuracy:\u001b[0m  89.73 %\n",
      "\u001b[4m\u001b[96mConfusion matrix:\u001b[0m\n"
     ]
    },
    {
     "data": {
      "text/html": [
       "<div>\n",
       "<style scoped>\n",
       "    .dataframe tbody tr th:only-of-type {\n",
       "        vertical-align: middle;\n",
       "    }\n",
       "\n",
       "    .dataframe tbody tr th {\n",
       "        vertical-align: top;\n",
       "    }\n",
       "\n",
       "    .dataframe thead th {\n",
       "        text-align: right;\n",
       "    }\n",
       "</style>\n",
       "<table border=\"1\" class=\"dataframe\">\n",
       "  <thead>\n",
       "    <tr style=\"text-align: right;\">\n",
       "      <th></th>\n",
       "      <th>0</th>\n",
       "      <th>1</th>\n",
       "    </tr>\n",
       "  </thead>\n",
       "  <tbody>\n",
       "    <tr>\n",
       "      <th>0</th>\n",
       "      <td>1979</td>\n",
       "      <td>53</td>\n",
       "    </tr>\n",
       "    <tr>\n",
       "      <th>1</th>\n",
       "      <td>182</td>\n",
       "      <td>74</td>\n",
       "    </tr>\n",
       "  </tbody>\n",
       "</table>\n",
       "</div>"
      ],
      "text/plain": [
       "      0   1\n",
       "0  1979  53\n",
       "1   182  74"
      ]
     },
     "metadata": {},
     "output_type": "display_data"
    },
    {
     "name": "stdout",
     "output_type": "stream",
     "text": [
      "\n",
      "\u001b[4m\u001b[96mClassifier:\u001b[0m  KNeighborsClassifier(n_neighbors=23)\n",
      "\u001b[4m\u001b[96mAccuracy:\u001b[0m  89.82 %\n",
      "\u001b[4m\u001b[96mConfusion matrix:\u001b[0m\n"
     ]
    },
    {
     "data": {
      "text/html": [
       "<div>\n",
       "<style scoped>\n",
       "    .dataframe tbody tr th:only-of-type {\n",
       "        vertical-align: middle;\n",
       "    }\n",
       "\n",
       "    .dataframe tbody tr th {\n",
       "        vertical-align: top;\n",
       "    }\n",
       "\n",
       "    .dataframe thead th {\n",
       "        text-align: right;\n",
       "    }\n",
       "</style>\n",
       "<table border=\"1\" class=\"dataframe\">\n",
       "  <thead>\n",
       "    <tr style=\"text-align: right;\">\n",
       "      <th></th>\n",
       "      <th>0</th>\n",
       "      <th>1</th>\n",
       "    </tr>\n",
       "  </thead>\n",
       "  <tbody>\n",
       "    <tr>\n",
       "      <th>0</th>\n",
       "      <td>2008</td>\n",
       "      <td>24</td>\n",
       "    </tr>\n",
       "    <tr>\n",
       "      <th>1</th>\n",
       "      <td>209</td>\n",
       "      <td>47</td>\n",
       "    </tr>\n",
       "  </tbody>\n",
       "</table>\n",
       "</div>"
      ],
      "text/plain": [
       "      0   1\n",
       "0  2008  24\n",
       "1   209  47"
      ]
     },
     "metadata": {},
     "output_type": "display_data"
    },
    {
     "name": "stdout",
     "output_type": "stream",
     "text": [
      "\n",
      "\u001b[4m\u001b[96mClassifier:\u001b[0m  GaussianNB()\n",
      "\u001b[4m\u001b[96mAccuracy:\u001b[0m  84.35 %\n",
      "\u001b[4m\u001b[96mConfusion matrix:\u001b[0m\n"
     ]
    },
    {
     "data": {
      "text/html": [
       "<div>\n",
       "<style scoped>\n",
       "    .dataframe tbody tr th:only-of-type {\n",
       "        vertical-align: middle;\n",
       "    }\n",
       "\n",
       "    .dataframe tbody tr th {\n",
       "        vertical-align: top;\n",
       "    }\n",
       "\n",
       "    .dataframe thead th {\n",
       "        text-align: right;\n",
       "    }\n",
       "</style>\n",
       "<table border=\"1\" class=\"dataframe\">\n",
       "  <thead>\n",
       "    <tr style=\"text-align: right;\">\n",
       "      <th></th>\n",
       "      <th>0</th>\n",
       "      <th>1</th>\n",
       "    </tr>\n",
       "  </thead>\n",
       "  <tbody>\n",
       "    <tr>\n",
       "      <th>0</th>\n",
       "      <td>1804</td>\n",
       "      <td>228</td>\n",
       "    </tr>\n",
       "    <tr>\n",
       "      <th>1</th>\n",
       "      <td>130</td>\n",
       "      <td>126</td>\n",
       "    </tr>\n",
       "  </tbody>\n",
       "</table>\n",
       "</div>"
      ],
      "text/plain": [
       "      0    1\n",
       "0  1804  228\n",
       "1   130  126"
      ]
     },
     "metadata": {},
     "output_type": "display_data"
    },
    {
     "name": "stdout",
     "output_type": "stream",
     "text": [
      "\n",
      "\u001b[4m\u001b[96mClassifier:\u001b[0m  MultinomialNB()\n",
      "\u001b[4m\u001b[96mAccuracy:\u001b[0m  88.77 %\n",
      "\u001b[4m\u001b[96mConfusion matrix:\u001b[0m\n"
     ]
    },
    {
     "data": {
      "text/html": [
       "<div>\n",
       "<style scoped>\n",
       "    .dataframe tbody tr th:only-of-type {\n",
       "        vertical-align: middle;\n",
       "    }\n",
       "\n",
       "    .dataframe tbody tr th {\n",
       "        vertical-align: top;\n",
       "    }\n",
       "\n",
       "    .dataframe thead th {\n",
       "        text-align: right;\n",
       "    }\n",
       "</style>\n",
       "<table border=\"1\" class=\"dataframe\">\n",
       "  <thead>\n",
       "    <tr style=\"text-align: right;\">\n",
       "      <th></th>\n",
       "      <th>0</th>\n",
       "      <th>1</th>\n",
       "    </tr>\n",
       "  </thead>\n",
       "  <tbody>\n",
       "    <tr>\n",
       "      <th>0</th>\n",
       "      <td>2031</td>\n",
       "      <td>1</td>\n",
       "    </tr>\n",
       "    <tr>\n",
       "      <th>1</th>\n",
       "      <td>256</td>\n",
       "      <td>0</td>\n",
       "    </tr>\n",
       "  </tbody>\n",
       "</table>\n",
       "</div>"
      ],
      "text/plain": [
       "      0  1\n",
       "0  2031  1\n",
       "1   256  0"
      ]
     },
     "metadata": {},
     "output_type": "display_data"
    },
    {
     "name": "stdout",
     "output_type": "stream",
     "text": [
      "\n",
      "\u001b[4m\u001b[96mClassifier:\u001b[0m  CategoricalNB()\n",
      "\u001b[4m\u001b[96mAccuracy:\u001b[0m  88.77 %\n",
      "\u001b[4m\u001b[96mConfusion matrix:\u001b[0m\n"
     ]
    },
    {
     "data": {
      "text/html": [
       "<div>\n",
       "<style scoped>\n",
       "    .dataframe tbody tr th:only-of-type {\n",
       "        vertical-align: middle;\n",
       "    }\n",
       "\n",
       "    .dataframe tbody tr th {\n",
       "        vertical-align: top;\n",
       "    }\n",
       "\n",
       "    .dataframe thead th {\n",
       "        text-align: right;\n",
       "    }\n",
       "</style>\n",
       "<table border=\"1\" class=\"dataframe\">\n",
       "  <thead>\n",
       "    <tr style=\"text-align: right;\">\n",
       "      <th></th>\n",
       "      <th>0</th>\n",
       "      <th>1</th>\n",
       "    </tr>\n",
       "  </thead>\n",
       "  <tbody>\n",
       "    <tr>\n",
       "      <th>0</th>\n",
       "      <td>1983</td>\n",
       "      <td>49</td>\n",
       "    </tr>\n",
       "    <tr>\n",
       "      <th>1</th>\n",
       "      <td>208</td>\n",
       "      <td>48</td>\n",
       "    </tr>\n",
       "  </tbody>\n",
       "</table>\n",
       "</div>"
      ],
      "text/plain": [
       "      0   1\n",
       "0  1983  49\n",
       "1   208  48"
      ]
     },
     "metadata": {},
     "output_type": "display_data"
    },
    {
     "name": "stdout",
     "output_type": "stream",
     "text": [
      "\n",
      "\u001b[4m\u001b[96mClassifier:\u001b[0m  BernoulliNB()\n",
      "\u001b[4m\u001b[96mAccuracy:\u001b[0m  87.89 %\n",
      "\u001b[4m\u001b[96mConfusion matrix:\u001b[0m\n"
     ]
    },
    {
     "data": {
      "text/html": [
       "<div>\n",
       "<style scoped>\n",
       "    .dataframe tbody tr th:only-of-type {\n",
       "        vertical-align: middle;\n",
       "    }\n",
       "\n",
       "    .dataframe tbody tr th {\n",
       "        vertical-align: top;\n",
       "    }\n",
       "\n",
       "    .dataframe thead th {\n",
       "        text-align: right;\n",
       "    }\n",
       "</style>\n",
       "<table border=\"1\" class=\"dataframe\">\n",
       "  <thead>\n",
       "    <tr style=\"text-align: right;\">\n",
       "      <th></th>\n",
       "      <th>0</th>\n",
       "      <th>1</th>\n",
       "    </tr>\n",
       "  </thead>\n",
       "  <tbody>\n",
       "    <tr>\n",
       "      <th>0</th>\n",
       "      <td>1974</td>\n",
       "      <td>58</td>\n",
       "    </tr>\n",
       "    <tr>\n",
       "      <th>1</th>\n",
       "      <td>219</td>\n",
       "      <td>37</td>\n",
       "    </tr>\n",
       "  </tbody>\n",
       "</table>\n",
       "</div>"
      ],
      "text/plain": [
       "      0   1\n",
       "0  1974  58\n",
       "1   219  37"
      ]
     },
     "metadata": {},
     "output_type": "display_data"
    },
    {
     "name": "stdout",
     "output_type": "stream",
     "text": [
      "\n",
      "\u001b[4m\u001b[96mClassifier:\u001b[0m  ComplementNB()\n",
      "\u001b[4m\u001b[96mAccuracy:\u001b[0m  63.85 %\n",
      "\u001b[4m\u001b[96mConfusion matrix:\u001b[0m\n"
     ]
    },
    {
     "data": {
      "text/html": [
       "<div>\n",
       "<style scoped>\n",
       "    .dataframe tbody tr th:only-of-type {\n",
       "        vertical-align: middle;\n",
       "    }\n",
       "\n",
       "    .dataframe tbody tr th {\n",
       "        vertical-align: top;\n",
       "    }\n",
       "\n",
       "    .dataframe thead th {\n",
       "        text-align: right;\n",
       "    }\n",
       "</style>\n",
       "<table border=\"1\" class=\"dataframe\">\n",
       "  <thead>\n",
       "    <tr style=\"text-align: right;\">\n",
       "      <th></th>\n",
       "      <th>0</th>\n",
       "      <th>1</th>\n",
       "    </tr>\n",
       "  </thead>\n",
       "  <tbody>\n",
       "    <tr>\n",
       "      <th>0</th>\n",
       "      <td>1292</td>\n",
       "      <td>740</td>\n",
       "    </tr>\n",
       "    <tr>\n",
       "      <th>1</th>\n",
       "      <td>87</td>\n",
       "      <td>169</td>\n",
       "    </tr>\n",
       "  </tbody>\n",
       "</table>\n",
       "</div>"
      ],
      "text/plain": [
       "      0    1\n",
       "0  1292  740\n",
       "1    87  169"
      ]
     },
     "metadata": {},
     "output_type": "display_data"
    },
    {
     "name": "stdout",
     "output_type": "stream",
     "text": [
      "\n"
     ]
    }
   ],
   "source": [
    "# K Fold\n",
    "clf_list = [dt,KNN,GNB,MNB,CNB,BNB,COPNB]\n",
    "cm_dict, auc_dict = {}, {}\n",
    "X_train_npy = X_train.to_numpy()\n",
    "y_train_npy = y_train.to_numpy()\n",
    "kf = KFold(n_splits=10, shuffle=True, random_state=42) #for cross validation\n",
    "k = 0\n",
    "for train_index, test_index in kf.split(X_train):\n",
    "    k+=1\n",
    "    print(bcolors.HEADER + bcolors.BOLD + '_____________________________________',k,'_____________________________________'\n",
    "          + bcolors.ENDC)\n",
    "    print(\"\")\n",
    "    # split to train and test\n",
    "    X_train_KF, X_test_KF = X_train_npy[train_index], X_train_npy[test_index]\n",
    "    y_train_KF, y_test_KF = y_train_npy[train_index], y_train_npy[test_index]\n",
    "    \n",
    "    for clf in clf_list:\n",
    "        # train the model and make a prediction\n",
    "        clf.fit(X_train_KF,y_train_KF)\n",
    "        y_pred = clf.predict(X_test_KF)\n",
    "        cm = metrics.confusion_matrix(y_test_KF, y_pred)\n",
    "        \n",
    "        y_probs = clf.predict_proba(X_test_KF) # probability prediction\n",
    "        fpr, tpr, _ = metrics.roc_curve(y_test_KF, y_probs[:,1])\n",
    "        auc = metrics.auc(fpr, tpr)\n",
    "        \n",
    "        # save the results\n",
    "        cm_list = cm_dict.get(clf,[])\n",
    "        cm_list.append(cm)\n",
    "        cm_dict[clf] = cm_list\n",
    "        \n",
    "        auc_list = auc_dict.get(clf,[])\n",
    "        auc_list.append(auc)\n",
    "        auc_dict[clf] = auc_list\n",
    "        \n",
    "        # print the results\n",
    "        print(bcolors.UNDERLINE + bcolors.OKCYAN + \"Classifier:\" + bcolors.ENDC + \" \"  , clf)\n",
    "        print(bcolors.UNDERLINE + bcolors.OKCYAN + \"Accuracy:\" + bcolors.ENDC + \" \" ,\n",
    "              round((metrics.accuracy_score(y_test_KF, y_pred))*100,2),\"%\")\n",
    "        print(bcolors.UNDERLINE + bcolors.OKCYAN + \"Confusion matrix:\" + bcolors.ENDC)\n",
    "        display(pd.DataFrame(cm))\n",
    "        print(\"\")"
   ]
  },
  {
   "cell_type": "markdown",
   "id": "julian-testing",
   "metadata": {},
   "source": [
    "### Print average results:"
   ]
  },
  {
   "cell_type": "code",
   "execution_count": 267,
   "id": "cheap-collapse",
   "metadata": {},
   "outputs": [
    {
     "name": "stdout",
     "output_type": "stream",
     "text": [
      "\u001b[95m\u001b[1m_____________________________________ Classifier: 1 _____________________________________\u001b[0m\n",
      "\n",
      "\u001b[4m\u001b[96mClassifier:\u001b[0m  DecisionTreeClassifier(max_depth=3, min_samples_leaf=4, random_state=42)\n",
      "\u001b[4m\u001b[96mmean accuracy:\u001b[0m  90.29\n",
      "\u001b[4m\u001b[96mmean precision:\u001b[0m  65.35\n",
      "\u001b[4m\u001b[96mmean AUC:\u001b[0m  78.49\n",
      "\u001b[95m\u001b[1m_____________________________________ Classifier: 2 _____________________________________\u001b[0m\n",
      "\n",
      "\u001b[4m\u001b[96mClassifier:\u001b[0m  KNeighborsClassifier(n_neighbors=23)\n",
      "\u001b[4m\u001b[96mmean accuracy:\u001b[0m  89.55\n",
      "\u001b[4m\u001b[96mmean precision:\u001b[0m  64.76\n",
      "\u001b[4m\u001b[96mmean AUC:\u001b[0m  82.4\n",
      "\u001b[95m\u001b[1m_____________________________________ Classifier: 3 _____________________________________\u001b[0m\n",
      "\n",
      "\u001b[4m\u001b[96mClassifier:\u001b[0m  GaussianNB()\n",
      "\u001b[4m\u001b[96mmean accuracy:\u001b[0m  84.1\n",
      "\u001b[4m\u001b[96mmean precision:\u001b[0m  36.64\n",
      "\u001b[4m\u001b[96mmean AUC:\u001b[0m  80.59\n",
      "\u001b[95m\u001b[1m_____________________________________ Classifier: 4 _____________________________________\u001b[0m\n",
      "\n",
      "\u001b[4m\u001b[96mClassifier:\u001b[0m  MultinomialNB()\n",
      "\u001b[4m\u001b[96mmean accuracy:\u001b[0m  88.57\n",
      "\u001b[4m\u001b[96mmean precision:\u001b[0m  nan\n",
      "\u001b[4m\u001b[96mmean AUC:\u001b[0m  76.58\n",
      "\u001b[95m\u001b[1m_____________________________________ Classifier: 5 _____________________________________\u001b[0m\n",
      "\n",
      "\u001b[4m\u001b[96mClassifier:\u001b[0m  CategoricalNB()\n",
      "\u001b[4m\u001b[96mmean accuracy:\u001b[0m  88.75\n",
      "\u001b[4m\u001b[96mmean precision:\u001b[0m  52.09\n",
      "\u001b[4m\u001b[96mmean AUC:\u001b[0m  70.33\n",
      "\u001b[95m\u001b[1m_____________________________________ Classifier: 6 _____________________________________\u001b[0m\n",
      "\n",
      "\u001b[4m\u001b[96mClassifier:\u001b[0m  BernoulliNB()\n",
      "\u001b[4m\u001b[96mmean accuracy:\u001b[0m  87.54\n",
      "\u001b[4m\u001b[96mmean precision:\u001b[0m  39.53\n",
      "\u001b[4m\u001b[96mmean AUC:\u001b[0m  68.64\n",
      "\u001b[95m\u001b[1m_____________________________________ Classifier: 7 _____________________________________\u001b[0m\n",
      "\n",
      "\u001b[4m\u001b[96mClassifier:\u001b[0m  ComplementNB()\n",
      "\u001b[4m\u001b[96mmean accuracy:\u001b[0m  65.07\n",
      "\u001b[4m\u001b[96mmean precision:\u001b[0m  20.68\n",
      "\u001b[4m\u001b[96mmean AUC:\u001b[0m  76.58\n"
     ]
    },
    {
     "name": "stderr",
     "output_type": "stream",
     "text": [
      "<ipython-input-267-c12bec2049a4>:11: RuntimeWarning: invalid value encountered in longlong_scalars\n",
      "  precision = [(cm[1][1])/(cm[1][1]+cm[0][1]) for cm in cm_dict[clf]]\n"
     ]
    }
   ],
   "source": [
    "acc_dict = {}\n",
    "prec_dict = {}\n",
    "k = 0\n",
    "Best_clf = 0\n",
    "Best_acc = 0\n",
    "for clf in clf_list:\n",
    "    k+=1\n",
    "    acc = [(cm[0][0]+cm[1][1])/sum(sum(cm)) for cm in cm_dict[clf]]\n",
    "    acc_dict[clf] = acc\n",
    "    m_acc = np.mean(acc)\n",
    "    precision = [(cm[1][1])/(cm[1][1]+cm[0][1]) for cm in cm_dict[clf]]\n",
    "    prec_dict[clf] = precision\n",
    "    m_p = np.mean(precision)\n",
    "    m_auc = np.mean(auc_dict[clf])\n",
    "    \n",
    "    # Get the best clf\n",
    "    if m_acc > Best_acc:\n",
    "        Best_acc = m_acc\n",
    "        Best_clf = clf\n",
    "\n",
    "    # Print the result\n",
    "    print(bcolors.HEADER + bcolors.BOLD + '_____________________________________' + \" Classifier:\",k,\n",
    "          '_____________________________________' + bcolors.ENDC)\n",
    "    print(\"\")\n",
    "    print(bcolors.UNDERLINE + bcolors.OKCYAN + \"Classifier:\" + bcolors.ENDC + \" \"  , clf)\n",
    "    print(bcolors.UNDERLINE + bcolors.OKCYAN + \"mean accuracy:\" + bcolors.ENDC + \" \" , round(m_acc*100,2))\n",
    "    print(bcolors.UNDERLINE + bcolors.OKCYAN + \"mean precision:\" + bcolors.ENDC + \" \" , round(m_p*100,2))\n",
    "    print(bcolors.UNDERLINE + bcolors.OKCYAN + \"mean AUC:\" + bcolors.ENDC + \" \" , round(m_auc*100,2))"
   ]
  },
  {
   "cell_type": "markdown",
   "id": "single-identity",
   "metadata": {},
   "source": [
    "### Print the best classifier we found: "
   ]
  },
  {
   "cell_type": "code",
   "execution_count": 268,
   "id": "theoretical-language",
   "metadata": {},
   "outputs": [
    {
     "name": "stdout",
     "output_type": "stream",
     "text": [
      "DecisionTreeClassifier(max_depth=3, min_samples_leaf=4, random_state=42)\n"
     ]
    }
   ],
   "source": [
    "print(Best_clf)"
   ]
  },
  {
   "cell_type": "markdown",
   "id": "burning-addition",
   "metadata": {},
   "source": [
    "# Test the best classifier"
   ]
  },
  {
   "cell_type": "code",
   "execution_count": 244,
   "id": "gentle-billy",
   "metadata": {},
   "outputs": [
    {
     "name": "stdout",
     "output_type": "stream",
     "text": [
      "\u001b[96mconfusion matrix:\u001b[0m\n"
     ]
    },
    {
     "data": {
      "text/html": [
       "<div>\n",
       "<style scoped>\n",
       "    .dataframe tbody tr th:only-of-type {\n",
       "        vertical-align: middle;\n",
       "    }\n",
       "\n",
       "    .dataframe tbody tr th {\n",
       "        vertical-align: top;\n",
       "    }\n",
       "\n",
       "    .dataframe thead th {\n",
       "        text-align: right;\n",
       "    }\n",
       "</style>\n",
       "<table border=\"1\" class=\"dataframe\">\n",
       "  <thead>\n",
       "    <tr style=\"text-align: right;\">\n",
       "      <th></th>\n",
       "      <th>0</th>\n",
       "      <th>1</th>\n",
       "    </tr>\n",
       "  </thead>\n",
       "  <tbody>\n",
       "    <tr>\n",
       "      <th>0</th>\n",
       "      <td>6337</td>\n",
       "      <td>429</td>\n",
       "    </tr>\n",
       "    <tr>\n",
       "      <th>1</th>\n",
       "      <td>811</td>\n",
       "      <td>53</td>\n",
       "    </tr>\n",
       "  </tbody>\n",
       "</table>\n",
       "</div>"
      ],
      "text/plain": [
       "      0    1\n",
       "0  6337  429\n",
       "1   811   53"
      ]
     },
     "metadata": {},
     "output_type": "display_data"
    },
    {
     "name": "stdout",
     "output_type": "stream",
     "text": [
      "\u001b[96maccuracy:\u001b[0m  83.75\n",
      "\u001b[96msensitivity:\u001b[0m  6.13\n",
      "\u001b[96mspecificity:\u001b[0m  93.66\n",
      "\u001b[96mprecision:\u001b[0m  0.78\n"
     ]
    }
   ],
   "source": [
    "y_pred = Best_clf.predict(X_test)\n",
    "cm = metrics.confusion_matrix(y_test, y_pred)\n",
    "print(bcolors.OKCYAN + 'confusion matrix:'+ bcolors.ENDC)\n",
    "cm = pd.DataFrame(metrics.confusion_matrix(y_test, dt_y_pred))\n",
    "display(pd.DataFrame(cm))\n",
    "print(bcolors.OKCYAN + 'accuracy:'+bcolors.ENDC + \" \"\n",
    "      ,round(((cm[0][0]+cm[1][1])/(cm[0][0]+cm[0][1]+cm[1][0]+cm[1][1]))*100,2))\n",
    "print(bcolors.OKCYAN + 'sensitivity:'+bcolors.ENDC + \" \"\n",
    "      ,round(((cm[1][1])/(cm[1][1]+cm[0][1]))*100,2))\n",
    "print(bcolors.OKCYAN + 'specificity:'+bcolors.ENDC + \" \"\n",
    "      ,round(((cm[0][0])/(cm[0][0]+cm[1][0]))*100,2))\n",
    "print(bcolors.OKCYAN + 'precision:'+bcolors.ENDC + \" \"\n",
    "      ,round(((cm[1][1])/(cm[0][0]+cm[1][0]))*100,2))"
   ]
  },
  {
   "cell_type": "markdown",
   "id": "subtle-essex",
   "metadata": {},
   "source": [
    "# <font color = 'red'> Classifier the test file </font> "
   ]
  },
  {
   "cell_type": "code",
   "execution_count": 291,
   "id": "smooth-terrain",
   "metadata": {},
   "outputs": [],
   "source": [
    "# import test file\n",
    "df_test = pd.read_csv(\"./csv files/marketing_campaigns_test_after_pre_proc.csv\", index_col=0)"
   ]
  },
  {
   "cell_type": "code",
   "execution_count": 292,
   "id": "massive-samuel",
   "metadata": {},
   "outputs": [],
   "source": [
    "df_classifier_test = df_test.copy()\n",
    "l = ['age', 'account_balance', 'n_contact', 'p_days','l_call_duration','n_p_contact','p_days','status_cat','education_cat',\n",
    "    'profession_cat', 'device_cat', 'month_l_date_cat', 'p_outcome_cat','age_bin','account_balance_bin',\n",
    "    'education_Pre_Proc_cat','profession_Pre_Proc_cat','device_Pre_Proc_cat', 'p_outcome_Pre_Proc_cat']\n",
    "\n",
    "df_classifier_test.drop(l, axis='columns', inplace=True)"
   ]
  },
  {
   "cell_type": "code",
   "execution_count": 293,
   "id": "formal-upgrade",
   "metadata": {},
   "outputs": [
    {
     "name": "stdout",
     "output_type": "stream",
     "text": [
      "<class 'pandas.core.frame.DataFrame'>\n",
      "Int64Index: 14694 entries, 512496 to 487062\n",
      "Data columns (total 17 columns):\n",
      " #   Column                           Non-Null Count  Dtype  \n",
      "---  ------                           --------------  -----  \n",
      " 0   loan                             14694 non-null  int64  \n",
      " 1   mortgage                         14694 non-null  int64  \n",
      " 2   credit                           14694 non-null  int64  \n",
      " 3   positive                         14694 non-null  int64  \n",
      " 4   isEmployed_cat                   14694 non-null  int64  \n",
      " 5   age_min_max                      14694 non-null  float64\n",
      " 6   n_p_contact_min_max              14694 non-null  float64\n",
      " 7   p_days_min_max                   14694 non-null  float64\n",
      " 8   n_contact_min_max                14694 non-null  float64\n",
      " 9   account_balance_min_max          14694 non-null  float64\n",
      " 10  l_call_duration_min_max          14694 non-null  float64\n",
      " 11  status_cat_min_max               14694 non-null  float64\n",
      " 12  education_Pre_Proc_cat_min_max   14694 non-null  float64\n",
      " 13  profession_Pre_Proc_cat_min_max  14694 non-null  float64\n",
      " 14  device_Pre_Proc_cat_min_max      14694 non-null  int64  \n",
      " 15  month_l_date_cat_min_max         14694 non-null  float64\n",
      " 16  p_outcome_Pre_Proc_cat_min_max   14694 non-null  float64\n",
      "dtypes: float64(11), int64(6)\n",
      "memory usage: 2.0 MB\n"
     ]
    }
   ],
   "source": [
    "df_classifier_test.info()"
   ]
  },
  {
   "cell_type": "code",
   "execution_count": null,
   "id": "middle-direction",
   "metadata": {},
   "outputs": [],
   "source": []
  }
 ],
 "metadata": {
  "kernelspec": {
   "display_name": "Python 3",
   "language": "python",
   "name": "python3"
  },
  "language_info": {
   "codemirror_mode": {
    "name": "ipython",
    "version": 3
   },
   "file_extension": ".py",
   "mimetype": "text/x-python",
   "name": "python",
   "nbconvert_exporter": "python",
   "pygments_lexer": "ipython3",
   "version": "3.9.0"
  }
 },
 "nbformat": 4,
 "nbformat_minor": 5
}

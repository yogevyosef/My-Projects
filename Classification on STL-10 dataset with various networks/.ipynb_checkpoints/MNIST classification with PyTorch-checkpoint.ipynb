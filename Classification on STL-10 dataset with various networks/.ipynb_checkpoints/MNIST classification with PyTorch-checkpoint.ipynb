{
 "cells": [
  {
   "cell_type": "code",
   "execution_count": 1,
   "metadata": {},
   "outputs": [],
   "source": [
    "from __future__ import print_function\n",
    "import argparse\n",
    "import numpy as np\n",
    "import torch\n",
    "import torch.nn as nn\n",
    "import torch.nn.functional as F\n",
    "import torch.optim as optim\n",
    "from torchvision import datasets, transforms"
   ]
  },
  {
   "cell_type": "code",
   "execution_count": 2,
   "metadata": {},
   "outputs": [],
   "source": [
    "batch_size = 64\n",
    "test_batch_size = 128\n",
    "epochs = 5\n",
    "lr = 0.01\n",
    "cuda = False\n",
    "seed = 42\n",
    "optimizer_type = 'SGD' # Adam, RMSprop\n",
    "momentum = 0.0\n",
    "weight_decay = 1e-4\n",
    "\n",
    "use_cuda = cuda and torch.cuda.is_available()\n",
    "\n",
    "# Set seed \n",
    "np.random.seed(seed)\n",
    "torch.manual_seed(seed)\n",
    "if use_cuda:\n",
    "    torch.cuda.manual_seed(seed)\n",
    "    torch.cuda.manual_seed_all(seed)\n",
    "# Handel GPU stochasticity\n",
    "torch.backends.cudnn.enabled = use_cuda\n",
    "torch.backends.cudnn.benchmark = False\n",
    "torch.backends.cudnn.deterministic = True\n",
    "\n",
    "device = torch.device(\"cuda\" if use_cuda else \"cpu\")"
   ]
  },
  {
   "cell_type": "code",
   "execution_count": 3,
   "metadata": {},
   "outputs": [],
   "source": [
    "class Net(nn.Module):\n",
    "    def __init__(self, image_size=784):\n",
    "        super(Net, self).__init__()\n",
    "        self.fc1 = nn.Linear(image_size, 100, bias=True)\n",
    "        self.BN = nn.BatchNorm1d(100)\n",
    "        self.ReLU = nn.ReLU()\n",
    "        self.fc2 = nn.Linear(100, 10, bias=True)\n",
    "\n",
    "    def forward(self, x):\n",
    "        x = self.fc1(x)\n",
    "        x = self.BN(x)\n",
    "        x = self.ReLU(x)\n",
    "        logits = self.fc2(x)\n",
    "        return logits"
   ]
  },
  {
   "cell_type": "code",
   "execution_count": 4,
   "metadata": {},
   "outputs": [],
   "source": [
    "# transform data: scaling, augmentation, ...\n",
    "transform=transforms.Compose([\n",
    "        transforms.ToTensor(),  # Convert a PIL Image or numpy.ndarray to tensor\n",
    "        transforms.Normalize((0.1307,), (0.3081,))  # translate by 0.13 and scale by 0.308\n",
    "        ])\n",
    "\n",
    "# pytorch has a datasets class with predefined datasets that can be easily downloaded and manipulated\n",
    "dataset1 = datasets.MNIST('./data', train=True, download=True,\n",
    "                   transform=transform)\n",
    "dataset2 = datasets.MNIST('./data', train=False,\n",
    "                   transform=transform)\n",
    "\n",
    "# Data loader combines a dataset and a sampler, and provides an iterable over the given dataset\n",
    "# Here I set num_workers to 1. Set it to 4 when working in computational rich environments. \n",
    "train_loader = torch.utils.data.DataLoader(dataset1, batch_size=batch_size, shuffle=True, num_workers=1)\n",
    "test_loader = torch.utils.data.DataLoader(dataset2, batch_size=test_batch_size, num_workers=1)\n",
    "\n",
    "# create an instance of our model\n",
    "model = Net().to(device)\n",
    "# loss criterion\n",
    "criterion = nn.CrossEntropyLoss()\n",
    "\n",
    "# optimizer type\n",
    "if optimizer_type == 'SGD':\n",
    "    optimizer = optim.SGD(model.parameters(), lr=lr, momentum=momentum, weight_decay=weight_decay)\n",
    "elif optimizer_type == 'Adam':\n",
    "    optimizer = optim.Adam(model.parameters(), lr=lr, betas=(0.9, 0.999), weight_decay=weight_decay)\n",
    "elif optimizer_type == 'RMSProp':\n",
    "    optimizer = optim.Adam(model.parameters(), lr=lr, alpha=0.99, eps=1e-08, weight_decay=weight_decay)\n",
    "else:\n",
    "    NotImplementedError(\"optimizer not implemented\")"
   ]
  },
  {
   "cell_type": "code",
   "execution_count": 5,
   "metadata": {},
   "outputs": [],
   "source": [
    "def test():\n",
    "    # will notify all your layers that you are in eval mode, that way, \n",
    "    # batchnorm or dropout layers will work in eval mode instead of training mode\n",
    "    model.eval()\n",
    "    \n",
    "    test_loss = 0\n",
    "    correct = 0\n",
    "    \n",
    "    # torch.no_grad() impacts the autograd engine and deactivate it. \n",
    "    # It will reduce memory usage and speed up computations\n",
    "    with torch.no_grad():\n",
    "        for data, target in test_loader:\n",
    "            data, target = data.to(device).view(data.shape[0], 28*28), target.to(device)\n",
    "            output = model(data)\n",
    "            test_loss += criterion(output, target).item() * target.shape[0]  # sum up batch loss\n",
    "            pred = output.argmax(dim=1, keepdim=True)  # get the index of the max logit\n",
    "            correct += pred.eq(target.view_as(pred)).sum().item() # compare labels with estimation\n",
    "\n",
    "    test_loss /= len(test_loader.dataset)\n",
    "    print('\\nTest set loss: {:.4f}, Accuracy: {}/{} ({:.0f}%)\\n'.format(\n",
    "        test_loss, correct, len(test_loader.dataset),\n",
    "        100. * correct / len(test_loader.dataset)))"
   ]
  },
  {
   "cell_type": "code",
   "execution_count": 7,
   "metadata": {},
   "outputs": [
    {
     "name": "stdout",
     "output_type": "stream",
     "text": [
      "Train Epoch: 1 \tLoss: 0.171702\n",
      "Train Epoch: 2 \tLoss: 0.158831\n",
      "Train Epoch: 3 \tLoss: 0.145646\n",
      "Train Epoch: 4 \tLoss: 0.135475\n",
      "Train Epoch: 5 \tLoss: 0.126800\n",
      "\n",
      "Test set loss: 0.1217, Accuracy: 9682/10000 (97%)\n",
      "\n"
     ]
    }
   ],
   "source": [
    "model.train()\n",
    "for epoch in range(1, epochs + 1):\n",
    "    cumm_loss = 0\n",
    "    # iterate over the data\n",
    "    for batch_idx, (data, target) in enumerate(train_loader):\n",
    "        # flatten the data tensor and move it to the GPU (when using a GPU) \n",
    "        data, target = data.to(device).view(data.shape[0], 28*28), target.to(device)\n",
    "        \n",
    "        # Important! sets the gradients of all optimized torch.Tensors to zero. This is because by default, \n",
    "        # gradients are accumulated in buffers( i.e, not overwritten) whenever .backward() is called.\n",
    "        optimizer.zero_grad()\n",
    "        \n",
    "        # pass data through the model\n",
    "        logits = model(data)\n",
    "        \n",
    "        # suffer loss\n",
    "        loss = criterion(logits, target)\n",
    "        cumm_loss += loss.item()\n",
    "        \n",
    "        # Use autograd to compute the backward pass. This call will compute the gradient of loss with respect \n",
    "        # to all Tensors with requires_grad=True. This operation will free the computation graph\n",
    "        loss.backward()\n",
    "        \n",
    "        # Calling the step function on an Optimizer makes an update to its parameters\n",
    "        optimizer.step()\n",
    "        \n",
    "    print('Train Epoch: {} \\tLoss: {:.6f}'.format(epoch, cumm_loss / len(train_loader)))\n",
    "    \n",
    "test()"
   ]
  }
 ],
 "metadata": {
  "kernelspec": {
   "display_name": "Python 3",
   "language": "python",
   "name": "python3"
  },
  "language_info": {
   "codemirror_mode": {
    "name": "ipython",
    "version": 3
   },
   "file_extension": ".py",
   "mimetype": "text/x-python",
   "name": "python",
   "nbconvert_exporter": "python",
   "pygments_lexer": "ipython3",
   "version": "3.9.4"
  }
 },
 "nbformat": 4,
 "nbformat_minor": 4
}
